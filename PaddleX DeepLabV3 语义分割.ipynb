{
 "cells": [
  {
   "cell_type": "markdown",
   "metadata": {
    "collapsed": false
   },
   "source": [
    "# 作业1"
   ]
  },
  {
   "cell_type": "markdown",
   "metadata": {
    "collapsed": false
   },
   "source": [
    "![](https://ai-studio-static-online.cdn.bcebos.com/18afa39d2c934189921b95a8a624b6eb97924fadd214418b825a3a9d21ec53c1)\n"
   ]
  },
  {
   "cell_type": "markdown",
   "metadata": {
    "collapsed": false
   },
   "source": [
    "# 作业2"
   ]
  },
  {
   "cell_type": "markdown",
   "metadata": {
    "collapsed": false
   },
   "source": [
    "## 1. 安装PaddleX"
   ]
  },
  {
   "cell_type": "code",
   "execution_count": 2,
   "metadata": {
    "collapsed": false
   },
   "outputs": [
    {
     "name": "stdout",
     "output_type": "stream",
     "text": [
      "Looking in indexes: https://mirror.baidu.com/pypi/simple\n",
      "Collecting paddlex\n",
      "\u001b[?25l  Downloading https://mirror.baidu.com/pypi/packages/02/a4/90f3f1f997b65952d9517c74a3f672ba83721c124a481bc0cdc295e8adbc/paddlex-1.3.7-py3-none-any.whl (514kB)\n",
      "\u001b[K     |████████████████████████████████| 522kB 14.6MB/s eta 0:00:01\n",
      "\u001b[?25hCollecting paddleslim==1.1.1 (from paddlex)\n",
      "\u001b[?25l  Downloading https://mirror.baidu.com/pypi/packages/d1/77/e257227bed9a70ff0d35a4a3c4e70ac2d2362c803834c4c52018f7c4b762/paddleslim-1.1.1-py2.py3-none-any.whl (145kB)\n",
      "\u001b[K     |████████████████████████████████| 153kB 78.2MB/s eta 0:00:01\n",
      "\u001b[?25hRequirement already satisfied: sklearn in /opt/conda/envs/python35-paddle120-env/lib/python3.7/site-packages (from paddlex) (0.0)\n",
      "Requirement already satisfied: colorama in /opt/conda/envs/python35-paddle120-env/lib/python3.7/site-packages (from paddlex) (0.4.4)\n",
      "Requirement already satisfied: pyyaml in /opt/conda/envs/python35-paddle120-env/lib/python3.7/site-packages (from paddlex) (5.1.2)\n",
      "Requirement already satisfied: psutil in /opt/conda/envs/python35-paddle120-env/lib/python3.7/site-packages (from paddlex) (5.7.2)\n",
      "Collecting xlwt (from paddlex)\n",
      "\u001b[?25l  Downloading https://mirror.baidu.com/pypi/packages/44/48/def306413b25c3d01753603b1a222a011b8621aed27cd7f89cbc27e6b0f4/xlwt-1.3.0-py2.py3-none-any.whl (99kB)\n",
      "\u001b[K     |████████████████████████████████| 102kB 26.3MB/s ta 0:00:01\n",
      "\u001b[?25hRequirement already satisfied: flask-cors in /opt/conda/envs/python35-paddle120-env/lib/python3.7/site-packages (from paddlex) (3.0.8)\n",
      "Requirement already satisfied: tqdm in /opt/conda/envs/python35-paddle120-env/lib/python3.7/site-packages (from paddlex) (4.36.1)\n",
      "Requirement already satisfied: visualdl>=2.0.0 in /opt/conda/envs/python35-paddle120-env/lib/python3.7/site-packages (from paddlex) (2.1.1)\n",
      "Collecting pycocotools; platform_system != \"Windows\" (from paddlex)\n",
      "  Downloading https://mirror.baidu.com/pypi/packages/de/df/056875d697c45182ed6d2ae21f62015896fdb841906fe48e7268e791c467/pycocotools-2.0.2.tar.gz\n",
      "Requirement already satisfied: opencv-python in /opt/conda/envs/python35-paddle120-env/lib/python3.7/site-packages (from paddlex) (4.1.1.26)\n",
      "Collecting shapely>=1.7.0 (from paddlex)\n",
      "\u001b[?25l  Downloading https://mirror.baidu.com/pypi/packages/98/f8/db4d3426a1aba9d5dfcc83ed5a3e2935d2b1deb73d350642931791a61c37/Shapely-1.7.1-cp37-cp37m-manylinux1_x86_64.whl (1.0MB)\n",
      "\u001b[K     |████████████████████████████████| 1.0MB 12.8MB/s eta 0:00:01\n",
      "\u001b[?25hRequirement already satisfied: pyzmq in /opt/conda/envs/python35-paddle120-env/lib/python3.7/site-packages (from paddleslim==1.1.1->paddlex) (18.1.1)\n",
      "Requirement already satisfied: scikit-learn in /opt/conda/envs/python35-paddle120-env/lib/python3.7/site-packages (from sklearn->paddlex) (0.22.1)\n",
      "Requirement already satisfied: Flask>=0.9 in /opt/conda/envs/python35-paddle120-env/lib/python3.7/site-packages (from flask-cors->paddlex) (1.1.1)\n",
      "Requirement already satisfied: Six in /opt/conda/envs/python35-paddle120-env/lib/python3.7/site-packages (from flask-cors->paddlex) (1.15.0)\n",
      "Requirement already satisfied: Flask-Babel>=1.0.0 in /opt/conda/envs/python35-paddle120-env/lib/python3.7/site-packages (from visualdl>=2.0.0->paddlex) (1.0.0)\n",
      "Requirement already satisfied: flake8>=3.7.9 in /opt/conda/envs/python35-paddle120-env/lib/python3.7/site-packages (from visualdl>=2.0.0->paddlex) (3.8.2)\n",
      "Requirement already satisfied: numpy in /opt/conda/envs/python35-paddle120-env/lib/python3.7/site-packages (from visualdl>=2.0.0->paddlex) (1.16.4)\n",
      "Requirement already satisfied: pre-commit in /opt/conda/envs/python35-paddle120-env/lib/python3.7/site-packages (from visualdl>=2.0.0->paddlex) (1.21.0)\n",
      "Requirement already satisfied: shellcheck-py in /opt/conda/envs/python35-paddle120-env/lib/python3.7/site-packages (from visualdl>=2.0.0->paddlex) (0.7.1.1)\n",
      "Requirement already satisfied: bce-python-sdk in /opt/conda/envs/python35-paddle120-env/lib/python3.7/site-packages (from visualdl>=2.0.0->paddlex) (0.8.53)\n",
      "Requirement already satisfied: protobuf>=3.11.0 in /opt/conda/envs/python35-paddle120-env/lib/python3.7/site-packages (from visualdl>=2.0.0->paddlex) (3.14.0)\n",
      "Requirement already satisfied: requests in /opt/conda/envs/python35-paddle120-env/lib/python3.7/site-packages (from visualdl>=2.0.0->paddlex) (2.22.0)\n",
      "Requirement already satisfied: Pillow>=7.0.0 in /opt/conda/envs/python35-paddle120-env/lib/python3.7/site-packages (from visualdl>=2.0.0->paddlex) (7.1.2)\n",
      "Requirement already satisfied: setuptools>=18.0 in /opt/conda/envs/python35-paddle120-env/lib/python3.7/site-packages (from pycocotools; platform_system != \"Windows\"->paddlex) (41.4.0)\n",
      "Requirement already satisfied: cython>=0.27.3 in /opt/conda/envs/python35-paddle120-env/lib/python3.7/site-packages (from pycocotools; platform_system != \"Windows\"->paddlex) (0.29)\n",
      "Requirement already satisfied: matplotlib>=2.1.0 in /opt/conda/envs/python35-paddle120-env/lib/python3.7/site-packages (from pycocotools; platform_system != \"Windows\"->paddlex) (2.2.3)\n",
      "Requirement already satisfied: joblib>=0.11 in /opt/conda/envs/python35-paddle120-env/lib/python3.7/site-packages (from scikit-learn->sklearn->paddlex) (0.14.1)\n",
      "Requirement already satisfied: scipy>=0.17.0 in /opt/conda/envs/python35-paddle120-env/lib/python3.7/site-packages (from scikit-learn->sklearn->paddlex) (1.3.0)\n",
      "Requirement already satisfied: Werkzeug>=0.15 in /opt/conda/envs/python35-paddle120-env/lib/python3.7/site-packages (from Flask>=0.9->flask-cors->paddlex) (0.16.0)\n",
      "Requirement already satisfied: itsdangerous>=0.24 in /opt/conda/envs/python35-paddle120-env/lib/python3.7/site-packages (from Flask>=0.9->flask-cors->paddlex) (1.1.0)\n",
      "Requirement already satisfied: Jinja2>=2.10.1 in /opt/conda/envs/python35-paddle120-env/lib/python3.7/site-packages (from Flask>=0.9->flask-cors->paddlex) (2.10.1)\n",
      "Requirement already satisfied: click>=5.1 in /opt/conda/envs/python35-paddle120-env/lib/python3.7/site-packages (from Flask>=0.9->flask-cors->paddlex) (7.0)\n",
      "Requirement already satisfied: pytz in /opt/conda/envs/python35-paddle120-env/lib/python3.7/site-packages (from Flask-Babel>=1.0.0->visualdl>=2.0.0->paddlex) (2019.3)\n",
      "Requirement already satisfied: Babel>=2.3 in /opt/conda/envs/python35-paddle120-env/lib/python3.7/site-packages (from Flask-Babel>=1.0.0->visualdl>=2.0.0->paddlex) (2.8.0)\n",
      "Requirement already satisfied: pycodestyle<2.7.0,>=2.6.0a1 in /opt/conda/envs/python35-paddle120-env/lib/python3.7/site-packages (from flake8>=3.7.9->visualdl>=2.0.0->paddlex) (2.6.0)\n",
      "Requirement already satisfied: importlib-metadata; python_version < \"3.8\" in /opt/conda/envs/python35-paddle120-env/lib/python3.7/site-packages (from flake8>=3.7.9->visualdl>=2.0.0->paddlex) (0.23)\n",
      "Requirement already satisfied: mccabe<0.7.0,>=0.6.0 in /opt/conda/envs/python35-paddle120-env/lib/python3.7/site-packages (from flake8>=3.7.9->visualdl>=2.0.0->paddlex) (0.6.1)\n",
      "Requirement already satisfied: pyflakes<2.3.0,>=2.2.0 in /opt/conda/envs/python35-paddle120-env/lib/python3.7/site-packages (from flake8>=3.7.9->visualdl>=2.0.0->paddlex) (2.2.0)\n",
      "Requirement already satisfied: cfgv>=2.0.0 in /opt/conda/envs/python35-paddle120-env/lib/python3.7/site-packages (from pre-commit->visualdl>=2.0.0->paddlex) (2.0.1)\n",
      "Requirement already satisfied: aspy.yaml in /opt/conda/envs/python35-paddle120-env/lib/python3.7/site-packages (from pre-commit->visualdl>=2.0.0->paddlex) (1.3.0)\n",
      "Requirement already satisfied: virtualenv>=15.2 in /opt/conda/envs/python35-paddle120-env/lib/python3.7/site-packages (from pre-commit->visualdl>=2.0.0->paddlex) (16.7.9)\n",
      "Requirement already satisfied: toml in /opt/conda/envs/python35-paddle120-env/lib/python3.7/site-packages (from pre-commit->visualdl>=2.0.0->paddlex) (0.10.0)\n",
      "Requirement already satisfied: nodeenv>=0.11.1 in /opt/conda/envs/python35-paddle120-env/lib/python3.7/site-packages (from pre-commit->visualdl>=2.0.0->paddlex) (1.3.4)\n",
      "Requirement already satisfied: identify>=1.0.0 in /opt/conda/envs/python35-paddle120-env/lib/python3.7/site-packages (from pre-commit->visualdl>=2.0.0->paddlex) (1.4.10)\n",
      "Requirement already satisfied: future>=0.6.0 in /opt/conda/envs/python35-paddle120-env/lib/python3.7/site-packages (from bce-python-sdk->visualdl>=2.0.0->paddlex) (0.18.0)\n",
      "Requirement already satisfied: pycryptodome>=3.8.0 in /opt/conda/envs/python35-paddle120-env/lib/python3.7/site-packages (from bce-python-sdk->visualdl>=2.0.0->paddlex) (3.9.9)\n",
      "Requirement already satisfied: chardet<3.1.0,>=3.0.2 in /opt/conda/envs/python35-paddle120-env/lib/python3.7/site-packages (from requests->visualdl>=2.0.0->paddlex) (3.0.4)\n",
      "Requirement already satisfied: urllib3!=1.25.0,!=1.25.1,<1.26,>=1.21.1 in /opt/conda/envs/python35-paddle120-env/lib/python3.7/site-packages (from requests->visualdl>=2.0.0->paddlex) (1.25.6)\n",
      "Requirement already satisfied: certifi>=2017.4.17 in /opt/conda/envs/python35-paddle120-env/lib/python3.7/site-packages (from requests->visualdl>=2.0.0->paddlex) (2019.9.11)\n",
      "Requirement already satisfied: idna<2.9,>=2.5 in /opt/conda/envs/python35-paddle120-env/lib/python3.7/site-packages (from requests->visualdl>=2.0.0->paddlex) (2.8)\n",
      "Requirement already satisfied: pyparsing!=2.0.4,!=2.1.2,!=2.1.6,>=2.0.1 in /opt/conda/envs/python35-paddle120-env/lib/python3.7/site-packages (from matplotlib>=2.1.0->pycocotools; platform_system != \"Windows\"->paddlex) (2.4.2)\n",
      "Requirement already satisfied: python-dateutil>=2.1 in /opt/conda/envs/python35-paddle120-env/lib/python3.7/site-packages (from matplotlib>=2.1.0->pycocotools; platform_system != \"Windows\"->paddlex) (2.8.0)\n",
      "Requirement already satisfied: cycler>=0.10 in /opt/conda/envs/python35-paddle120-env/lib/python3.7/site-packages (from matplotlib>=2.1.0->pycocotools; platform_system != \"Windows\"->paddlex) (0.10.0)\n",
      "Requirement already satisfied: kiwisolver>=1.0.1 in /opt/conda/envs/python35-paddle120-env/lib/python3.7/site-packages (from matplotlib>=2.1.0->pycocotools; platform_system != \"Windows\"->paddlex) (1.1.0)\n",
      "Requirement already satisfied: MarkupSafe>=0.23 in /opt/conda/envs/python35-paddle120-env/lib/python3.7/site-packages (from Jinja2>=2.10.1->Flask>=0.9->flask-cors->paddlex) (1.1.1)\n",
      "Requirement already satisfied: zipp>=0.5 in /opt/conda/envs/python35-paddle120-env/lib/python3.7/site-packages (from importlib-metadata; python_version < \"3.8\"->flake8>=3.7.9->visualdl>=2.0.0->paddlex) (0.6.0)\n",
      "Requirement already satisfied: more-itertools in /opt/conda/envs/python35-paddle120-env/lib/python3.7/site-packages (from zipp>=0.5->importlib-metadata; python_version < \"3.8\"->flake8>=3.7.9->visualdl>=2.0.0->paddlex) (7.2.0)\n",
      "Building wheels for collected packages: pycocotools\n",
      "  Building wheel for pycocotools (setup.py) ... \u001b[?25ldone\n",
      "\u001b[?25h  Created wheel for pycocotools: filename=pycocotools-2.0.2-cp37-cp37m-linux_x86_64.whl size=278365 sha256=7308aa001d53f415148142fe6e666c960e8ea2871ec2ce13cdb368a2ebd83a61\n",
      "  Stored in directory: /home/aistudio/.cache/pip/wheels/fb/44/67/8baa69040569b1edbd7776ec6f82c387663e724908aaa60963\n",
      "Successfully built pycocotools\n",
      "Installing collected packages: paddleslim, xlwt, pycocotools, shapely, paddlex\n",
      "Successfully installed paddleslim-1.1.1 paddlex-1.3.7 pycocotools-2.0.2 shapely-1.7.1 xlwt-1.3.0\n"
     ]
    }
   ],
   "source": [
    "! pip install paddlex -i https://mirror.baidu.com/pypi/simple"
   ]
  },
  {
   "cell_type": "markdown",
   "metadata": {
    "collapsed": false
   },
   "source": [
    "## 2. 准备视盘语义分割数据集"
   ]
  },
  {
   "cell_type": "code",
   "execution_count": null,
   "metadata": {
    "collapsed": false
   },
   "outputs": [
    {
     "name": "stdout",
     "output_type": "stream",
     "text": [
      "--2021-04-18 20:53:37--  https://bj.bcebos.com/paddlex/datasets/optic_disc_seg.tar.gz\n",
      "Resolving bj.bcebos.com (bj.bcebos.com)... 182.61.200.195, 182.61.200.229, 2409:8c00:6c21:10ad:0:ff:b00e:67d\n",
      "Connecting to bj.bcebos.com (bj.bcebos.com)|182.61.200.195|:443... connected.\n",
      "HTTP request sent, awaiting response... 200 OK\n",
      "Length: 19077558 (18M) [application/octet-stream]\n",
      "Saving to: ‘optic_disc_seg.tar.gz’\n",
      "\n",
      "optic_disc_seg.tar. 100%[===================>]  18.19M  37.0MB/s    in 0.5s    \n",
      "\n",
      "2021-04-18 20:53:38 (37.0 MB/s) - ‘optic_disc_seg.tar.gz’ saved [19077558/19077558]\n",
      "\n"
     ]
    }
   ],
   "source": [
    "! wget https://bj.bcebos.com/paddlex/datasets/optic_disc_seg.tar.gz\n",
    "! tar xzf optic_disc_seg.tar.gz"
   ]
  },
  {
   "cell_type": "markdown",
   "metadata": {
    "collapsed": false
   },
   "source": [
    "## 3. 模型训练\n",
    "\n",
    "### 3.1 配置GPU"
   ]
  },
  {
   "cell_type": "code",
   "execution_count": 3,
   "metadata": {
    "collapsed": false
   },
   "outputs": [],
   "source": [
    "# 设置使用0号GPU卡（如无GPU，执行此代码后仍然会使用CPU训练模型）\n",
    "import matplotlib\n",
    "matplotlib.use('Agg') \n",
    "import os\n",
    "# os.environ['CUDA_VISIBLE_DEVICES'] = '0'\n",
    "import paddlex as pdx"
   ]
  },
  {
   "cell_type": "markdown",
   "metadata": {
    "collapsed": false
   },
   "source": [
    "### 3.2 定义图像预处理流程transforms"
   ]
  },
  {
   "cell_type": "code",
   "execution_count": 4,
   "metadata": {
    "collapsed": false
   },
   "outputs": [],
   "source": [
    "from paddlex.seg import transforms\n",
    "train_transforms = transforms.Compose([\n",
    "    transforms.RandomHorizontalFlip(),\n",
    "    transforms.Resize(target_size=512),\n",
    "    transforms.RandomPaddingCrop(crop_size=500),\n",
    "    transforms.Normalize()\n",
    "])\n",
    "eval_transforms = transforms.Compose([\n",
    "    transforms.Resize(512),\n",
    "    transforms.Normalize()\n",
    "])"
   ]
  },
  {
   "cell_type": "markdown",
   "metadata": {
    "collapsed": false
   },
   "source": [
    "### 3.3 定义数据集Dataset (提供的数据及链接失效了！！！: https://pan.baidu.com/s/1dOre-41p9OX8x3nl9vwL0g  密码: fds9)\n",
    "### 只能使用别的数据集了"
   ]
  },
  {
   "cell_type": "code",
   "execution_count": 5,
   "metadata": {
    "collapsed": false
   },
   "outputs": [
    {
     "name": "stdout",
     "output_type": "stream",
     "text": [
      "2021-04-18 21:53:46 [INFO]\t267 samples in file optic_disc_seg/train_list.txt\n",
      "2021-04-18 21:53:46 [INFO]\t76 samples in file optic_disc_seg/val_list.txt\n"
     ]
    }
   ],
   "source": [
    "train_dataset = pdx.datasets.SegDataset(\n",
    "    data_dir='optic_disc_seg',\n",
    "    file_list='optic_disc_seg/train_list.txt',\n",
    "    label_list='optic_disc_seg/labels.txt',\n",
    "    transforms=train_transforms,\n",
    "    shuffle=True)\n",
    "eval_dataset = pdx.datasets.SegDataset(\n",
    "    data_dir='optic_disc_seg',\n",
    "    file_list='optic_disc_seg/val_list.txt',\n",
    "    label_list='optic_disc_seg/labels.txt',\n",
    "    transforms=eval_transforms)"
   ]
  },
  {
   "cell_type": "markdown",
   "metadata": {
    "collapsed": false
   },
   "source": [
    "### 3.4 模型开始训练"
   ]
  },
  {
   "cell_type": "code",
   "execution_count": 6,
   "metadata": {
    "collapsed": false
   },
   "outputs": [
    {
     "name": "stderr",
     "output_type": "stream",
     "text": [
      "2021-04-18 21:53:51,012-INFO: If regularizer of a Parameter has been set by 'fluid.ParamAttr' or 'fluid.WeightNormParamAttr' already. The Regularization[L2Decay, regularization_coeff=0.000040] in Optimizer will not take effect, and it will only be applied to other Parameters!\n"
     ]
    },
    {
     "name": "stdout",
     "output_type": "stream",
     "text": [
      "2021-04-18 21:53:51 [INFO]\tDecompressing output/deeplab/pretrain/MobileNetV2_pretrained.tar...\n",
      "2021-04-18 21:53:55 [INFO]\tLoad pretrain weights from output/deeplab/pretrain/MobileNetV2_pretrained.\n"
     ]
    },
    {
     "name": "stderr",
     "output_type": "stream",
     "text": [
      "2021-04-18 21:53:55,529-WARNING: output/deeplab/pretrain/MobileNetV2_pretrained.pdparams not found, try to load model file saved with [ save_params, save_persistables, save_vars ]\n"
     ]
    },
    {
     "name": "stdout",
     "output_type": "stream",
     "text": [
      "2021-04-18 21:53:55 [INFO]\tThere are 260 varaibles in output/deeplab/pretrain/MobileNetV2_pretrained are loaded.\n",
      "2021-04-18 21:54:01 [INFO]\t[TRAIN] Epoch=1/40, Step=2/66, loss=1.432815, lr=0.009997, time_each_step=2.75s, eta=2:35:35\n",
      "2021-04-18 21:54:01 [INFO]\t[TRAIN] Epoch=1/40, Step=4/66, loss=0.353334, lr=0.00999, time_each_step=1.46s, eta=1:22:25\n",
      "2021-04-18 21:54:02 [INFO]\t[TRAIN] Epoch=1/40, Step=6/66, loss=0.123251, lr=0.009983, time_each_step=1.03s, eta=0:58:20\n",
      "2021-04-18 21:54:02 [INFO]\t[TRAIN] Epoch=1/40, Step=8/66, loss=0.123169, lr=0.009976, time_each_step=0.81s, eta=0:45:57\n",
      "2021-04-18 21:54:02 [INFO]\t[TRAIN] Epoch=1/40, Step=10/66, loss=0.156338, lr=0.009969, time_each_step=0.68s, eta=0:38:30\n",
      "2021-04-18 21:54:03 [INFO]\t[TRAIN] Epoch=1/40, Step=12/66, loss=0.14013, lr=0.009962, time_each_step=0.6s, eta=0:33:49\n",
      "2021-04-18 21:54:03 [INFO]\t[TRAIN] Epoch=1/40, Step=14/66, loss=0.210303, lr=0.009956, time_each_step=0.53s, eta=0:30:1\n",
      "2021-04-18 21:54:03 [INFO]\t[TRAIN] Epoch=1/40, Step=16/66, loss=0.280706, lr=0.009949, time_each_step=0.48s, eta=0:26:59\n",
      "2021-04-18 21:54:03 [INFO]\t[TRAIN] Epoch=1/40, Step=18/66, loss=0.21402, lr=0.009942, time_each_step=0.43s, eta=0:24:28\n",
      "2021-04-18 21:54:03 [INFO]\t[TRAIN] Epoch=1/40, Step=20/66, loss=0.236526, lr=0.009935, time_each_step=0.4s, eta=0:22:25\n",
      "2021-04-18 21:54:03 [INFO]\t[TRAIN] Epoch=1/40, Step=22/66, loss=0.18767, lr=0.009928, time_each_step=0.13s, eta=0:7:20\n",
      "2021-04-18 21:54:04 [INFO]\t[TRAIN] Epoch=1/40, Step=24/66, loss=0.19075, lr=0.009922, time_each_step=0.12s, eta=0:6:46\n",
      "2021-04-18 21:54:04 [INFO]\t[TRAIN] Epoch=1/40, Step=26/66, loss=0.204831, lr=0.009915, time_each_step=0.11s, eta=0:6:8\n",
      "2021-04-18 21:54:04 [INFO]\t[TRAIN] Epoch=1/40, Step=28/66, loss=0.157033, lr=0.009908, time_each_step=0.1s, eta=0:5:37\n",
      "2021-04-18 21:54:04 [INFO]\t[TRAIN] Epoch=1/40, Step=30/66, loss=0.178543, lr=0.009901, time_each_step=0.09s, eta=0:5:7\n",
      "2021-04-18 21:54:04 [INFO]\t[TRAIN] Epoch=1/40, Step=32/66, loss=0.139173, lr=0.009894, time_each_step=0.08s, eta=0:4:27\n",
      "2021-04-18 21:54:04 [INFO]\t[TRAIN] Epoch=1/40, Step=34/66, loss=0.127133, lr=0.009887, time_each_step=0.07s, eta=0:4:6\n",
      "2021-04-18 21:54:04 [INFO]\t[TRAIN] Epoch=1/40, Step=36/66, loss=0.141808, lr=0.009881, time_each_step=0.07s, eta=0:3:53\n",
      "2021-04-18 21:54:05 [INFO]\t[TRAIN] Epoch=1/40, Step=38/66, loss=0.101868, lr=0.009874, time_each_step=0.07s, eta=0:3:49\n",
      "2021-04-18 21:54:05 [INFO]\t[TRAIN] Epoch=1/40, Step=40/66, loss=0.14097, lr=0.009867, time_each_step=0.07s, eta=0:3:46\n",
      "2021-04-18 21:54:05 [INFO]\t[TRAIN] Epoch=1/40, Step=42/66, loss=0.161749, lr=0.00986, time_each_step=0.07s, eta=0:3:45\n",
      "2021-04-18 21:54:05 [INFO]\t[TRAIN] Epoch=1/40, Step=44/66, loss=0.199742, lr=0.009853, time_each_step=0.07s, eta=0:3:45\n",
      "2021-04-18 21:54:05 [INFO]\t[TRAIN] Epoch=1/40, Step=46/66, loss=0.09913, lr=0.009846, time_each_step=0.07s, eta=0:3:44\n",
      "2021-04-18 21:54:05 [INFO]\t[TRAIN] Epoch=1/40, Step=48/66, loss=0.091191, lr=0.00984, time_each_step=0.07s, eta=0:3:45\n",
      "2021-04-18 21:54:05 [INFO]\t[TRAIN] Epoch=1/40, Step=50/66, loss=0.108318, lr=0.009833, time_each_step=0.07s, eta=0:3:44\n",
      "2021-04-18 21:54:05 [INFO]\t[TRAIN] Epoch=1/40, Step=52/66, loss=0.152067, lr=0.009826, time_each_step=0.07s, eta=0:3:43\n",
      "2021-04-18 21:54:06 [INFO]\t[TRAIN] Epoch=1/40, Step=54/66, loss=0.15206, lr=0.009819, time_each_step=0.07s, eta=0:3:44\n",
      "2021-04-18 21:54:06 [INFO]\t[TRAIN] Epoch=1/40, Step=56/66, loss=0.063827, lr=0.009812, time_each_step=0.07s, eta=0:3:44\n",
      "2021-04-18 21:54:06 [INFO]\t[TRAIN] Epoch=1/40, Step=58/66, loss=0.076071, lr=0.009805, time_each_step=0.07s, eta=0:3:44\n",
      "2021-04-18 21:54:06 [INFO]\t[TRAIN] Epoch=1/40, Step=60/66, loss=0.084603, lr=0.009799, time_each_step=0.07s, eta=0:3:44\n",
      "2021-04-18 21:54:06 [INFO]\t[TRAIN] Epoch=1/40, Step=62/66, loss=0.071086, lr=0.009792, time_each_step=0.07s, eta=0:3:44\n",
      "2021-04-18 21:54:06 [INFO]\t[TRAIN] Epoch=1/40, Step=64/66, loss=0.063275, lr=0.009785, time_each_step=0.07s, eta=0:3:43\n",
      "2021-04-18 21:54:06 [INFO]\t[TRAIN] Epoch=1/40, Step=66/66, loss=0.073557, lr=0.009778, time_each_step=0.07s, eta=0:3:43\n",
      "2021-04-18 21:54:06 [INFO]\t[TRAIN] Epoch 1 finished, loss=0.209549, lr=0.009889 .\n",
      "2021-04-18 21:54:06 [INFO]\tStart to evaluating(total_samples=76, total_steps=19)...\n"
     ]
    },
    {
     "name": "stderr",
     "output_type": "stream",
     "text": [
      "  0%|          | 0/19 [00:00<?, ?it/s]share_vars_from is set, scope is ignored.\n",
      "100%|██████████| 19/19 [00:03<00:00,  5.18it/s]\n"
     ]
    },
    {
     "name": "stdout",
     "output_type": "stream",
     "text": [
      "2021-04-18 21:54:10 [INFO]\t[EVAL] Finished, Epoch=1, miou=0.490819, category_iou=[0.98163875 0.        ], oacc=0.981639, category_acc=[0.98163875 0.        ], kappa=0.0, category_F1-score=[0.99073431 0.        ] .\n",
      "2021-04-18 21:54:10 [INFO]\tModel saved in output/deeplab/best_model.\n",
      "2021-04-18 21:54:11 [INFO]\tModel saved in output/deeplab/epoch_1.\n",
      "2021-04-18 21:54:11 [INFO]\tCurrent evaluated best model in eval_dataset is epoch_1, miou=0.4908193727031779\n",
      "2021-04-18 21:54:13 [INFO]\t[TRAIN] Epoch=2/40, Step=2/66, loss=0.044452, lr=0.009771, time_each_step=0.19s, eta=0:10:2\n",
      "2021-04-18 21:54:14 [INFO]\t[TRAIN] Epoch=2/40, Step=4/66, loss=0.045499, lr=0.009764, time_each_step=0.2s, eta=0:10:2\n",
      "2021-04-18 21:54:14 [INFO]\t[TRAIN] Epoch=2/40, Step=6/66, loss=0.060221, lr=0.009758, time_each_step=0.21s, eta=0:10:2\n",
      "2021-04-18 21:54:14 [INFO]\t[TRAIN] Epoch=2/40, Step=8/66, loss=0.040262, lr=0.009751, time_each_step=0.21s, eta=0:10:2\n",
      "2021-04-18 21:54:15 [INFO]\t[TRAIN] Epoch=2/40, Step=10/66, loss=0.068417, lr=0.009744, time_each_step=0.22s, eta=0:10:2\n",
      "2021-04-18 21:54:15 [INFO]\t[TRAIN] Epoch=2/40, Step=12/66, loss=0.073386, lr=0.009737, time_each_step=0.23s, eta=0:10:2\n",
      "2021-04-18 21:54:15 [INFO]\t[TRAIN] Epoch=2/40, Step=14/66, loss=0.0592, lr=0.00973, time_each_step=0.23s, eta=0:10:2\n",
      "2021-04-18 21:54:15 [INFO]\t[TRAIN] Epoch=2/40, Step=16/66, loss=0.046671, lr=0.009723, time_each_step=0.24s, eta=0:10:2\n",
      "2021-04-18 21:54:16 [INFO]\t[TRAIN] Epoch=2/40, Step=18/66, loss=0.04941, lr=0.009717, time_each_step=0.25s, eta=0:10:2\n",
      "2021-04-18 21:54:16 [INFO]\t[TRAIN] Epoch=2/40, Step=20/66, loss=0.041469, lr=0.00971, time_each_step=0.26s, eta=0:10:2\n",
      "2021-04-18 21:54:16 [INFO]\t[TRAIN] Epoch=2/40, Step=22/66, loss=0.056563, lr=0.009703, time_each_step=0.14s, eta=0:9:56\n",
      "2021-04-18 21:54:16 [INFO]\t[TRAIN] Epoch=2/40, Step=24/66, loss=0.041436, lr=0.009696, time_each_step=0.13s, eta=0:9:55\n",
      "2021-04-18 21:54:16 [INFO]\t[TRAIN] Epoch=2/40, Step=26/66, loss=0.048935, lr=0.009689, time_each_step=0.12s, eta=0:9:55\n",
      "2021-04-18 21:54:17 [INFO]\t[TRAIN] Epoch=2/40, Step=28/66, loss=0.038893, lr=0.009682, time_each_step=0.11s, eta=0:9:54\n",
      "2021-04-18 21:54:17 [INFO]\t[TRAIN] Epoch=2/40, Step=30/66, loss=0.044064, lr=0.009676, time_each_step=0.1s, eta=0:9:54\n",
      "2021-04-18 21:54:17 [INFO]\t[TRAIN] Epoch=2/40, Step=32/66, loss=0.033838, lr=0.009669, time_each_step=0.1s, eta=0:9:53\n",
      "2021-04-18 21:54:17 [INFO]\t[TRAIN] Epoch=2/40, Step=34/66, loss=0.029772, lr=0.009662, time_each_step=0.09s, eta=0:9:53\n",
      "2021-04-18 21:54:17 [INFO]\t[TRAIN] Epoch=2/40, Step=36/66, loss=0.050814, lr=0.009655, time_each_step=0.08s, eta=0:9:52\n",
      "2021-04-18 21:54:17 [INFO]\t[TRAIN] Epoch=2/40, Step=38/66, loss=0.039651, lr=0.009648, time_each_step=0.08s, eta=0:9:52\n",
      "2021-04-18 21:54:17 [INFO]\t[TRAIN] Epoch=2/40, Step=40/66, loss=0.043135, lr=0.009641, time_each_step=0.07s, eta=0:9:52\n",
      "2021-04-18 21:54:18 [INFO]\t[TRAIN] Epoch=2/40, Step=42/66, loss=0.058932, lr=0.009634, time_each_step=0.07s, eta=0:9:52\n",
      "2021-04-18 21:54:18 [INFO]\t[TRAIN] Epoch=2/40, Step=44/66, loss=0.063212, lr=0.009628, time_each_step=0.07s, eta=0:9:51\n",
      "2021-04-18 21:54:18 [INFO]\t[TRAIN] Epoch=2/40, Step=46/66, loss=0.073578, lr=0.009621, time_each_step=0.07s, eta=0:9:51\n",
      "2021-04-18 21:54:18 [INFO]\t[TRAIN] Epoch=2/40, Step=48/66, loss=0.029801, lr=0.009614, time_each_step=0.07s, eta=0:9:51\n",
      "2021-04-18 21:54:18 [INFO]\t[TRAIN] Epoch=2/40, Step=50/66, loss=0.02943, lr=0.009607, time_each_step=0.07s, eta=0:9:51\n",
      "2021-04-18 21:54:18 [INFO]\t[TRAIN] Epoch=2/40, Step=52/66, loss=0.03374, lr=0.0096, time_each_step=0.07s, eta=0:9:51\n",
      "2021-04-18 21:54:18 [INFO]\t[TRAIN] Epoch=2/40, Step=54/66, loss=0.054133, lr=0.009593, time_each_step=0.07s, eta=0:9:51\n",
      "2021-04-18 21:54:18 [INFO]\t[TRAIN] Epoch=2/40, Step=56/66, loss=0.026467, lr=0.009587, time_each_step=0.07s, eta=0:9:51\n",
      "2021-04-18 21:54:19 [INFO]\t[TRAIN] Epoch=2/40, Step=58/66, loss=0.029628, lr=0.00958, time_each_step=0.07s, eta=0:9:50\n",
      "2021-04-18 21:54:19 [INFO]\t[TRAIN] Epoch=2/40, Step=60/66, loss=0.029866, lr=0.009573, time_each_step=0.07s, eta=0:9:50\n",
      "2021-04-18 21:54:19 [INFO]\t[TRAIN] Epoch=2/40, Step=62/66, loss=0.036725, lr=0.009566, time_each_step=0.07s, eta=0:9:50\n",
      "2021-04-18 21:54:19 [INFO]\t[TRAIN] Epoch=2/40, Step=64/66, loss=0.046126, lr=0.009559, time_each_step=0.07s, eta=0:9:50\n",
      "2021-04-18 21:54:19 [INFO]\t[TRAIN] Epoch=2/40, Step=66/66, loss=0.040673, lr=0.009552, time_each_step=0.07s, eta=0:9:50\n",
      "2021-04-18 21:54:19 [INFO]\t[TRAIN] Epoch 2 finished, loss=0.045247, lr=0.009664 .\n",
      "2021-04-18 21:54:19 [INFO]\tStart to evaluating(total_samples=76, total_steps=19)...\n"
     ]
    },
    {
     "name": "stderr",
     "output_type": "stream",
     "text": [
      "100%|██████████| 19/19 [00:03<00:00,  5.27it/s]\n"
     ]
    },
    {
     "name": "stdout",
     "output_type": "stream",
     "text": [
      "2021-04-18 21:54:23 [INFO]\t[EVAL] Finished, Epoch=2, miou=0.490819, category_iou=[0.98163875 0.        ], oacc=0.981639, category_acc=[0.98163875 0.        ], kappa=0.0, category_F1-score=[0.99073431 0.        ] .\n",
      "2021-04-18 21:54:23 [INFO]\tModel saved in output/deeplab/epoch_2.\n",
      "2021-04-18 21:54:23 [INFO]\tCurrent evaluated best model in eval_dataset is epoch_1, miou=0.4908193727031779\n",
      "2021-04-18 21:54:26 [INFO]\t[TRAIN] Epoch=3/40, Step=2/66, loss=0.028353, lr=0.009545, time_each_step=0.19s, eta=0:7:52\n",
      "2021-04-18 21:54:26 [INFO]\t[TRAIN] Epoch=3/40, Step=4/66, loss=0.026166, lr=0.009539, time_each_step=0.19s, eta=0:7:52\n",
      "2021-04-18 21:54:26 [INFO]\t[TRAIN] Epoch=3/40, Step=6/66, loss=0.045191, lr=0.009532, time_each_step=0.2s, eta=0:7:52\n",
      "2021-04-18 21:54:26 [INFO]\t[TRAIN] Epoch=3/40, Step=8/66, loss=0.025478, lr=0.009525, time_each_step=0.21s, eta=0:7:52\n",
      "2021-04-18 21:54:27 [INFO]\t[TRAIN] Epoch=3/40, Step=10/66, loss=0.050081, lr=0.009518, time_each_step=0.22s, eta=0:7:52\n",
      "2021-04-18 21:54:27 [INFO]\t[TRAIN] Epoch=3/40, Step=12/66, loss=0.032644, lr=0.009511, time_each_step=0.22s, eta=0:7:52\n",
      "2021-04-18 21:54:27 [INFO]\t[TRAIN] Epoch=3/40, Step=14/66, loss=0.040323, lr=0.009504, time_each_step=0.23s, eta=0:7:52\n",
      "2021-04-18 21:54:28 [INFO]\t[TRAIN] Epoch=3/40, Step=16/66, loss=0.03784, lr=0.009497, time_each_step=0.24s, eta=0:7:52\n",
      "2021-04-18 21:54:28 [INFO]\t[TRAIN] Epoch=3/40, Step=18/66, loss=0.05721, lr=0.009491, time_each_step=0.25s, eta=0:7:52\n",
      "2021-04-18 21:54:28 [INFO]\t[TRAIN] Epoch=3/40, Step=20/66, loss=0.023126, lr=0.009484, time_each_step=0.25s, eta=0:7:52\n",
      "2021-04-18 21:54:28 [INFO]\t[TRAIN] Epoch=3/40, Step=22/66, loss=0.053476, lr=0.009477, time_each_step=0.14s, eta=0:7:46\n",
      "2021-04-18 21:54:29 [INFO]\t[TRAIN] Epoch=3/40, Step=24/66, loss=0.019463, lr=0.00947, time_each_step=0.13s, eta=0:7:45\n",
      "2021-04-18 21:54:29 [INFO]\t[TRAIN] Epoch=3/40, Step=26/66, loss=0.019429, lr=0.009463, time_each_step=0.12s, eta=0:7:45\n",
      "2021-04-18 21:54:29 [INFO]\t[TRAIN] Epoch=3/40, Step=28/66, loss=0.028686, lr=0.009456, time_each_step=0.12s, eta=0:7:44\n",
      "2021-04-18 21:54:29 [INFO]\t[TRAIN] Epoch=3/40, Step=30/66, loss=0.02437, lr=0.009449, time_each_step=0.11s, eta=0:7:44\n",
      "2021-04-18 21:54:29 [INFO]\t[TRAIN] Epoch=3/40, Step=32/66, loss=0.019497, lr=0.009443, time_each_step=0.1s, eta=0:7:43\n",
      "2021-04-18 21:54:29 [INFO]\t[TRAIN] Epoch=3/40, Step=34/66, loss=0.029635, lr=0.009436, time_each_step=0.09s, eta=0:7:43\n",
      "2021-04-18 21:54:29 [INFO]\t[TRAIN] Epoch=3/40, Step=36/66, loss=0.024046, lr=0.009429, time_each_step=0.08s, eta=0:7:42\n",
      "2021-04-18 21:54:29 [INFO]\t[TRAIN] Epoch=3/40, Step=38/66, loss=0.032241, lr=0.009422, time_each_step=0.07s, eta=0:7:42\n",
      "2021-04-18 21:54:30 [INFO]\t[TRAIN] Epoch=3/40, Step=40/66, loss=0.031681, lr=0.009415, time_each_step=0.07s, eta=0:7:42\n",
      "2021-04-18 21:54:30 [INFO]\t[TRAIN] Epoch=3/40, Step=42/66, loss=0.022397, lr=0.009408, time_each_step=0.07s, eta=0:7:42\n",
      "2021-04-18 21:54:30 [INFO]\t[TRAIN] Epoch=3/40, Step=44/66, loss=0.015376, lr=0.009401, time_each_step=0.07s, eta=0:7:41\n",
      "2021-04-18 21:54:30 [INFO]\t[TRAIN] Epoch=3/40, Step=46/66, loss=0.028687, lr=0.009395, time_each_step=0.07s, eta=0:7:41\n",
      "2021-04-18 21:54:30 [INFO]\t[TRAIN] Epoch=3/40, Step=48/66, loss=0.035501, lr=0.009388, time_each_step=0.07s, eta=0:7:41\n",
      "2021-04-18 21:54:30 [INFO]\t[TRAIN] Epoch=3/40, Step=50/66, loss=0.018562, lr=0.009381, time_each_step=0.07s, eta=0:7:41\n",
      "2021-04-18 21:54:30 [INFO]\t[TRAIN] Epoch=3/40, Step=52/66, loss=0.024384, lr=0.009374, time_each_step=0.07s, eta=0:7:41\n",
      "2021-04-18 21:54:31 [INFO]\t[TRAIN] Epoch=3/40, Step=54/66, loss=0.019495, lr=0.009367, time_each_step=0.07s, eta=0:7:41\n",
      "2021-04-18 21:54:31 [INFO]\t[TRAIN] Epoch=3/40, Step=56/66, loss=0.032404, lr=0.00936, time_each_step=0.07s, eta=0:7:41\n",
      "2021-04-18 21:54:31 [INFO]\t[TRAIN] Epoch=3/40, Step=58/66, loss=0.038114, lr=0.009353, time_each_step=0.07s, eta=0:7:40\n",
      "2021-04-18 21:54:31 [INFO]\t[TRAIN] Epoch=3/40, Step=60/66, loss=0.017875, lr=0.009346, time_each_step=0.07s, eta=0:7:40\n",
      "2021-04-18 21:54:31 [INFO]\t[TRAIN] Epoch=3/40, Step=62/66, loss=0.029314, lr=0.00934, time_each_step=0.07s, eta=0:7:40\n",
      "2021-04-18 21:54:31 [INFO]\t[TRAIN] Epoch=3/40, Step=64/66, loss=0.018148, lr=0.009333, time_each_step=0.07s, eta=0:7:40\n",
      "2021-04-18 21:54:31 [INFO]\t[TRAIN] Epoch=3/40, Step=66/66, loss=0.054363, lr=0.009326, time_each_step=0.07s, eta=0:7:40\n",
      "2021-04-18 21:54:31 [INFO]\t[TRAIN] Epoch 3 finished, loss=0.030118, lr=0.009437 .\n",
      "2021-04-18 21:54:31 [INFO]\tStart to evaluating(total_samples=76, total_steps=19)...\n"
     ]
    },
    {
     "name": "stderr",
     "output_type": "stream",
     "text": [
      "100%|██████████| 19/19 [00:04<00:00,  4.53it/s]\n"
     ]
    },
    {
     "name": "stdout",
     "output_type": "stream",
     "text": [
      "2021-04-18 21:54:36 [INFO]\t[EVAL] Finished, Epoch=3, miou=0.490819, category_iou=[0.98163875 0.        ], oacc=0.981639, category_acc=[0.98163875 0.        ], kappa=0.0, category_F1-score=[0.99073431 0.        ] .\n",
      "2021-04-18 21:54:36 [INFO]\tModel saved in output/deeplab/epoch_3.\n",
      "2021-04-18 21:54:36 [INFO]\tCurrent evaluated best model in eval_dataset is epoch_1, miou=0.4908193727031779\n",
      "2021-04-18 21:54:40 [INFO]\t[TRAIN] Epoch=4/40, Step=2/66, loss=0.019691, lr=0.009319, time_each_step=0.25s, eta=0:8:3\n",
      "2021-04-18 21:54:40 [INFO]\t[TRAIN] Epoch=4/40, Step=4/66, loss=0.021092, lr=0.009312, time_each_step=0.26s, eta=0:8:3\n",
      "2021-04-18 21:54:40 [INFO]\t[TRAIN] Epoch=4/40, Step=6/66, loss=0.020048, lr=0.009305, time_each_step=0.26s, eta=0:8:3\n",
      "2021-04-18 21:54:41 [INFO]\t[TRAIN] Epoch=4/40, Step=8/66, loss=0.027402, lr=0.009298, time_each_step=0.27s, eta=0:8:3\n",
      "2021-04-18 21:54:41 [INFO]\t[TRAIN] Epoch=4/40, Step=10/66, loss=0.030186, lr=0.009291, time_each_step=0.28s, eta=0:8:3\n",
      "2021-04-18 21:54:41 [INFO]\t[TRAIN] Epoch=4/40, Step=12/66, loss=0.012681, lr=0.009285, time_each_step=0.29s, eta=0:8:3\n",
      "2021-04-18 21:54:42 [INFO]\t[TRAIN] Epoch=4/40, Step=14/66, loss=0.015808, lr=0.009278, time_each_step=0.3s, eta=0:8:3\n",
      "2021-04-18 21:54:42 [INFO]\t[TRAIN] Epoch=4/40, Step=16/66, loss=0.021853, lr=0.009271, time_each_step=0.31s, eta=0:8:3\n",
      "2021-04-18 21:54:42 [INFO]\t[TRAIN] Epoch=4/40, Step=18/66, loss=0.023823, lr=0.009264, time_each_step=0.32s, eta=0:8:3\n",
      "2021-04-18 21:54:42 [INFO]\t[TRAIN] Epoch=4/40, Step=20/66, loss=0.013963, lr=0.009257, time_each_step=0.32s, eta=0:8:2\n",
      "2021-04-18 21:54:43 [INFO]\t[TRAIN] Epoch=4/40, Step=22/66, loss=0.01389, lr=0.00925, time_each_step=0.14s, eta=0:7:54\n",
      "2021-04-18 21:54:43 [INFO]\t[TRAIN] Epoch=4/40, Step=24/66, loss=0.01438, lr=0.009243, time_each_step=0.13s, eta=0:7:53\n",
      "2021-04-18 21:54:43 [INFO]\t[TRAIN] Epoch=4/40, Step=26/66, loss=0.020647, lr=0.009236, time_each_step=0.12s, eta=0:7:52\n",
      "2021-04-18 21:54:43 [INFO]\t[TRAIN] Epoch=4/40, Step=28/66, loss=0.036022, lr=0.00923, time_each_step=0.11s, eta=0:7:52\n",
      "2021-04-18 21:54:43 [INFO]\t[TRAIN] Epoch=4/40, Step=30/66, loss=0.020842, lr=0.009223, time_each_step=0.11s, eta=0:7:51\n",
      "2021-04-18 21:54:43 [INFO]\t[TRAIN] Epoch=4/40, Step=32/66, loss=0.031492, lr=0.009216, time_each_step=0.1s, eta=0:7:51\n",
      "2021-04-18 21:54:43 [INFO]\t[TRAIN] Epoch=4/40, Step=34/66, loss=0.025309, lr=0.009209, time_each_step=0.09s, eta=0:7:50\n",
      "2021-04-18 21:54:44 [INFO]\t[TRAIN] Epoch=4/40, Step=36/66, loss=0.013942, lr=0.009202, time_each_step=0.08s, eta=0:7:50\n",
      "2021-04-18 21:54:44 [INFO]\t[TRAIN] Epoch=4/40, Step=38/66, loss=0.020341, lr=0.009195, time_each_step=0.08s, eta=0:7:50\n",
      "2021-04-18 21:54:44 [INFO]\t[TRAIN] Epoch=4/40, Step=40/66, loss=0.054213, lr=0.009188, time_each_step=0.08s, eta=0:7:50\n",
      "2021-04-18 21:54:44 [INFO]\t[TRAIN] Epoch=4/40, Step=42/66, loss=0.019164, lr=0.009181, time_each_step=0.08s, eta=0:7:49\n",
      "2021-04-18 21:54:44 [INFO]\t[TRAIN] Epoch=4/40, Step=44/66, loss=0.025135, lr=0.009175, time_each_step=0.08s, eta=0:7:49\n",
      "2021-04-18 21:54:45 [INFO]\t[TRAIN] Epoch=4/40, Step=46/66, loss=0.019199, lr=0.009168, time_each_step=0.09s, eta=0:7:49\n",
      "2021-04-18 21:54:45 [INFO]\t[TRAIN] Epoch=4/40, Step=48/66, loss=0.021263, lr=0.009161, time_each_step=0.09s, eta=0:7:49\n",
      "2021-04-18 21:54:45 [INFO]\t[TRAIN] Epoch=4/40, Step=50/66, loss=0.014478, lr=0.009154, time_each_step=0.1s, eta=0:7:49\n",
      "2021-04-18 21:54:45 [INFO]\t[TRAIN] Epoch=4/40, Step=52/66, loss=0.016302, lr=0.009147, time_each_step=0.1s, eta=0:7:49\n",
      "2021-04-18 21:54:45 [INFO]\t[TRAIN] Epoch=4/40, Step=54/66, loss=0.01733, lr=0.00914, time_each_step=0.1s, eta=0:7:49\n",
      "2021-04-18 21:54:45 [INFO]\t[TRAIN] Epoch=4/40, Step=56/66, loss=0.034928, lr=0.009133, time_each_step=0.1s, eta=0:7:48\n",
      "2021-04-18 21:54:46 [INFO]\t[TRAIN] Epoch=4/40, Step=58/66, loss=0.015257, lr=0.009126, time_each_step=0.09s, eta=0:7:48\n",
      "2021-04-18 21:54:46 [INFO]\t[TRAIN] Epoch=4/40, Step=60/66, loss=0.013837, lr=0.009119, time_each_step=0.09s, eta=0:7:48\n",
      "2021-04-18 21:54:46 [INFO]\t[TRAIN] Epoch=4/40, Step=62/66, loss=0.012741, lr=0.009113, time_each_step=0.09s, eta=0:7:48\n",
      "2021-04-18 21:54:46 [INFO]\t[TRAIN] Epoch=4/40, Step=64/66, loss=0.028825, lr=0.009106, time_each_step=0.09s, eta=0:7:48\n",
      "2021-04-18 21:54:46 [INFO]\t[TRAIN] Epoch=4/40, Step=66/66, loss=0.024429, lr=0.009099, time_each_step=0.08s, eta=0:7:47\n",
      "2021-04-18 21:54:46 [INFO]\t[TRAIN] Epoch 4 finished, loss=0.022844, lr=0.009211 .\n",
      "2021-04-18 21:54:46 [INFO]\tStart to evaluating(total_samples=76, total_steps=19)...\n"
     ]
    },
    {
     "name": "stderr",
     "output_type": "stream",
     "text": [
      "100%|██████████| 19/19 [00:06<00:00,  3.00it/s]\n"
     ]
    },
    {
     "name": "stdout",
     "output_type": "stream",
     "text": [
      "2021-04-18 21:54:53 [INFO]\t[EVAL] Finished, Epoch=4, miou=0.490819, category_iou=[0.98163875 0.        ], oacc=0.981639, category_acc=[0.98163875 0.        ], kappa=0.0, category_F1-score=[0.99073431 0.        ] .\n",
      "2021-04-18 21:54:53 [INFO]\tModel saved in output/deeplab/epoch_4.\n",
      "2021-04-18 21:54:53 [INFO]\tCurrent evaluated best model in eval_dataset is epoch_1, miou=0.4908193727031779\n",
      "2021-04-18 21:54:56 [INFO]\t[TRAIN] Epoch=5/40, Step=2/66, loss=0.01567, lr=0.009092, time_each_step=0.22s, eta=0:10:16\n",
      "2021-04-18 21:54:56 [INFO]\t[TRAIN] Epoch=5/40, Step=4/66, loss=0.014881, lr=0.009085, time_each_step=0.23s, eta=0:10:16\n",
      "2021-04-18 21:54:57 [INFO]\t[TRAIN] Epoch=5/40, Step=6/66, loss=0.015745, lr=0.009078, time_each_step=0.24s, eta=0:10:16\n",
      "2021-04-18 21:54:57 [INFO]\t[TRAIN] Epoch=5/40, Step=8/66, loss=0.014278, lr=0.009071, time_each_step=0.24s, eta=0:10:16\n",
      "2021-04-18 21:54:57 [INFO]\t[TRAIN] Epoch=5/40, Step=10/66, loss=0.017189, lr=0.009064, time_each_step=0.25s, eta=0:10:16\n",
      "2021-04-18 21:54:58 [INFO]\t[TRAIN] Epoch=5/40, Step=12/66, loss=0.018115, lr=0.009057, time_each_step=0.26s, eta=0:10:16\n",
      "2021-04-18 21:54:58 [INFO]\t[TRAIN] Epoch=5/40, Step=14/66, loss=0.010431, lr=0.009051, time_each_step=0.27s, eta=0:10:16\n",
      "2021-04-18 21:54:58 [INFO]\t[TRAIN] Epoch=5/40, Step=16/66, loss=0.017771, lr=0.009044, time_each_step=0.28s, eta=0:10:16\n",
      "2021-04-18 21:54:59 [INFO]\t[TRAIN] Epoch=5/40, Step=18/66, loss=0.041506, lr=0.009037, time_each_step=0.29s, eta=0:10:16\n",
      "2021-04-18 21:54:59 [INFO]\t[TRAIN] Epoch=5/40, Step=20/66, loss=0.030171, lr=0.00903, time_each_step=0.3s, eta=0:10:16\n",
      "2021-04-18 21:54:59 [INFO]\t[TRAIN] Epoch=5/40, Step=22/66, loss=0.015725, lr=0.009023, time_each_step=0.15s, eta=0:10:9\n",
      "2021-04-18 21:54:59 [INFO]\t[TRAIN] Epoch=5/40, Step=24/66, loss=0.010317, lr=0.009016, time_each_step=0.14s, eta=0:10:8\n",
      "2021-04-18 21:54:59 [INFO]\t[TRAIN] Epoch=5/40, Step=26/66, loss=0.01113, lr=0.009009, time_each_step=0.14s, eta=0:10:7\n",
      "2021-04-18 21:55:00 [INFO]\t[TRAIN] Epoch=5/40, Step=28/66, loss=0.015022, lr=0.009002, time_each_step=0.13s, eta=0:10:7\n",
      "2021-04-18 21:55:00 [INFO]\t[TRAIN] Epoch=5/40, Step=30/66, loss=0.013644, lr=0.008995, time_each_step=0.12s, eta=0:10:6\n",
      "2021-04-18 21:55:00 [INFO]\t[TRAIN] Epoch=5/40, Step=32/66, loss=0.019574, lr=0.008988, time_each_step=0.11s, eta=0:10:6\n",
      "2021-04-18 21:55:00 [INFO]\t[TRAIN] Epoch=5/40, Step=34/66, loss=0.018945, lr=0.008982, time_each_step=0.1s, eta=0:10:5\n",
      "2021-04-18 21:55:00 [INFO]\t[TRAIN] Epoch=5/40, Step=36/66, loss=0.014875, lr=0.008975, time_each_step=0.09s, eta=0:10:5\n",
      "2021-04-18 21:55:00 [INFO]\t[TRAIN] Epoch=5/40, Step=38/66, loss=0.026701, lr=0.008968, time_each_step=0.08s, eta=0:10:4\n",
      "2021-04-18 21:55:00 [INFO]\t[TRAIN] Epoch=5/40, Step=40/66, loss=0.031236, lr=0.008961, time_each_step=0.07s, eta=0:10:4\n",
      "2021-04-18 21:55:01 [INFO]\t[TRAIN] Epoch=5/40, Step=42/66, loss=0.011576, lr=0.008954, time_each_step=0.07s, eta=0:10:4\n",
      "2021-04-18 21:55:01 [INFO]\t[TRAIN] Epoch=5/40, Step=44/66, loss=0.035417, lr=0.008947, time_each_step=0.07s, eta=0:10:3\n",
      "2021-04-18 21:55:01 [INFO]\t[TRAIN] Epoch=5/40, Step=46/66, loss=0.012793, lr=0.00894, time_each_step=0.07s, eta=0:10:3\n",
      "2021-04-18 21:55:01 [INFO]\t[TRAIN] Epoch=5/40, Step=48/66, loss=0.017079, lr=0.008933, time_each_step=0.07s, eta=0:10:3\n",
      "2021-04-18 21:55:01 [INFO]\t[TRAIN] Epoch=5/40, Step=50/66, loss=0.010941, lr=0.008926, time_each_step=0.07s, eta=0:10:3\n",
      "2021-04-18 21:55:01 [INFO]\t[TRAIN] Epoch=5/40, Step=52/66, loss=0.014859, lr=0.008919, time_each_step=0.07s, eta=0:10:3\n",
      "2021-04-18 21:55:01 [INFO]\t[TRAIN] Epoch=5/40, Step=54/66, loss=0.020171, lr=0.008913, time_each_step=0.07s, eta=0:10:3\n",
      "2021-04-18 21:55:02 [INFO]\t[TRAIN] Epoch=5/40, Step=56/66, loss=0.0238, lr=0.008906, time_each_step=0.07s, eta=0:10:3\n",
      "2021-04-18 21:55:02 [INFO]\t[TRAIN] Epoch=5/40, Step=58/66, loss=0.020984, lr=0.008899, time_each_step=0.07s, eta=0:10:2\n",
      "2021-04-18 21:55:02 [INFO]\t[TRAIN] Epoch=5/40, Step=60/66, loss=0.021916, lr=0.008892, time_each_step=0.07s, eta=0:10:2\n",
      "2021-04-18 21:55:02 [INFO]\t[TRAIN] Epoch=5/40, Step=62/66, loss=0.012001, lr=0.008885, time_each_step=0.07s, eta=0:10:2\n",
      "2021-04-18 21:55:02 [INFO]\t[TRAIN] Epoch=5/40, Step=64/66, loss=0.026563, lr=0.008878, time_each_step=0.07s, eta=0:10:2\n",
      "2021-04-18 21:55:02 [INFO]\t[TRAIN] Epoch=5/40, Step=66/66, loss=0.011457, lr=0.008871, time_each_step=0.07s, eta=0:10:2\n",
      "2021-04-18 21:55:02 [INFO]\t[TRAIN] Epoch 5 finished, loss=0.018413, lr=0.008983 .\n",
      "2021-04-18 21:55:02 [INFO]\tStart to evaluating(total_samples=76, total_steps=19)...\n"
     ]
    },
    {
     "name": "stderr",
     "output_type": "stream",
     "text": [
      "100%|██████████| 19/19 [00:05<00:00,  3.72it/s]\n"
     ]
    },
    {
     "name": "stdout",
     "output_type": "stream",
     "text": [
      "2021-04-18 21:55:07 [INFO]\t[EVAL] Finished, Epoch=5, miou=0.490819, category_iou=[0.98163875 0.        ], oacc=0.981639, category_acc=[0.98163875 0.        ], kappa=0.0, category_F1-score=[0.99073431 0.        ] .\n",
      "2021-04-18 21:55:08 [INFO]\tModel saved in output/deeplab/epoch_5.\n",
      "2021-04-18 21:55:08 [INFO]\tCurrent evaluated best model in eval_dataset is epoch_1, miou=0.4908193727031779\n",
      "2021-04-18 21:55:13 [INFO]\t[TRAIN] Epoch=6/40, Step=2/66, loss=0.012238, lr=0.008864, time_each_step=0.31s, eta=0:8:49\n",
      "2021-04-18 21:55:13 [INFO]\t[TRAIN] Epoch=6/40, Step=4/66, loss=0.014035, lr=0.008857, time_each_step=0.32s, eta=0:8:49\n",
      "2021-04-18 21:55:13 [INFO]\t[TRAIN] Epoch=6/40, Step=6/66, loss=0.028335, lr=0.00885, time_each_step=0.33s, eta=0:8:49\n",
      "2021-04-18 21:55:14 [INFO]\t[TRAIN] Epoch=6/40, Step=8/66, loss=0.010017, lr=0.008843, time_each_step=0.34s, eta=0:8:49\n",
      "2021-04-18 21:55:14 [INFO]\t[TRAIN] Epoch=6/40, Step=10/66, loss=0.022394, lr=0.008837, time_each_step=0.34s, eta=0:8:48\n",
      "2021-04-18 21:55:15 [INFO]\t[TRAIN] Epoch=6/40, Step=12/66, loss=0.010867, lr=0.00883, time_each_step=0.37s, eta=0:8:49\n",
      "2021-04-18 21:55:15 [INFO]\t[TRAIN] Epoch=6/40, Step=14/66, loss=0.011153, lr=0.008823, time_each_step=0.38s, eta=0:8:49\n",
      "2021-04-18 21:55:16 [INFO]\t[TRAIN] Epoch=6/40, Step=16/66, loss=0.009193, lr=0.008816, time_each_step=0.41s, eta=0:8:49\n",
      "2021-04-18 21:55:16 [INFO]\t[TRAIN] Epoch=6/40, Step=18/66, loss=0.013797, lr=0.008809, time_each_step=0.41s, eta=0:8:49\n",
      "2021-04-18 21:55:16 [INFO]\t[TRAIN] Epoch=6/40, Step=20/66, loss=0.015555, lr=0.008802, time_each_step=0.41s, eta=0:8:48\n",
      "2021-04-18 21:55:16 [INFO]\t[TRAIN] Epoch=6/40, Step=22/66, loss=0.013051, lr=0.008795, time_each_step=0.17s, eta=0:8:37\n",
      "2021-04-18 21:55:16 [INFO]\t[TRAIN] Epoch=6/40, Step=24/66, loss=0.031606, lr=0.008788, time_each_step=0.16s, eta=0:8:36\n",
      "2021-04-18 21:55:16 [INFO]\t[TRAIN] Epoch=6/40, Step=26/66, loss=0.022674, lr=0.008781, time_each_step=0.15s, eta=0:8:35\n",
      "2021-04-18 21:55:17 [INFO]\t[TRAIN] Epoch=6/40, Step=28/66, loss=0.009814, lr=0.008774, time_each_step=0.14s, eta=0:8:35\n",
      "2021-04-18 21:55:17 [INFO]\t[TRAIN] Epoch=6/40, Step=30/66, loss=0.012021, lr=0.008767, time_each_step=0.13s, eta=0:8:34\n",
      "2021-04-18 21:55:17 [INFO]\t[TRAIN] Epoch=6/40, Step=32/66, loss=0.017245, lr=0.00876, time_each_step=0.1s, eta=0:8:33\n",
      "2021-04-18 21:55:17 [INFO]\t[TRAIN] Epoch=6/40, Step=34/66, loss=0.02157, lr=0.008754, time_each_step=0.09s, eta=0:8:32\n",
      "2021-04-18 21:55:17 [INFO]\t[TRAIN] Epoch=6/40, Step=36/66, loss=0.01535, lr=0.008747, time_each_step=0.07s, eta=0:8:31\n",
      "2021-04-18 21:55:17 [INFO]\t[TRAIN] Epoch=6/40, Step=38/66, loss=0.011955, lr=0.00874, time_each_step=0.07s, eta=0:8:31\n",
      "2021-04-18 21:55:17 [INFO]\t[TRAIN] Epoch=6/40, Step=40/66, loss=0.012835, lr=0.008733, time_each_step=0.07s, eta=0:8:31\n",
      "2021-04-18 21:55:18 [INFO]\t[TRAIN] Epoch=6/40, Step=42/66, loss=0.012838, lr=0.008726, time_each_step=0.07s, eta=0:8:31\n",
      "2021-04-18 21:55:18 [INFO]\t[TRAIN] Epoch=6/40, Step=44/66, loss=0.017049, lr=0.008719, time_each_step=0.07s, eta=0:8:31\n",
      "2021-04-18 21:55:18 [INFO]\t[TRAIN] Epoch=6/40, Step=46/66, loss=0.031422, lr=0.008712, time_each_step=0.07s, eta=0:8:31\n",
      "2021-04-18 21:55:18 [INFO]\t[TRAIN] Epoch=6/40, Step=48/66, loss=0.014278, lr=0.008705, time_each_step=0.07s, eta=0:8:30\n",
      "2021-04-18 21:55:18 [INFO]\t[TRAIN] Epoch=6/40, Step=50/66, loss=0.013642, lr=0.008698, time_each_step=0.07s, eta=0:8:30\n",
      "2021-04-18 21:55:18 [INFO]\t[TRAIN] Epoch=6/40, Step=52/66, loss=0.037616, lr=0.008691, time_each_step=0.07s, eta=0:8:30\n",
      "2021-04-18 21:55:18 [INFO]\t[TRAIN] Epoch=6/40, Step=54/66, loss=0.013668, lr=0.008684, time_each_step=0.07s, eta=0:8:30\n",
      "2021-04-18 21:55:18 [INFO]\t[TRAIN] Epoch=6/40, Step=56/66, loss=0.011072, lr=0.008677, time_each_step=0.07s, eta=0:8:30\n",
      "2021-04-18 21:55:19 [INFO]\t[TRAIN] Epoch=6/40, Step=58/66, loss=0.010444, lr=0.00867, time_each_step=0.07s, eta=0:8:30\n",
      "2021-04-18 21:55:19 [INFO]\t[TRAIN] Epoch=6/40, Step=60/66, loss=0.024613, lr=0.008664, time_each_step=0.07s, eta=0:8:30\n",
      "2021-04-18 21:55:19 [INFO]\t[TRAIN] Epoch=6/40, Step=62/66, loss=0.015535, lr=0.008657, time_each_step=0.07s, eta=0:8:29\n",
      "2021-04-18 21:55:19 [INFO]\t[TRAIN] Epoch=6/40, Step=64/66, loss=0.009908, lr=0.00865, time_each_step=0.07s, eta=0:8:29\n",
      "2021-04-18 21:55:19 [INFO]\t[TRAIN] Epoch=6/40, Step=66/66, loss=0.012359, lr=0.008643, time_each_step=0.07s, eta=0:8:29\n",
      "2021-04-18 21:55:19 [INFO]\t[TRAIN] Epoch 6 finished, loss=0.016347, lr=0.008755 .\n",
      "2021-04-18 21:55:19 [INFO]\tStart to evaluating(total_samples=76, total_steps=19)...\n"
     ]
    },
    {
     "name": "stderr",
     "output_type": "stream",
     "text": [
      "100%|██████████| 19/19 [00:05<00:00,  3.70it/s]\n"
     ]
    },
    {
     "name": "stdout",
     "output_type": "stream",
     "text": [
      "2021-04-18 21:55:24 [INFO]\t[EVAL] Finished, Epoch=6, miou=0.508924, category_iou=[0.98223058 0.03561734], oacc=0.982242, category_acc=[0.98228204 0.92606635], kappa=0.067513, category_F1-score=[0.99103564 0.06878475] .\n",
      "2021-04-18 21:55:25 [INFO]\tModel saved in output/deeplab/best_model.\n",
      "2021-04-18 21:55:25 [INFO]\tModel saved in output/deeplab/epoch_6.\n",
      "2021-04-18 21:55:25 [INFO]\tCurrent evaluated best model in eval_dataset is epoch_6, miou=0.5089239562601987\n",
      "2021-04-18 21:55:30 [INFO]\t[TRAIN] Epoch=7/40, Step=2/66, loss=0.013601, lr=0.008636, time_each_step=0.3s, eta=0:10:7\n",
      "2021-04-18 21:55:30 [INFO]\t[TRAIN] Epoch=7/40, Step=4/66, loss=0.013864, lr=0.008629, time_each_step=0.31s, eta=0:10:7\n",
      "2021-04-18 21:55:31 [INFO]\t[TRAIN] Epoch=7/40, Step=6/66, loss=0.01228, lr=0.008622, time_each_step=0.32s, eta=0:10:7\n",
      "2021-04-18 21:55:31 [INFO]\t[TRAIN] Epoch=7/40, Step=8/66, loss=0.00959, lr=0.008615, time_each_step=0.34s, eta=0:10:8\n",
      "2021-04-18 21:55:32 [INFO]\t[TRAIN] Epoch=7/40, Step=10/66, loss=0.01283, lr=0.008608, time_each_step=0.35s, eta=0:10:8\n",
      "2021-04-18 21:55:32 [INFO]\t[TRAIN] Epoch=7/40, Step=12/66, loss=0.00966, lr=0.008601, time_each_step=0.37s, eta=0:10:8\n",
      "2021-04-18 21:55:33 [INFO]\t[TRAIN] Epoch=7/40, Step=14/66, loss=0.011731, lr=0.008594, time_each_step=0.39s, eta=0:10:8\n",
      "2021-04-18 21:55:33 [INFO]\t[TRAIN] Epoch=7/40, Step=16/66, loss=0.021423, lr=0.008587, time_each_step=0.39s, eta=0:10:7\n",
      "2021-04-18 21:55:33 [INFO]\t[TRAIN] Epoch=7/40, Step=18/66, loss=0.013335, lr=0.00858, time_each_step=0.4s, eta=0:10:7\n",
      "2021-04-18 21:55:33 [INFO]\t[TRAIN] Epoch=7/40, Step=20/66, loss=0.017821, lr=0.008573, time_each_step=0.4s, eta=0:10:6\n",
      "2021-04-18 21:55:34 [INFO]\t[TRAIN] Epoch=7/40, Step=22/66, loss=0.010847, lr=0.008566, time_each_step=0.17s, eta=0:9:55\n",
      "2021-04-18 21:55:34 [INFO]\t[TRAIN] Epoch=7/40, Step=24/66, loss=0.012533, lr=0.00856, time_each_step=0.16s, eta=0:9:55\n",
      "2021-04-18 21:55:34 [INFO]\t[TRAIN] Epoch=7/40, Step=26/66, loss=0.009715, lr=0.008553, time_each_step=0.16s, eta=0:9:54\n",
      "2021-04-18 21:55:34 [INFO]\t[TRAIN] Epoch=7/40, Step=28/66, loss=0.030713, lr=0.008546, time_each_step=0.14s, eta=0:9:53\n",
      "2021-04-18 21:55:34 [INFO]\t[TRAIN] Epoch=7/40, Step=30/66, loss=0.017056, lr=0.008539, time_each_step=0.12s, eta=0:9:52\n",
      "2021-04-18 21:55:34 [INFO]\t[TRAIN] Epoch=7/40, Step=32/66, loss=0.014234, lr=0.008532, time_each_step=0.11s, eta=0:9:52\n",
      "2021-04-18 21:55:35 [INFO]\t[TRAIN] Epoch=7/40, Step=34/66, loss=0.010828, lr=0.008525, time_each_step=0.09s, eta=0:9:51\n",
      "2021-04-18 21:55:35 [INFO]\t[TRAIN] Epoch=7/40, Step=36/66, loss=0.013374, lr=0.008518, time_each_step=0.1s, eta=0:9:51\n",
      "2021-04-18 21:55:35 [INFO]\t[TRAIN] Epoch=7/40, Step=38/66, loss=0.014295, lr=0.008511, time_each_step=0.1s, eta=0:9:51\n",
      "2021-04-18 21:55:36 [INFO]\t[TRAIN] Epoch=7/40, Step=40/66, loss=0.014058, lr=0.008504, time_each_step=0.11s, eta=0:9:51\n",
      "2021-04-18 21:55:36 [INFO]\t[TRAIN] Epoch=7/40, Step=42/66, loss=0.009662, lr=0.008497, time_each_step=0.11s, eta=0:9:51\n",
      "2021-04-18 21:55:36 [INFO]\t[TRAIN] Epoch=7/40, Step=44/66, loss=0.00941, lr=0.00849, time_each_step=0.11s, eta=0:9:50\n",
      "2021-04-18 21:55:36 [INFO]\t[TRAIN] Epoch=7/40, Step=46/66, loss=0.016559, lr=0.008483, time_each_step=0.11s, eta=0:9:50\n",
      "2021-04-18 21:55:36 [INFO]\t[TRAIN] Epoch=7/40, Step=48/66, loss=0.016179, lr=0.008476, time_each_step=0.11s, eta=0:9:50\n",
      "2021-04-18 21:55:36 [INFO]\t[TRAIN] Epoch=7/40, Step=50/66, loss=0.021988, lr=0.008469, time_each_step=0.11s, eta=0:9:50\n",
      "2021-04-18 21:55:37 [INFO]\t[TRAIN] Epoch=7/40, Step=52/66, loss=0.012467, lr=0.008462, time_each_step=0.1s, eta=0:9:49\n",
      "2021-04-18 21:55:37 [INFO]\t[TRAIN] Epoch=7/40, Step=54/66, loss=0.008353, lr=0.008455, time_each_step=0.1s, eta=0:9:49\n",
      "2021-04-18 21:55:37 [INFO]\t[TRAIN] Epoch=7/40, Step=56/66, loss=0.026758, lr=0.008448, time_each_step=0.1s, eta=0:9:49\n",
      "2021-04-18 21:55:37 [INFO]\t[TRAIN] Epoch=7/40, Step=58/66, loss=0.011405, lr=0.008442, time_each_step=0.09s, eta=0:9:49\n",
      "2021-04-18 21:55:37 [INFO]\t[TRAIN] Epoch=7/40, Step=60/66, loss=0.041137, lr=0.008435, time_each_step=0.08s, eta=0:9:48\n",
      "2021-04-18 21:55:37 [INFO]\t[TRAIN] Epoch=7/40, Step=62/66, loss=0.009247, lr=0.008428, time_each_step=0.07s, eta=0:9:48\n",
      "2021-04-18 21:55:37 [INFO]\t[TRAIN] Epoch=7/40, Step=64/66, loss=0.010094, lr=0.008421, time_each_step=0.07s, eta=0:9:48\n",
      "2021-04-18 21:55:38 [INFO]\t[TRAIN] Epoch=7/40, Step=66/66, loss=0.011742, lr=0.008414, time_each_step=0.07s, eta=0:9:48\n",
      "2021-04-18 21:55:38 [INFO]\t[TRAIN] Epoch 7 finished, loss=0.014894, lr=0.008527 .\n",
      "2021-04-18 21:55:38 [INFO]\tStart to evaluating(total_samples=76, total_steps=19)...\n"
     ]
    },
    {
     "name": "stderr",
     "output_type": "stream",
     "text": [
      "100%|██████████| 19/19 [00:05<00:00,  3.34it/s]\n"
     ]
    },
    {
     "name": "stdout",
     "output_type": "stream",
     "text": [
      "2021-04-18 21:55:43 [INFO]\t[EVAL] Finished, Epoch=7, miou=0.627901, category_iou=[0.9850676  0.27073481], oacc=0.98515, category_acc=[0.98705445 0.73361689], kappa=0.419921, category_F1-score=[0.99247764 0.42610748] .\n",
      "2021-04-18 21:55:44 [INFO]\tModel saved in output/deeplab/best_model.\n",
      "2021-04-18 21:55:44 [INFO]\tModel saved in output/deeplab/epoch_7.\n",
      "2021-04-18 21:55:44 [INFO]\tCurrent evaluated best model in eval_dataset is epoch_7, miou=0.6279012015115114\n",
      "2021-04-18 21:55:50 [INFO]\t[TRAIN] Epoch=8/40, Step=2/66, loss=0.01521, lr=0.008407, time_each_step=0.35s, eta=0:10:23\n",
      "2021-04-18 21:55:50 [INFO]\t[TRAIN] Epoch=8/40, Step=4/66, loss=0.016058, lr=0.0084, time_each_step=0.35s, eta=0:10:23\n",
      "2021-04-18 21:55:50 [INFO]\t[TRAIN] Epoch=8/40, Step=6/66, loss=0.022937, lr=0.008393, time_each_step=0.36s, eta=0:10:23\n",
      "2021-04-18 21:55:51 [INFO]\t[TRAIN] Epoch=8/40, Step=8/66, loss=0.024295, lr=0.008386, time_each_step=0.37s, eta=0:10:22\n",
      "2021-04-18 21:55:51 [INFO]\t[TRAIN] Epoch=8/40, Step=10/66, loss=0.009575, lr=0.008379, time_each_step=0.38s, eta=0:10:22\n",
      "2021-04-18 21:55:51 [INFO]\t[TRAIN] Epoch=8/40, Step=12/66, loss=0.00996, lr=0.008372, time_each_step=0.38s, eta=0:10:22\n",
      "2021-04-18 21:55:52 [INFO]\t[TRAIN] Epoch=8/40, Step=14/66, loss=0.011666, lr=0.008365, time_each_step=0.39s, eta=0:10:21\n",
      "2021-04-18 21:55:52 [INFO]\t[TRAIN] Epoch=8/40, Step=16/66, loss=0.01162, lr=0.008358, time_each_step=0.4s, eta=0:10:21\n",
      "2021-04-18 21:55:52 [INFO]\t[TRAIN] Epoch=8/40, Step=18/66, loss=0.011634, lr=0.008351, time_each_step=0.4s, eta=0:10:20\n",
      "2021-04-18 21:55:52 [INFO]\t[TRAIN] Epoch=8/40, Step=20/66, loss=0.02299, lr=0.008344, time_each_step=0.41s, eta=0:10:20\n",
      "2021-04-18 21:55:52 [INFO]\t[TRAIN] Epoch=8/40, Step=22/66, loss=0.010681, lr=0.008337, time_each_step=0.14s, eta=0:10:7\n",
      "2021-04-18 21:55:53 [INFO]\t[TRAIN] Epoch=8/40, Step=24/66, loss=0.012504, lr=0.00833, time_each_step=0.13s, eta=0:10:6\n",
      "2021-04-18 21:55:53 [INFO]\t[TRAIN] Epoch=8/40, Step=26/66, loss=0.013245, lr=0.008323, time_each_step=0.12s, eta=0:10:6\n",
      "2021-04-18 21:55:53 [INFO]\t[TRAIN] Epoch=8/40, Step=28/66, loss=0.010761, lr=0.008316, time_each_step=0.11s, eta=0:10:5\n",
      "2021-04-18 21:55:53 [INFO]\t[TRAIN] Epoch=8/40, Step=30/66, loss=0.008495, lr=0.008309, time_each_step=0.11s, eta=0:10:5\n",
      "2021-04-18 21:55:53 [INFO]\t[TRAIN] Epoch=8/40, Step=32/66, loss=0.008378, lr=0.008302, time_each_step=0.1s, eta=0:10:4\n",
      "2021-04-18 21:55:53 [INFO]\t[TRAIN] Epoch=8/40, Step=34/66, loss=0.009222, lr=0.008295, time_each_step=0.09s, eta=0:10:4\n",
      "2021-04-18 21:55:53 [INFO]\t[TRAIN] Epoch=8/40, Step=36/66, loss=0.019867, lr=0.008289, time_each_step=0.08s, eta=0:10:3\n",
      "2021-04-18 21:55:54 [INFO]\t[TRAIN] Epoch=8/40, Step=38/66, loss=0.010077, lr=0.008282, time_each_step=0.08s, eta=0:10:3\n",
      "2021-04-18 21:55:54 [INFO]\t[TRAIN] Epoch=8/40, Step=40/66, loss=0.010024, lr=0.008275, time_each_step=0.07s, eta=0:10:3\n",
      "2021-04-18 21:55:54 [INFO]\t[TRAIN] Epoch=8/40, Step=42/66, loss=0.012859, lr=0.008268, time_each_step=0.07s, eta=0:10:2\n",
      "2021-04-18 21:55:54 [INFO]\t[TRAIN] Epoch=8/40, Step=44/66, loss=0.013426, lr=0.008261, time_each_step=0.07s, eta=0:10:2\n",
      "2021-04-18 21:55:54 [INFO]\t[TRAIN] Epoch=8/40, Step=46/66, loss=0.008184, lr=0.008254, time_each_step=0.07s, eta=0:10:2\n",
      "2021-04-18 21:55:54 [INFO]\t[TRAIN] Epoch=8/40, Step=48/66, loss=0.011316, lr=0.008247, time_each_step=0.07s, eta=0:10:2\n",
      "2021-04-18 21:55:54 [INFO]\t[TRAIN] Epoch=8/40, Step=50/66, loss=0.010953, lr=0.00824, time_each_step=0.07s, eta=0:10:2\n",
      "2021-04-18 21:55:55 [INFO]\t[TRAIN] Epoch=8/40, Step=52/66, loss=0.023592, lr=0.008233, time_each_step=0.07s, eta=0:10:2\n",
      "2021-04-18 21:55:55 [INFO]\t[TRAIN] Epoch=8/40, Step=54/66, loss=0.023568, lr=0.008226, time_each_step=0.07s, eta=0:10:2\n",
      "2021-04-18 21:55:55 [INFO]\t[TRAIN] Epoch=8/40, Step=56/66, loss=0.011972, lr=0.008219, time_each_step=0.07s, eta=0:10:1\n",
      "2021-04-18 21:55:55 [INFO]\t[TRAIN] Epoch=8/40, Step=58/66, loss=0.011524, lr=0.008212, time_each_step=0.07s, eta=0:10:1\n",
      "2021-04-18 21:55:55 [INFO]\t[TRAIN] Epoch=8/40, Step=60/66, loss=0.015578, lr=0.008205, time_each_step=0.07s, eta=0:10:1\n",
      "2021-04-18 21:55:55 [INFO]\t[TRAIN] Epoch=8/40, Step=62/66, loss=0.008713, lr=0.008198, time_each_step=0.07s, eta=0:10:1\n",
      "2021-04-18 21:55:55 [INFO]\t[TRAIN] Epoch=8/40, Step=64/66, loss=0.012234, lr=0.008191, time_each_step=0.07s, eta=0:10:1\n",
      "2021-04-18 21:55:56 [INFO]\t[TRAIN] Epoch=8/40, Step=66/66, loss=0.010719, lr=0.008184, time_each_step=0.07s, eta=0:10:1\n",
      "2021-04-18 21:55:56 [INFO]\t[TRAIN] Epoch 8 finished, loss=0.0132, lr=0.008297 .\n",
      "2021-04-18 21:55:56 [INFO]\tStart to evaluating(total_samples=76, total_steps=19)...\n"
     ]
    },
    {
     "name": "stderr",
     "output_type": "stream",
     "text": [
      "100%|██████████| 19/19 [00:08<00:00,  2.30it/s]\n"
     ]
    },
    {
     "name": "stdout",
     "output_type": "stream",
     "text": [
      "2021-04-18 21:56:04 [INFO]\t[EVAL] Finished, Epoch=8, miou=0.662921, category_iou=[0.97650815 0.34933373], oacc=0.976801, category_acc=[0.99391302 0.41868567], kappa=0.506583, category_F1-score=[0.98811447 0.51778699] .\n",
      "2021-04-18 21:56:04 [INFO]\tModel saved in output/deeplab/best_model.\n",
      "2021-04-18 21:56:05 [INFO]\tModel saved in output/deeplab/epoch_8.\n",
      "2021-04-18 21:56:05 [INFO]\tCurrent evaluated best model in eval_dataset is epoch_8, miou=0.6629209409927949\n",
      "2021-04-18 21:56:07 [INFO]\t[TRAIN] Epoch=9/40, Step=2/66, loss=0.0179, lr=0.008177, time_each_step=0.2s, eta=0:10:57\n",
      "2021-04-18 21:56:08 [INFO]\t[TRAIN] Epoch=9/40, Step=4/66, loss=0.007784, lr=0.00817, time_each_step=0.21s, eta=0:10:57\n",
      "2021-04-18 21:56:08 [INFO]\t[TRAIN] Epoch=9/40, Step=6/66, loss=0.021936, lr=0.008163, time_each_step=0.22s, eta=0:10:57\n",
      "2021-04-18 21:56:08 [INFO]\t[TRAIN] Epoch=9/40, Step=8/66, loss=0.01387, lr=0.008156, time_each_step=0.23s, eta=0:10:57\n",
      "2021-04-18 21:56:09 [INFO]\t[TRAIN] Epoch=9/40, Step=10/66, loss=0.009769, lr=0.008149, time_each_step=0.23s, eta=0:10:57\n",
      "2021-04-18 21:56:09 [INFO]\t[TRAIN] Epoch=9/40, Step=12/66, loss=0.010638, lr=0.008142, time_each_step=0.24s, eta=0:10:57\n",
      "2021-04-18 21:56:09 [INFO]\t[TRAIN] Epoch=9/40, Step=14/66, loss=0.010154, lr=0.008135, time_each_step=0.25s, eta=0:10:57\n",
      "2021-04-18 21:56:09 [INFO]\t[TRAIN] Epoch=9/40, Step=16/66, loss=0.010606, lr=0.008128, time_each_step=0.26s, eta=0:10:57\n",
      "2021-04-18 21:56:10 [INFO]\t[TRAIN] Epoch=9/40, Step=18/66, loss=0.014347, lr=0.008121, time_each_step=0.27s, eta=0:10:57\n",
      "2021-04-18 21:56:10 [INFO]\t[TRAIN] Epoch=9/40, Step=20/66, loss=0.0113, lr=0.008114, time_each_step=0.28s, eta=0:10:57\n",
      "2021-04-18 21:56:10 [INFO]\t[TRAIN] Epoch=9/40, Step=22/66, loss=0.011388, lr=0.008107, time_each_step=0.15s, eta=0:10:51\n",
      "2021-04-18 21:56:10 [INFO]\t[TRAIN] Epoch=9/40, Step=24/66, loss=0.01355, lr=0.0081, time_each_step=0.14s, eta=0:10:50\n",
      "2021-04-18 21:56:11 [INFO]\t[TRAIN] Epoch=9/40, Step=26/66, loss=0.008795, lr=0.008093, time_each_step=0.13s, eta=0:10:49\n",
      "2021-04-18 21:56:11 [INFO]\t[TRAIN] Epoch=9/40, Step=28/66, loss=0.009195, lr=0.008086, time_each_step=0.13s, eta=0:10:49\n",
      "2021-04-18 21:56:11 [INFO]\t[TRAIN] Epoch=9/40, Step=30/66, loss=0.016155, lr=0.008079, time_each_step=0.12s, eta=0:10:48\n",
      "2021-04-18 21:56:11 [INFO]\t[TRAIN] Epoch=9/40, Step=32/66, loss=0.013241, lr=0.008072, time_each_step=0.11s, eta=0:10:48\n",
      "2021-04-18 21:56:11 [INFO]\t[TRAIN] Epoch=9/40, Step=34/66, loss=0.015889, lr=0.008065, time_each_step=0.11s, eta=0:10:48\n",
      "2021-04-18 21:56:11 [INFO]\t[TRAIN] Epoch=9/40, Step=36/66, loss=0.017821, lr=0.008058, time_each_step=0.1s, eta=0:10:47\n",
      "2021-04-18 21:56:11 [INFO]\t[TRAIN] Epoch=9/40, Step=38/66, loss=0.010231, lr=0.008051, time_each_step=0.08s, eta=0:10:47\n",
      "2021-04-18 21:56:12 [INFO]\t[TRAIN] Epoch=9/40, Step=40/66, loss=0.012153, lr=0.008044, time_each_step=0.08s, eta=0:10:46\n",
      "2021-04-18 21:56:12 [INFO]\t[TRAIN] Epoch=9/40, Step=42/66, loss=0.015155, lr=0.008037, time_each_step=0.07s, eta=0:10:46\n",
      "2021-04-18 21:56:12 [INFO]\t[TRAIN] Epoch=9/40, Step=44/66, loss=0.01115, lr=0.00803, time_each_step=0.07s, eta=0:10:46\n",
      "2021-04-18 21:56:12 [INFO]\t[TRAIN] Epoch=9/40, Step=46/66, loss=0.009094, lr=0.008023, time_each_step=0.07s, eta=0:10:46\n",
      "2021-04-18 21:56:12 [INFO]\t[TRAIN] Epoch=9/40, Step=48/66, loss=0.007656, lr=0.008016, time_each_step=0.07s, eta=0:10:45\n",
      "2021-04-18 21:56:12 [INFO]\t[TRAIN] Epoch=9/40, Step=50/66, loss=0.014685, lr=0.00801, time_each_step=0.07s, eta=0:10:45\n",
      "2021-04-18 21:56:12 [INFO]\t[TRAIN] Epoch=9/40, Step=52/66, loss=0.009488, lr=0.008003, time_each_step=0.07s, eta=0:10:45\n",
      "2021-04-18 21:56:13 [INFO]\t[TRAIN] Epoch=9/40, Step=54/66, loss=0.016554, lr=0.007996, time_each_step=0.07s, eta=0:10:45\n",
      "2021-04-18 21:56:13 [INFO]\t[TRAIN] Epoch=9/40, Step=56/66, loss=0.012335, lr=0.007989, time_each_step=0.07s, eta=0:10:45\n",
      "2021-04-18 21:56:13 [INFO]\t[TRAIN] Epoch=9/40, Step=58/66, loss=0.007831, lr=0.007982, time_each_step=0.07s, eta=0:10:45\n",
      "2021-04-18 21:56:13 [INFO]\t[TRAIN] Epoch=9/40, Step=60/66, loss=0.021641, lr=0.007975, time_each_step=0.07s, eta=0:10:45\n",
      "2021-04-18 21:56:13 [INFO]\t[TRAIN] Epoch=9/40, Step=62/66, loss=0.010484, lr=0.007968, time_each_step=0.07s, eta=0:10:44\n",
      "2021-04-18 21:56:13 [INFO]\t[TRAIN] Epoch=9/40, Step=64/66, loss=0.010249, lr=0.007961, time_each_step=0.07s, eta=0:10:44\n",
      "2021-04-18 21:56:13 [INFO]\t[TRAIN] Epoch=9/40, Step=66/66, loss=0.015836, lr=0.007954, time_each_step=0.07s, eta=0:10:44\n",
      "2021-04-18 21:56:13 [INFO]\t[TRAIN] Epoch 9 finished, loss=0.012647, lr=0.008067 .\n",
      "2021-04-18 21:56:13 [INFO]\tStart to evaluating(total_samples=76, total_steps=19)...\n"
     ]
    },
    {
     "name": "stderr",
     "output_type": "stream",
     "text": [
      "100%|██████████| 19/19 [00:05<00:00,  3.68it/s]\n"
     ]
    },
    {
     "name": "stdout",
     "output_type": "stream",
     "text": [
      "2021-04-18 21:56:19 [INFO]\t[EVAL] Finished, Epoch=9, miou=0.651463, category_iou=[0.97153079 0.33139431], oacc=0.971927, category_acc=[0.99537971 0.37064929], kappa=0.485118, category_F1-score=[0.98555985 0.49781542] .\n",
      "2021-04-18 21:56:19 [INFO]\tModel saved in output/deeplab/epoch_9.\n",
      "2021-04-18 21:56:19 [INFO]\tCurrent evaluated best model in eval_dataset is epoch_8, miou=0.6629209409927949\n",
      "2021-04-18 21:56:29 [INFO]\t[TRAIN] Epoch=10/40, Step=2/66, loss=0.010793, lr=0.007947, time_each_step=0.59s, eta=0:7:56\n",
      "2021-04-18 21:56:30 [INFO]\t[TRAIN] Epoch=10/40, Step=4/66, loss=0.010619, lr=0.00794, time_each_step=0.59s, eta=0:7:55\n",
      "2021-04-18 21:56:30 [INFO]\t[TRAIN] Epoch=10/40, Step=6/66, loss=0.015181, lr=0.007933, time_each_step=0.6s, eta=0:7:54\n",
      "2021-04-18 21:56:30 [INFO]\t[TRAIN] Epoch=10/40, Step=8/66, loss=0.007045, lr=0.007926, time_each_step=0.61s, eta=0:7:54\n",
      "2021-04-18 21:56:31 [INFO]\t[TRAIN] Epoch=10/40, Step=10/66, loss=0.017873, lr=0.007919, time_each_step=0.62s, eta=0:7:53\n",
      "2021-04-18 21:56:31 [INFO]\t[TRAIN] Epoch=10/40, Step=12/66, loss=0.018241, lr=0.007912, time_each_step=0.63s, eta=0:7:52\n",
      "2021-04-18 21:56:31 [INFO]\t[TRAIN] Epoch=10/40, Step=14/66, loss=0.009713, lr=0.007905, time_each_step=0.64s, eta=0:7:51\n",
      "2021-04-18 21:56:32 [INFO]\t[TRAIN] Epoch=10/40, Step=16/66, loss=0.010387, lr=0.007898, time_each_step=0.64s, eta=0:7:51\n",
      "2021-04-18 21:56:32 [INFO]\t[TRAIN] Epoch=10/40, Step=18/66, loss=0.007672, lr=0.007891, time_each_step=0.65s, eta=0:7:50\n",
      "2021-04-18 21:56:32 [INFO]\t[TRAIN] Epoch=10/40, Step=20/66, loss=0.01137, lr=0.007884, time_each_step=0.65s, eta=0:7:49\n",
      "2021-04-18 21:56:32 [INFO]\t[TRAIN] Epoch=10/40, Step=22/66, loss=0.013603, lr=0.007877, time_each_step=0.14s, eta=0:7:25\n",
      "2021-04-18 21:56:32 [INFO]\t[TRAIN] Epoch=10/40, Step=24/66, loss=0.007384, lr=0.00787, time_each_step=0.13s, eta=0:7:24\n",
      "2021-04-18 21:56:33 [INFO]\t[TRAIN] Epoch=10/40, Step=26/66, loss=0.01098, lr=0.007863, time_each_step=0.13s, eta=0:7:24\n",
      "2021-04-18 21:56:33 [INFO]\t[TRAIN] Epoch=10/40, Step=28/66, loss=0.010366, lr=0.007856, time_each_step=0.12s, eta=0:7:23\n",
      "2021-04-18 21:56:33 [INFO]\t[TRAIN] Epoch=10/40, Step=30/66, loss=0.008892, lr=0.007849, time_each_step=0.11s, eta=0:7:22\n",
      "2021-04-18 21:56:33 [INFO]\t[TRAIN] Epoch=10/40, Step=32/66, loss=0.012349, lr=0.007842, time_each_step=0.1s, eta=0:7:22\n",
      "2021-04-18 21:56:33 [INFO]\t[TRAIN] Epoch=10/40, Step=34/66, loss=0.009319, lr=0.007835, time_each_step=0.09s, eta=0:7:21\n",
      "2021-04-18 21:56:33 [INFO]\t[TRAIN] Epoch=10/40, Step=36/66, loss=0.008615, lr=0.007828, time_each_step=0.09s, eta=0:7:21\n",
      "2021-04-18 21:56:33 [INFO]\t[TRAIN] Epoch=10/40, Step=38/66, loss=0.012875, lr=0.007821, time_each_step=0.08s, eta=0:7:21\n",
      "2021-04-18 21:56:34 [INFO]\t[TRAIN] Epoch=10/40, Step=40/66, loss=0.015231, lr=0.007814, time_each_step=0.08s, eta=0:7:20\n",
      "2021-04-18 21:56:34 [INFO]\t[TRAIN] Epoch=10/40, Step=42/66, loss=0.009386, lr=0.007807, time_each_step=0.07s, eta=0:7:20\n",
      "2021-04-18 21:56:34 [INFO]\t[TRAIN] Epoch=10/40, Step=44/66, loss=0.008753, lr=0.0078, time_each_step=0.07s, eta=0:7:20\n",
      "2021-04-18 21:56:34 [INFO]\t[TRAIN] Epoch=10/40, Step=46/66, loss=0.012523, lr=0.007793, time_each_step=0.07s, eta=0:7:20\n",
      "2021-04-18 21:56:34 [INFO]\t[TRAIN] Epoch=10/40, Step=48/66, loss=0.014085, lr=0.007786, time_each_step=0.07s, eta=0:7:20\n",
      "2021-04-18 21:56:34 [INFO]\t[TRAIN] Epoch=10/40, Step=50/66, loss=0.00852, lr=0.007779, time_each_step=0.07s, eta=0:7:20\n",
      "2021-04-18 21:56:34 [INFO]\t[TRAIN] Epoch=10/40, Step=52/66, loss=0.020059, lr=0.007772, time_each_step=0.07s, eta=0:7:19\n",
      "2021-04-18 21:56:35 [INFO]\t[TRAIN] Epoch=10/40, Step=54/66, loss=0.011011, lr=0.007764, time_each_step=0.07s, eta=0:7:19\n",
      "2021-04-18 21:56:35 [INFO]\t[TRAIN] Epoch=10/40, Step=56/66, loss=0.007781, lr=0.007757, time_each_step=0.07s, eta=0:7:19\n",
      "2021-04-18 21:56:35 [INFO]\t[TRAIN] Epoch=10/40, Step=58/66, loss=0.010884, lr=0.00775, time_each_step=0.07s, eta=0:7:19\n",
      "2021-04-18 21:56:35 [INFO]\t[TRAIN] Epoch=10/40, Step=60/66, loss=0.009153, lr=0.007743, time_each_step=0.07s, eta=0:7:19\n",
      "2021-04-18 21:56:35 [INFO]\t[TRAIN] Epoch=10/40, Step=62/66, loss=0.011179, lr=0.007736, time_each_step=0.07s, eta=0:7:19\n",
      "2021-04-18 21:56:35 [INFO]\t[TRAIN] Epoch=10/40, Step=64/66, loss=0.014525, lr=0.007729, time_each_step=0.07s, eta=0:7:19\n",
      "2021-04-18 21:56:35 [INFO]\t[TRAIN] Epoch=10/40, Step=66/66, loss=0.011522, lr=0.007722, time_each_step=0.07s, eta=0:7:18\n",
      "2021-04-18 21:56:35 [INFO]\t[TRAIN] Epoch 10 finished, loss=0.012134, lr=0.007836 .\n",
      "2021-04-18 21:56:35 [INFO]\tStart to evaluating(total_samples=76, total_steps=19)...\n"
     ]
    },
    {
     "name": "stderr",
     "output_type": "stream",
     "text": [
      "100%|██████████| 19/19 [00:05<00:00,  3.36it/s]\n"
     ]
    },
    {
     "name": "stdout",
     "output_type": "stream",
     "text": [
      "2021-04-18 21:56:41 [INFO]\t[EVAL] Finished, Epoch=10, miou=0.60672, category_iou=[0.95457334 0.2588672 ], oacc=0.955283, category_acc=[0.99709022 0.2711925 ], kappa=0.394407, category_F1-score=[0.97675879 0.41127006] .\n",
      "2021-04-18 21:56:42 [INFO]\tModel saved in output/deeplab/epoch_10.\n",
      "2021-04-18 21:56:42 [INFO]\tCurrent evaluated best model in eval_dataset is epoch_8, miou=0.6629209409927949\n",
      "2021-04-18 21:56:46 [INFO]\t[TRAIN] Epoch=11/40, Step=2/66, loss=0.011421, lr=0.007715, time_each_step=0.31s, eta=0:11:17\n",
      "2021-04-18 21:56:47 [INFO]\t[TRAIN] Epoch=11/40, Step=4/66, loss=0.011067, lr=0.007708, time_each_step=0.32s, eta=0:11:17\n",
      "2021-04-18 21:56:47 [INFO]\t[TRAIN] Epoch=11/40, Step=6/66, loss=0.010673, lr=0.007701, time_each_step=0.32s, eta=0:11:17\n",
      "2021-04-18 21:56:47 [INFO]\t[TRAIN] Epoch=11/40, Step=8/66, loss=0.010139, lr=0.007694, time_each_step=0.33s, eta=0:11:17\n",
      "2021-04-18 21:56:48 [INFO]\t[TRAIN] Epoch=11/40, Step=10/66, loss=0.034144, lr=0.007687, time_each_step=0.34s, eta=0:11:17\n",
      "2021-04-18 21:56:48 [INFO]\t[TRAIN] Epoch=11/40, Step=12/66, loss=0.0114, lr=0.00768, time_each_step=0.35s, eta=0:11:16\n",
      "2021-04-18 21:56:48 [INFO]\t[TRAIN] Epoch=11/40, Step=14/66, loss=0.014508, lr=0.007673, time_each_step=0.35s, eta=0:11:16\n",
      "2021-04-18 21:56:48 [INFO]\t[TRAIN] Epoch=11/40, Step=16/66, loss=0.028301, lr=0.007666, time_each_step=0.36s, eta=0:11:16\n",
      "2021-04-18 21:56:49 [INFO]\t[TRAIN] Epoch=11/40, Step=18/66, loss=0.009798, lr=0.007659, time_each_step=0.37s, eta=0:11:15\n",
      "2021-04-18 21:56:49 [INFO]\t[TRAIN] Epoch=11/40, Step=20/66, loss=0.008297, lr=0.007652, time_each_step=0.37s, eta=0:11:15\n",
      "2021-04-18 21:56:49 [INFO]\t[TRAIN] Epoch=11/40, Step=22/66, loss=0.008532, lr=0.007645, time_each_step=0.14s, eta=0:11:4\n",
      "2021-04-18 21:56:49 [INFO]\t[TRAIN] Epoch=11/40, Step=24/66, loss=0.009634, lr=0.007638, time_each_step=0.13s, eta=0:11:3\n",
      "2021-04-18 21:56:50 [INFO]\t[TRAIN] Epoch=11/40, Step=26/66, loss=0.007136, lr=0.007631, time_each_step=0.13s, eta=0:11:3\n",
      "2021-04-18 21:56:50 [INFO]\t[TRAIN] Epoch=11/40, Step=28/66, loss=0.012014, lr=0.007624, time_each_step=0.12s, eta=0:11:2\n",
      "2021-04-18 21:56:50 [INFO]\t[TRAIN] Epoch=11/40, Step=30/66, loss=0.007452, lr=0.007617, time_each_step=0.11s, eta=0:11:2\n",
      "2021-04-18 21:56:50 [INFO]\t[TRAIN] Epoch=11/40, Step=32/66, loss=0.006991, lr=0.00761, time_each_step=0.1s, eta=0:11:1\n",
      "2021-04-18 21:56:50 [INFO]\t[TRAIN] Epoch=11/40, Step=34/66, loss=0.010335, lr=0.007603, time_each_step=0.09s, eta=0:11:1\n",
      "2021-04-18 21:56:50 [INFO]\t[TRAIN] Epoch=11/40, Step=36/66, loss=0.012501, lr=0.007596, time_each_step=0.09s, eta=0:11:0\n",
      "2021-04-18 21:56:50 [INFO]\t[TRAIN] Epoch=11/40, Step=38/66, loss=0.006508, lr=0.007589, time_each_step=0.08s, eta=0:11:0\n",
      "2021-04-18 21:56:50 [INFO]\t[TRAIN] Epoch=11/40, Step=40/66, loss=0.011007, lr=0.007582, time_each_step=0.07s, eta=0:11:0\n",
      "2021-04-18 21:56:51 [INFO]\t[TRAIN] Epoch=11/40, Step=42/66, loss=0.010261, lr=0.007575, time_each_step=0.07s, eta=0:10:59\n",
      "2021-04-18 21:56:51 [INFO]\t[TRAIN] Epoch=11/40, Step=44/66, loss=0.009725, lr=0.007568, time_each_step=0.07s, eta=0:10:59\n",
      "2021-04-18 21:56:51 [INFO]\t[TRAIN] Epoch=11/40, Step=46/66, loss=0.007448, lr=0.007561, time_each_step=0.07s, eta=0:10:59\n",
      "2021-04-18 21:56:51 [INFO]\t[TRAIN] Epoch=11/40, Step=48/66, loss=0.009592, lr=0.007554, time_each_step=0.07s, eta=0:10:59\n",
      "2021-04-18 21:56:51 [INFO]\t[TRAIN] Epoch=11/40, Step=50/66, loss=0.010119, lr=0.007547, time_each_step=0.07s, eta=0:10:59\n",
      "2021-04-18 21:56:51 [INFO]\t[TRAIN] Epoch=11/40, Step=52/66, loss=0.008179, lr=0.00754, time_each_step=0.07s, eta=0:10:59\n",
      "2021-04-18 21:56:51 [INFO]\t[TRAIN] Epoch=11/40, Step=54/66, loss=0.010754, lr=0.007533, time_each_step=0.07s, eta=0:10:59\n",
      "2021-04-18 21:56:52 [INFO]\t[TRAIN] Epoch=11/40, Step=56/66, loss=0.007554, lr=0.007526, time_each_step=0.07s, eta=0:10:58\n",
      "2021-04-18 21:56:52 [INFO]\t[TRAIN] Epoch=11/40, Step=58/66, loss=0.008891, lr=0.007519, time_each_step=0.07s, eta=0:10:58\n",
      "2021-04-18 21:56:52 [INFO]\t[TRAIN] Epoch=11/40, Step=60/66, loss=0.008451, lr=0.007512, time_each_step=0.07s, eta=0:10:58\n",
      "2021-04-18 21:56:52 [INFO]\t[TRAIN] Epoch=11/40, Step=62/66, loss=0.010421, lr=0.007505, time_each_step=0.07s, eta=0:10:58\n",
      "2021-04-18 21:56:52 [INFO]\t[TRAIN] Epoch=11/40, Step=64/66, loss=0.009753, lr=0.007497, time_each_step=0.07s, eta=0:10:58\n",
      "2021-04-18 21:56:52 [INFO]\t[TRAIN] Epoch=11/40, Step=66/66, loss=0.014953, lr=0.00749, time_each_step=0.07s, eta=0:10:58\n",
      "2021-04-18 21:56:52 [INFO]\t[TRAIN] Epoch 11 finished, loss=0.011346, lr=0.007605 .\n",
      "2021-04-18 21:56:52 [INFO]\tStart to evaluating(total_samples=76, total_steps=19)...\n"
     ]
    },
    {
     "name": "stderr",
     "output_type": "stream",
     "text": [
      "100%|██████████| 19/19 [00:04<00:00,  4.09it/s]\n"
     ]
    },
    {
     "name": "stdout",
     "output_type": "stream",
     "text": [
      "2021-04-18 21:56:57 [INFO]\t[EVAL] Finished, Epoch=11, miou=0.645451, category_iou=[0.96695364 0.32394868], oacc=0.967469, category_acc=[0.99709526 0.34375875], kappa=0.475662, category_F1-score=[0.98319922 0.48936743] .\n",
      "2021-04-18 21:56:57 [INFO]\tModel saved in output/deeplab/epoch_11.\n",
      "2021-04-18 21:56:57 [INFO]\tCurrent evaluated best model in eval_dataset is epoch_8, miou=0.6629209409927949\n",
      "2021-04-18 21:57:01 [INFO]\t[TRAIN] Epoch=12/40, Step=2/66, loss=0.008726, lr=0.007483, time_each_step=0.22s, eta=0:7:40\n",
      "2021-04-18 21:57:01 [INFO]\t[TRAIN] Epoch=12/40, Step=4/66, loss=0.01207, lr=0.007476, time_each_step=0.23s, eta=0:7:40\n",
      "2021-04-18 21:57:01 [INFO]\t[TRAIN] Epoch=12/40, Step=6/66, loss=0.008981, lr=0.007469, time_each_step=0.24s, eta=0:7:41\n",
      "2021-04-18 21:57:02 [INFO]\t[TRAIN] Epoch=12/40, Step=8/66, loss=0.011511, lr=0.007462, time_each_step=0.25s, eta=0:7:41\n",
      "2021-04-18 21:57:02 [INFO]\t[TRAIN] Epoch=12/40, Step=10/66, loss=0.009596, lr=0.007455, time_each_step=0.26s, eta=0:7:41\n",
      "2021-04-18 21:57:02 [INFO]\t[TRAIN] Epoch=12/40, Step=12/66, loss=0.009815, lr=0.007448, time_each_step=0.27s, eta=0:7:41\n",
      "2021-04-18 21:57:02 [INFO]\t[TRAIN] Epoch=12/40, Step=14/66, loss=0.012487, lr=0.007441, time_each_step=0.28s, eta=0:7:41\n",
      "2021-04-18 21:57:03 [INFO]\t[TRAIN] Epoch=12/40, Step=16/66, loss=0.018845, lr=0.007434, time_each_step=0.29s, eta=0:7:41\n",
      "2021-04-18 21:57:03 [INFO]\t[TRAIN] Epoch=12/40, Step=18/66, loss=0.010777, lr=0.007427, time_each_step=0.3s, eta=0:7:40\n",
      "2021-04-18 21:57:03 [INFO]\t[TRAIN] Epoch=12/40, Step=20/66, loss=0.012984, lr=0.00742, time_each_step=0.3s, eta=0:7:40\n",
      "2021-04-18 21:57:03 [INFO]\t[TRAIN] Epoch=12/40, Step=22/66, loss=0.009656, lr=0.007413, time_each_step=0.15s, eta=0:7:33\n",
      "2021-04-18 21:57:04 [INFO]\t[TRAIN] Epoch=12/40, Step=24/66, loss=0.00775, lr=0.007406, time_each_step=0.14s, eta=0:7:32\n",
      "2021-04-18 21:57:04 [INFO]\t[TRAIN] Epoch=12/40, Step=26/66, loss=0.009068, lr=0.007399, time_each_step=0.13s, eta=0:7:32\n",
      "2021-04-18 21:57:04 [INFO]\t[TRAIN] Epoch=12/40, Step=28/66, loss=0.00894, lr=0.007392, time_each_step=0.12s, eta=0:7:31\n",
      "2021-04-18 21:57:04 [INFO]\t[TRAIN] Epoch=12/40, Step=30/66, loss=0.01458, lr=0.007385, time_each_step=0.11s, eta=0:7:30\n",
      "2021-04-18 21:57:04 [INFO]\t[TRAIN] Epoch=12/40, Step=32/66, loss=0.009664, lr=0.007378, time_each_step=0.1s, eta=0:7:30\n",
      "2021-04-18 21:57:04 [INFO]\t[TRAIN] Epoch=12/40, Step=34/66, loss=0.008061, lr=0.007371, time_each_step=0.09s, eta=0:7:29\n",
      "2021-04-18 21:57:04 [INFO]\t[TRAIN] Epoch=12/40, Step=36/66, loss=0.012675, lr=0.007364, time_each_step=0.08s, eta=0:7:29\n",
      "2021-04-18 21:57:05 [INFO]\t[TRAIN] Epoch=12/40, Step=38/66, loss=0.008539, lr=0.007357, time_each_step=0.08s, eta=0:7:28\n",
      "2021-04-18 21:57:05 [INFO]\t[TRAIN] Epoch=12/40, Step=40/66, loss=0.009092, lr=0.007349, time_each_step=0.07s, eta=0:7:28\n",
      "2021-04-18 21:57:05 [INFO]\t[TRAIN] Epoch=12/40, Step=42/66, loss=0.007446, lr=0.007342, time_each_step=0.07s, eta=0:7:28\n",
      "2021-04-18 21:57:05 [INFO]\t[TRAIN] Epoch=12/40, Step=44/66, loss=0.011463, lr=0.007335, time_each_step=0.07s, eta=0:7:28\n",
      "2021-04-18 21:57:05 [INFO]\t[TRAIN] Epoch=12/40, Step=46/66, loss=0.010376, lr=0.007328, time_each_step=0.07s, eta=0:7:28\n",
      "2021-04-18 21:57:05 [INFO]\t[TRAIN] Epoch=12/40, Step=48/66, loss=0.006982, lr=0.007321, time_each_step=0.07s, eta=0:7:28\n",
      "2021-04-18 21:57:05 [INFO]\t[TRAIN] Epoch=12/40, Step=50/66, loss=0.006105, lr=0.007314, time_each_step=0.07s, eta=0:7:27\n",
      "2021-04-18 21:57:06 [INFO]\t[TRAIN] Epoch=12/40, Step=52/66, loss=0.009509, lr=0.007307, time_each_step=0.07s, eta=0:7:27\n",
      "2021-04-18 21:57:06 [INFO]\t[TRAIN] Epoch=12/40, Step=54/66, loss=0.008279, lr=0.0073, time_each_step=0.07s, eta=0:7:27\n",
      "2021-04-18 21:57:06 [INFO]\t[TRAIN] Epoch=12/40, Step=56/66, loss=0.012346, lr=0.007293, time_each_step=0.07s, eta=0:7:27\n",
      "2021-04-18 21:57:06 [INFO]\t[TRAIN] Epoch=12/40, Step=58/66, loss=0.010325, lr=0.007286, time_each_step=0.07s, eta=0:7:27\n",
      "2021-04-18 21:57:06 [INFO]\t[TRAIN] Epoch=12/40, Step=60/66, loss=0.008291, lr=0.007279, time_each_step=0.07s, eta=0:7:27\n",
      "2021-04-18 21:57:06 [INFO]\t[TRAIN] Epoch=12/40, Step=62/66, loss=0.030881, lr=0.007272, time_each_step=0.07s, eta=0:7:27\n",
      "2021-04-18 21:57:06 [INFO]\t[TRAIN] Epoch=12/40, Step=64/66, loss=0.014965, lr=0.007265, time_each_step=0.07s, eta=0:7:26\n",
      "2021-04-18 21:57:07 [INFO]\t[TRAIN] Epoch=12/40, Step=66/66, loss=0.007557, lr=0.007258, time_each_step=0.07s, eta=0:7:26\n",
      "2021-04-18 21:57:07 [INFO]\t[TRAIN] Epoch 12 finished, loss=0.011421, lr=0.007372 .\n",
      "2021-04-18 21:57:07 [INFO]\tStart to evaluating(total_samples=76, total_steps=19)...\n"
     ]
    },
    {
     "name": "stderr",
     "output_type": "stream",
     "text": [
      "100%|██████████| 19/19 [00:05<00:00,  3.31it/s]\n"
     ]
    },
    {
     "name": "stdout",
     "output_type": "stream",
     "text": [
      "2021-04-18 21:57:12 [INFO]\t[EVAL] Finished, Epoch=12, miou=0.65884, category_iou=[0.96898155 0.34869825], oacc=0.969488, category_acc=[0.99787927 0.36445736], kappa=0.504172, category_F1-score=[0.98424645 0.51708861] .\n",
      "2021-04-18 21:57:13 [INFO]\tModel saved in output/deeplab/epoch_12.\n",
      "2021-04-18 21:57:13 [INFO]\tCurrent evaluated best model in eval_dataset is epoch_8, miou=0.6629209409927949\n",
      "2021-04-18 21:57:19 [INFO]\t[TRAIN] Epoch=13/40, Step=2/66, loss=0.006052, lr=0.007251, time_each_step=0.36s, eta=0:7:24\n",
      "2021-04-18 21:57:19 [INFO]\t[TRAIN] Epoch=13/40, Step=4/66, loss=0.012107, lr=0.007244, time_each_step=0.37s, eta=0:7:24\n",
      "2021-04-18 21:57:19 [INFO]\t[TRAIN] Epoch=13/40, Step=6/66, loss=0.009535, lr=0.007237, time_each_step=0.38s, eta=0:7:24\n",
      "2021-04-18 21:57:20 [INFO]\t[TRAIN] Epoch=13/40, Step=8/66, loss=0.013229, lr=0.007229, time_each_step=0.39s, eta=0:7:24\n",
      "2021-04-18 21:57:20 [INFO]\t[TRAIN] Epoch=13/40, Step=10/66, loss=0.015639, lr=0.007222, time_each_step=0.4s, eta=0:7:23\n",
      "2021-04-18 21:57:20 [INFO]\t[TRAIN] Epoch=13/40, Step=12/66, loss=0.012093, lr=0.007215, time_each_step=0.41s, eta=0:7:23\n",
      "2021-04-18 21:57:21 [INFO]\t[TRAIN] Epoch=13/40, Step=14/66, loss=0.023301, lr=0.007208, time_each_step=0.42s, eta=0:7:23\n",
      "2021-04-18 21:57:21 [INFO]\t[TRAIN] Epoch=13/40, Step=16/66, loss=0.015753, lr=0.007201, time_each_step=0.43s, eta=0:7:22\n",
      "2021-04-18 21:57:21 [INFO]\t[TRAIN] Epoch=13/40, Step=18/66, loss=0.009117, lr=0.007194, time_each_step=0.43s, eta=0:7:22\n",
      "2021-04-18 21:57:21 [INFO]\t[TRAIN] Epoch=13/40, Step=20/66, loss=0.012183, lr=0.007187, time_each_step=0.44s, eta=0:7:21\n",
      "2021-04-18 21:57:22 [INFO]\t[TRAIN] Epoch=13/40, Step=22/66, loss=0.007122, lr=0.00718, time_each_step=0.15s, eta=0:7:8\n",
      "2021-04-18 21:57:22 [INFO]\t[TRAIN] Epoch=13/40, Step=24/66, loss=0.01612, lr=0.007173, time_each_step=0.14s, eta=0:7:7\n",
      "2021-04-18 21:57:22 [INFO]\t[TRAIN] Epoch=13/40, Step=26/66, loss=0.009736, lr=0.007166, time_each_step=0.13s, eta=0:7:6\n",
      "2021-04-18 21:57:22 [INFO]\t[TRAIN] Epoch=13/40, Step=28/66, loss=0.013461, lr=0.007159, time_each_step=0.12s, eta=0:7:6\n",
      "2021-04-18 21:57:22 [INFO]\t[TRAIN] Epoch=13/40, Step=30/66, loss=0.007875, lr=0.007152, time_each_step=0.11s, eta=0:7:5\n",
      "2021-04-18 21:57:22 [INFO]\t[TRAIN] Epoch=13/40, Step=32/66, loss=0.011812, lr=0.007145, time_each_step=0.1s, eta=0:7:4\n",
      "2021-04-18 21:57:22 [INFO]\t[TRAIN] Epoch=13/40, Step=34/66, loss=0.008047, lr=0.007137, time_each_step=0.09s, eta=0:7:4\n",
      "2021-04-18 21:57:23 [INFO]\t[TRAIN] Epoch=13/40, Step=36/66, loss=0.010736, lr=0.00713, time_each_step=0.08s, eta=0:7:3\n",
      "2021-04-18 21:57:23 [INFO]\t[TRAIN] Epoch=13/40, Step=38/66, loss=0.008965, lr=0.007123, time_each_step=0.07s, eta=0:7:3\n",
      "2021-04-18 21:57:23 [INFO]\t[TRAIN] Epoch=13/40, Step=40/66, loss=0.01037, lr=0.007116, time_each_step=0.07s, eta=0:7:3\n",
      "2021-04-18 21:57:23 [INFO]\t[TRAIN] Epoch=13/40, Step=42/66, loss=0.012704, lr=0.007109, time_each_step=0.07s, eta=0:7:3\n",
      "2021-04-18 21:57:23 [INFO]\t[TRAIN] Epoch=13/40, Step=44/66, loss=0.011474, lr=0.007102, time_each_step=0.07s, eta=0:7:3\n",
      "2021-04-18 21:57:23 [INFO]\t[TRAIN] Epoch=13/40, Step=46/66, loss=0.0069, lr=0.007095, time_each_step=0.07s, eta=0:7:2\n",
      "2021-04-18 21:57:23 [INFO]\t[TRAIN] Epoch=13/40, Step=48/66, loss=0.008067, lr=0.007088, time_each_step=0.07s, eta=0:7:2\n",
      "2021-04-18 21:57:24 [INFO]\t[TRAIN] Epoch=13/40, Step=50/66, loss=0.010084, lr=0.007081, time_each_step=0.07s, eta=0:7:2\n",
      "2021-04-18 21:57:24 [INFO]\t[TRAIN] Epoch=13/40, Step=52/66, loss=0.009016, lr=0.007074, time_each_step=0.07s, eta=0:7:2\n",
      "2021-04-18 21:57:24 [INFO]\t[TRAIN] Epoch=13/40, Step=54/66, loss=0.007176, lr=0.007067, time_each_step=0.07s, eta=0:7:2\n",
      "2021-04-18 21:57:24 [INFO]\t[TRAIN] Epoch=13/40, Step=56/66, loss=0.007424, lr=0.00706, time_each_step=0.07s, eta=0:7:2\n",
      "2021-04-18 21:57:24 [INFO]\t[TRAIN] Epoch=13/40, Step=58/66, loss=0.015427, lr=0.007052, time_each_step=0.07s, eta=0:7:2\n",
      "2021-04-18 21:57:24 [INFO]\t[TRAIN] Epoch=13/40, Step=60/66, loss=0.012709, lr=0.007045, time_each_step=0.07s, eta=0:7:1\n",
      "2021-04-18 21:57:24 [INFO]\t[TRAIN] Epoch=13/40, Step=62/66, loss=0.009178, lr=0.007038, time_each_step=0.07s, eta=0:7:1\n",
      "2021-04-18 21:57:25 [INFO]\t[TRAIN] Epoch=13/40, Step=64/66, loss=0.008965, lr=0.007031, time_each_step=0.07s, eta=0:7:1\n",
      "2021-04-18 21:57:25 [INFO]\t[TRAIN] Epoch=13/40, Step=66/66, loss=0.017619, lr=0.007024, time_each_step=0.07s, eta=0:7:1\n",
      "2021-04-18 21:57:25 [INFO]\t[TRAIN] Epoch 13 finished, loss=0.010617, lr=0.007139 .\n",
      "2021-04-18 21:57:25 [INFO]\tStart to evaluating(total_samples=76, total_steps=19)...\n"
     ]
    },
    {
     "name": "stderr",
     "output_type": "stream",
     "text": [
      "100%|██████████| 19/19 [00:06<00:00,  2.83it/s]\n"
     ]
    },
    {
     "name": "stdout",
     "output_type": "stream",
     "text": [
      "2021-04-18 21:57:31 [INFO]\t[EVAL] Finished, Epoch=13, miou=0.740814, category_iou=[0.98345826 0.49816971], oacc=0.983726, category_acc=[0.99772579 0.5345207 ], kappa=0.657207, category_F1-score=[0.99166015 0.66503775] .\n",
      "2021-04-18 21:57:32 [INFO]\tModel saved in output/deeplab/best_model.\n",
      "2021-04-18 21:57:32 [INFO]\tModel saved in output/deeplab/epoch_13.\n",
      "2021-04-18 21:57:32 [INFO]\tCurrent evaluated best model in eval_dataset is epoch_13, miou=0.7408139841426349\n",
      "2021-04-18 21:57:35 [INFO]\t[TRAIN] Epoch=14/40, Step=2/66, loss=0.010014, lr=0.007017, time_each_step=0.23s, eta=0:8:48\n",
      "2021-04-18 21:57:36 [INFO]\t[TRAIN] Epoch=14/40, Step=4/66, loss=0.005104, lr=0.00701, time_each_step=0.24s, eta=0:8:48\n",
      "2021-04-18 21:57:36 [INFO]\t[TRAIN] Epoch=14/40, Step=6/66, loss=0.008539, lr=0.007003, time_each_step=0.24s, eta=0:8:48\n",
      "2021-04-18 21:57:36 [INFO]\t[TRAIN] Epoch=14/40, Step=8/66, loss=0.009192, lr=0.006996, time_each_step=0.25s, eta=0:8:48\n",
      "2021-04-18 21:57:37 [INFO]\t[TRAIN] Epoch=14/40, Step=10/66, loss=0.014423, lr=0.006989, time_each_step=0.26s, eta=0:8:48\n",
      "2021-04-18 21:57:37 [INFO]\t[TRAIN] Epoch=14/40, Step=12/66, loss=0.009422, lr=0.006982, time_each_step=0.27s, eta=0:8:47\n",
      "2021-04-18 21:57:37 [INFO]\t[TRAIN] Epoch=14/40, Step=14/66, loss=0.008404, lr=0.006974, time_each_step=0.27s, eta=0:8:47\n",
      "2021-04-18 21:57:37 [INFO]\t[TRAIN] Epoch=14/40, Step=16/66, loss=0.00916, lr=0.006967, time_each_step=0.28s, eta=0:8:47\n",
      "2021-04-18 21:57:38 [INFO]\t[TRAIN] Epoch=14/40, Step=18/66, loss=0.006421, lr=0.00696, time_each_step=0.29s, eta=0:8:47\n",
      "2021-04-18 21:57:38 [INFO]\t[TRAIN] Epoch=14/40, Step=20/66, loss=0.00872, lr=0.006953, time_each_step=0.29s, eta=0:8:47\n",
      "2021-04-18 21:57:38 [INFO]\t[TRAIN] Epoch=14/40, Step=22/66, loss=0.007683, lr=0.006946, time_each_step=0.14s, eta=0:8:39\n",
      "2021-04-18 21:57:38 [INFO]\t[TRAIN] Epoch=14/40, Step=24/66, loss=0.008989, lr=0.006939, time_each_step=0.13s, eta=0:8:39\n",
      "2021-04-18 21:57:38 [INFO]\t[TRAIN] Epoch=14/40, Step=26/66, loss=0.0127, lr=0.006932, time_each_step=0.12s, eta=0:8:38\n",
      "2021-04-18 21:57:39 [INFO]\t[TRAIN] Epoch=14/40, Step=28/66, loss=0.008939, lr=0.006925, time_each_step=0.12s, eta=0:8:38\n",
      "2021-04-18 21:57:39 [INFO]\t[TRAIN] Epoch=14/40, Step=30/66, loss=0.006492, lr=0.006918, time_each_step=0.11s, eta=0:8:37\n",
      "2021-04-18 21:57:39 [INFO]\t[TRAIN] Epoch=14/40, Step=32/66, loss=0.009388, lr=0.006911, time_each_step=0.1s, eta=0:8:37\n",
      "2021-04-18 21:57:39 [INFO]\t[TRAIN] Epoch=14/40, Step=34/66, loss=0.006706, lr=0.006903, time_each_step=0.1s, eta=0:8:36\n",
      "2021-04-18 21:57:39 [INFO]\t[TRAIN] Epoch=14/40, Step=36/66, loss=0.015064, lr=0.006896, time_each_step=0.09s, eta=0:8:36\n",
      "2021-04-18 21:57:39 [INFO]\t[TRAIN] Epoch=14/40, Step=38/66, loss=0.007092, lr=0.006889, time_each_step=0.08s, eta=0:8:35\n",
      "2021-04-18 21:57:40 [INFO]\t[TRAIN] Epoch=14/40, Step=40/66, loss=0.007892, lr=0.006882, time_each_step=0.08s, eta=0:8:35\n",
      "2021-04-18 21:57:40 [INFO]\t[TRAIN] Epoch=14/40, Step=42/66, loss=0.00664, lr=0.006875, time_each_step=0.07s, eta=0:8:35\n",
      "2021-04-18 21:57:40 [INFO]\t[TRAIN] Epoch=14/40, Step=44/66, loss=0.0086, lr=0.006868, time_each_step=0.07s, eta=0:8:35\n",
      "2021-04-18 21:57:40 [INFO]\t[TRAIN] Epoch=14/40, Step=46/66, loss=0.011835, lr=0.006861, time_each_step=0.07s, eta=0:8:35\n",
      "2021-04-18 21:57:40 [INFO]\t[TRAIN] Epoch=14/40, Step=48/66, loss=0.008587, lr=0.006854, time_each_step=0.07s, eta=0:8:34\n",
      "2021-04-18 21:57:40 [INFO]\t[TRAIN] Epoch=14/40, Step=50/66, loss=0.013066, lr=0.006847, time_each_step=0.07s, eta=0:8:34\n",
      "2021-04-18 21:57:40 [INFO]\t[TRAIN] Epoch=14/40, Step=52/66, loss=0.010493, lr=0.006839, time_each_step=0.07s, eta=0:8:34\n",
      "2021-04-18 21:57:41 [INFO]\t[TRAIN] Epoch=14/40, Step=54/66, loss=0.010958, lr=0.006832, time_each_step=0.07s, eta=0:8:34\n",
      "2021-04-18 21:57:41 [INFO]\t[TRAIN] Epoch=14/40, Step=56/66, loss=0.011148, lr=0.006825, time_each_step=0.07s, eta=0:8:34\n",
      "2021-04-18 21:57:41 [INFO]\t[TRAIN] Epoch=14/40, Step=58/66, loss=0.018444, lr=0.006818, time_each_step=0.07s, eta=0:8:34\n",
      "2021-04-18 21:57:41 [INFO]\t[TRAIN] Epoch=14/40, Step=60/66, loss=0.008504, lr=0.006811, time_each_step=0.07s, eta=0:8:34\n",
      "2021-04-18 21:57:41 [INFO]\t[TRAIN] Epoch=14/40, Step=62/66, loss=0.008958, lr=0.006804, time_each_step=0.07s, eta=0:8:33\n",
      "2021-04-18 21:57:41 [INFO]\t[TRAIN] Epoch=14/40, Step=64/66, loss=0.006765, lr=0.006797, time_each_step=0.07s, eta=0:8:33\n",
      "2021-04-18 21:57:41 [INFO]\t[TRAIN] Epoch=14/40, Step=66/66, loss=0.010135, lr=0.00679, time_each_step=0.07s, eta=0:8:33\n",
      "2021-04-18 21:57:41 [INFO]\t[TRAIN] Epoch 14 finished, loss=0.010306, lr=0.006905 .\n",
      "2021-04-18 21:57:41 [INFO]\tStart to evaluating(total_samples=76, total_steps=19)...\n"
     ]
    },
    {
     "name": "stderr",
     "output_type": "stream",
     "text": [
      "100%|██████████| 19/19 [00:05<00:00,  3.51it/s]\n"
     ]
    },
    {
     "name": "stdout",
     "output_type": "stream",
     "text": [
      "2021-04-18 21:57:47 [INFO]\t[EVAL] Finished, Epoch=14, miou=0.776552, category_iou=[0.98711029 0.56599434], oacc=0.987323, category_acc=[0.99811905 0.6038139 ], kappa=0.716627, category_F1-score=[0.99351334 0.72285618] .\n",
      "2021-04-18 21:57:47 [INFO]\tModel saved in output/deeplab/best_model.\n",
      "2021-04-18 21:57:48 [INFO]\tModel saved in output/deeplab/epoch_14.\n",
      "2021-04-18 21:57:48 [INFO]\tCurrent evaluated best model in eval_dataset is epoch_14, miou=0.7765523146361326\n",
      "2021-04-18 21:57:53 [INFO]\t[TRAIN] Epoch=15/40, Step=2/66, loss=0.009455, lr=0.006783, time_each_step=0.34s, eta=0:6:53\n",
      "2021-04-18 21:57:53 [INFO]\t[TRAIN] Epoch=15/40, Step=4/66, loss=0.009722, lr=0.006775, time_each_step=0.35s, eta=0:6:53\n",
      "2021-04-18 21:57:54 [INFO]\t[TRAIN] Epoch=15/40, Step=6/66, loss=0.010981, lr=0.006768, time_each_step=0.36s, eta=0:6:53\n",
      "2021-04-18 21:57:54 [INFO]\t[TRAIN] Epoch=15/40, Step=8/66, loss=0.009979, lr=0.006761, time_each_step=0.37s, eta=0:6:53\n",
      "2021-04-18 21:57:55 [INFO]\t[TRAIN] Epoch=15/40, Step=10/66, loss=0.020815, lr=0.006754, time_each_step=0.4s, eta=0:6:54\n",
      "2021-04-18 21:57:55 [INFO]\t[TRAIN] Epoch=15/40, Step=12/66, loss=0.008782, lr=0.006747, time_each_step=0.41s, eta=0:6:53\n",
      "2021-04-18 21:57:55 [INFO]\t[TRAIN] Epoch=15/40, Step=14/66, loss=0.00925, lr=0.00674, time_each_step=0.42s, eta=0:6:53\n",
      "2021-04-18 21:57:56 [INFO]\t[TRAIN] Epoch=15/40, Step=16/66, loss=0.013188, lr=0.006733, time_each_step=0.42s, eta=0:6:52\n",
      "2021-04-18 21:57:56 [INFO]\t[TRAIN] Epoch=15/40, Step=18/66, loss=0.008413, lr=0.006726, time_each_step=0.43s, eta=0:6:52\n",
      "2021-04-18 21:57:56 [INFO]\t[TRAIN] Epoch=15/40, Step=20/66, loss=0.010032, lr=0.006718, time_each_step=0.43s, eta=0:6:51\n",
      "2021-04-18 21:57:56 [INFO]\t[TRAIN] Epoch=15/40, Step=22/66, loss=0.007041, lr=0.006711, time_each_step=0.16s, eta=0:6:38\n",
      "2021-04-18 21:57:57 [INFO]\t[TRAIN] Epoch=15/40, Step=24/66, loss=0.008259, lr=0.006704, time_each_step=0.16s, eta=0:6:38\n",
      "2021-04-18 21:57:57 [INFO]\t[TRAIN] Epoch=15/40, Step=26/66, loss=0.01228, lr=0.006697, time_each_step=0.14s, eta=0:6:37\n",
      "2021-04-18 21:57:57 [INFO]\t[TRAIN] Epoch=15/40, Step=28/66, loss=0.009252, lr=0.00669, time_each_step=0.13s, eta=0:6:36\n",
      "2021-04-18 21:57:57 [INFO]\t[TRAIN] Epoch=15/40, Step=30/66, loss=0.011534, lr=0.006683, time_each_step=0.11s, eta=0:6:35\n",
      "2021-04-18 21:57:57 [INFO]\t[TRAIN] Epoch=15/40, Step=32/66, loss=0.00818, lr=0.006676, time_each_step=0.1s, eta=0:6:35\n",
      "2021-04-18 21:57:57 [INFO]\t[TRAIN] Epoch=15/40, Step=34/66, loss=0.014296, lr=0.006669, time_each_step=0.09s, eta=0:6:34\n",
      "2021-04-18 21:57:57 [INFO]\t[TRAIN] Epoch=15/40, Step=36/66, loss=0.008057, lr=0.006661, time_each_step=0.08s, eta=0:6:34\n",
      "2021-04-18 21:57:58 [INFO]\t[TRAIN] Epoch=15/40, Step=38/66, loss=0.007354, lr=0.006654, time_each_step=0.08s, eta=0:6:33\n",
      "2021-04-18 21:57:58 [INFO]\t[TRAIN] Epoch=15/40, Step=40/66, loss=0.01455, lr=0.006647, time_each_step=0.07s, eta=0:6:33\n",
      "2021-04-18 21:57:58 [INFO]\t[TRAIN] Epoch=15/40, Step=42/66, loss=0.008372, lr=0.00664, time_each_step=0.07s, eta=0:6:33\n",
      "2021-04-18 21:57:58 [INFO]\t[TRAIN] Epoch=15/40, Step=44/66, loss=0.009301, lr=0.006633, time_each_step=0.07s, eta=0:6:33\n",
      "2021-04-18 21:57:58 [INFO]\t[TRAIN] Epoch=15/40, Step=46/66, loss=0.009792, lr=0.006626, time_each_step=0.07s, eta=0:6:33\n",
      "2021-04-18 21:57:58 [INFO]\t[TRAIN] Epoch=15/40, Step=48/66, loss=0.013335, lr=0.006619, time_each_step=0.07s, eta=0:6:33\n",
      "2021-04-18 21:57:58 [INFO]\t[TRAIN] Epoch=15/40, Step=50/66, loss=0.009974, lr=0.006611, time_each_step=0.07s, eta=0:6:32\n",
      "2021-04-18 21:57:59 [INFO]\t[TRAIN] Epoch=15/40, Step=52/66, loss=0.00841, lr=0.006604, time_each_step=0.07s, eta=0:6:32\n",
      "2021-04-18 21:57:59 [INFO]\t[TRAIN] Epoch=15/40, Step=54/66, loss=0.009659, lr=0.006597, time_each_step=0.07s, eta=0:6:32\n",
      "2021-04-18 21:57:59 [INFO]\t[TRAIN] Epoch=15/40, Step=56/66, loss=0.009511, lr=0.00659, time_each_step=0.07s, eta=0:6:32\n",
      "2021-04-18 21:57:59 [INFO]\t[TRAIN] Epoch=15/40, Step=58/66, loss=0.008929, lr=0.006583, time_each_step=0.07s, eta=0:6:32\n",
      "2021-04-18 21:57:59 [INFO]\t[TRAIN] Epoch=15/40, Step=60/66, loss=0.006196, lr=0.006576, time_each_step=0.07s, eta=0:6:32\n",
      "2021-04-18 21:57:59 [INFO]\t[TRAIN] Epoch=15/40, Step=62/66, loss=0.00704, lr=0.006569, time_each_step=0.07s, eta=0:6:32\n",
      "2021-04-18 21:57:59 [INFO]\t[TRAIN] Epoch=15/40, Step=64/66, loss=0.006753, lr=0.006561, time_each_step=0.07s, eta=0:6:31\n",
      "2021-04-18 21:58:00 [INFO]\t[TRAIN] Epoch=15/40, Step=66/66, loss=0.006841, lr=0.006554, time_each_step=0.07s, eta=0:6:31\n",
      "2021-04-18 21:58:00 [INFO]\t[TRAIN] Epoch 15 finished, loss=0.01045, lr=0.00667 .\n",
      "2021-04-18 21:58:00 [INFO]\tStart to evaluating(total_samples=76, total_steps=19)...\n"
     ]
    },
    {
     "name": "stderr",
     "output_type": "stream",
     "text": [
      "100%|██████████| 19/19 [00:08<00:00,  2.15it/s]\n"
     ]
    },
    {
     "name": "stdout",
     "output_type": "stream",
     "text": [
      "2021-04-18 21:58:08 [INFO]\t[EVAL] Finished, Epoch=15, miou=0.791574, category_iou=[0.98850886 0.5946392 ], oacc=0.988699, category_acc=[0.99816829 0.63529144], kappa=0.740198, category_F1-score=[0.99422123 0.74579779] .\n",
      "2021-04-18 21:58:09 [INFO]\tModel saved in output/deeplab/best_model.\n",
      "2021-04-18 21:58:09 [INFO]\tModel saved in output/deeplab/epoch_15.\n",
      "2021-04-18 21:58:09 [INFO]\tCurrent evaluated best model in eval_dataset is epoch_15, miou=0.7915740313609954\n",
      "2021-04-18 21:58:13 [INFO]\t[TRAIN] Epoch=16/40, Step=2/66, loss=0.006653, lr=0.006547, time_each_step=0.25s, eta=0:9:2\n",
      "2021-04-18 21:58:13 [INFO]\t[TRAIN] Epoch=16/40, Step=4/66, loss=0.006416, lr=0.00654, time_each_step=0.26s, eta=0:9:2\n",
      "2021-04-18 21:58:13 [INFO]\t[TRAIN] Epoch=16/40, Step=6/66, loss=0.00878, lr=0.006533, time_each_step=0.26s, eta=0:9:2\n",
      "2021-04-18 21:58:14 [INFO]\t[TRAIN] Epoch=16/40, Step=8/66, loss=0.009825, lr=0.006526, time_each_step=0.27s, eta=0:9:2\n",
      "2021-04-18 21:58:14 [INFO]\t[TRAIN] Epoch=16/40, Step=10/66, loss=0.006585, lr=0.006519, time_each_step=0.28s, eta=0:9:2\n",
      "2021-04-18 21:58:14 [INFO]\t[TRAIN] Epoch=16/40, Step=12/66, loss=0.007217, lr=0.006511, time_each_step=0.29s, eta=0:9:2\n",
      "2021-04-18 21:58:15 [INFO]\t[TRAIN] Epoch=16/40, Step=14/66, loss=0.010675, lr=0.006504, time_each_step=0.3s, eta=0:9:2\n",
      "2021-04-18 21:58:15 [INFO]\t[TRAIN] Epoch=16/40, Step=16/66, loss=0.019552, lr=0.006497, time_each_step=0.3s, eta=0:9:1\n",
      "2021-04-18 21:58:15 [INFO]\t[TRAIN] Epoch=16/40, Step=18/66, loss=0.009132, lr=0.00649, time_each_step=0.31s, eta=0:9:1\n",
      "2021-04-18 21:58:15 [INFO]\t[TRAIN] Epoch=16/40, Step=20/66, loss=0.008863, lr=0.006483, time_each_step=0.32s, eta=0:9:1\n",
      "2021-04-18 21:58:16 [INFO]\t[TRAIN] Epoch=16/40, Step=22/66, loss=0.007947, lr=0.006476, time_each_step=0.14s, eta=0:8:52\n",
      "2021-04-18 21:58:16 [INFO]\t[TRAIN] Epoch=16/40, Step=24/66, loss=0.008769, lr=0.006469, time_each_step=0.13s, eta=0:8:52\n",
      "2021-04-18 21:58:16 [INFO]\t[TRAIN] Epoch=16/40, Step=26/66, loss=0.006806, lr=0.006461, time_each_step=0.13s, eta=0:8:51\n",
      "2021-04-18 21:58:16 [INFO]\t[TRAIN] Epoch=16/40, Step=28/66, loss=0.008374, lr=0.006454, time_each_step=0.12s, eta=0:8:51\n",
      "2021-04-18 21:58:16 [INFO]\t[TRAIN] Epoch=16/40, Step=30/66, loss=0.008633, lr=0.006447, time_each_step=0.11s, eta=0:8:50\n",
      "2021-04-18 21:58:16 [INFO]\t[TRAIN] Epoch=16/40, Step=32/66, loss=0.008681, lr=0.00644, time_each_step=0.1s, eta=0:8:50\n",
      "2021-04-18 21:58:16 [INFO]\t[TRAIN] Epoch=16/40, Step=34/66, loss=0.00742, lr=0.006433, time_each_step=0.09s, eta=0:8:49\n",
      "2021-04-18 21:58:17 [INFO]\t[TRAIN] Epoch=16/40, Step=36/66, loss=0.007814, lr=0.006426, time_each_step=0.09s, eta=0:8:49\n",
      "2021-04-18 21:58:17 [INFO]\t[TRAIN] Epoch=16/40, Step=38/66, loss=0.013227, lr=0.006418, time_each_step=0.08s, eta=0:8:48\n",
      "2021-04-18 21:58:17 [INFO]\t[TRAIN] Epoch=16/40, Step=40/66, loss=0.008573, lr=0.006411, time_each_step=0.07s, eta=0:8:48\n",
      "2021-04-18 21:58:17 [INFO]\t[TRAIN] Epoch=16/40, Step=42/66, loss=0.011538, lr=0.006404, time_each_step=0.07s, eta=0:8:48\n",
      "2021-04-18 21:58:17 [INFO]\t[TRAIN] Epoch=16/40, Step=44/66, loss=0.009421, lr=0.006397, time_each_step=0.07s, eta=0:8:48\n",
      "2021-04-18 21:58:17 [INFO]\t[TRAIN] Epoch=16/40, Step=46/66, loss=0.007749, lr=0.00639, time_each_step=0.07s, eta=0:8:48\n",
      "2021-04-18 21:58:17 [INFO]\t[TRAIN] Epoch=16/40, Step=48/66, loss=0.0084, lr=0.006383, time_each_step=0.07s, eta=0:8:48\n",
      "2021-04-18 21:58:18 [INFO]\t[TRAIN] Epoch=16/40, Step=50/66, loss=0.009232, lr=0.006375, time_each_step=0.08s, eta=0:8:47\n",
      "2021-04-18 21:58:18 [INFO]\t[TRAIN] Epoch=16/40, Step=52/66, loss=0.011895, lr=0.006368, time_each_step=0.08s, eta=0:8:47\n",
      "2021-04-18 21:58:18 [INFO]\t[TRAIN] Epoch=16/40, Step=54/66, loss=0.007672, lr=0.006361, time_each_step=0.08s, eta=0:8:47\n",
      "2021-04-18 21:58:18 [INFO]\t[TRAIN] Epoch=16/40, Step=56/66, loss=0.008064, lr=0.006354, time_each_step=0.08s, eta=0:8:47\n",
      "2021-04-18 21:58:18 [INFO]\t[TRAIN] Epoch=16/40, Step=58/66, loss=0.011605, lr=0.006347, time_each_step=0.08s, eta=0:8:47\n",
      "2021-04-18 21:58:18 [INFO]\t[TRAIN] Epoch=16/40, Step=60/66, loss=0.008216, lr=0.00634, time_each_step=0.08s, eta=0:8:47\n",
      "2021-04-18 21:58:19 [INFO]\t[TRAIN] Epoch=16/40, Step=62/66, loss=0.011252, lr=0.006332, time_each_step=0.08s, eta=0:8:47\n",
      "2021-04-18 21:58:19 [INFO]\t[TRAIN] Epoch=16/40, Step=64/66, loss=0.016256, lr=0.006325, time_each_step=0.08s, eta=0:8:46\n",
      "2021-04-18 21:58:19 [INFO]\t[TRAIN] Epoch=16/40, Step=66/66, loss=0.01098, lr=0.006318, time_each_step=0.08s, eta=0:8:46\n",
      "2021-04-18 21:58:19 [INFO]\t[TRAIN] Epoch 16 finished, loss=0.009549, lr=0.006434 .\n",
      "2021-04-18 21:58:19 [INFO]\tStart to evaluating(total_samples=76, total_steps=19)...\n"
     ]
    },
    {
     "name": "stderr",
     "output_type": "stream",
     "text": [
      "100%|██████████| 19/19 [00:04<00:00,  4.22it/s]\n"
     ]
    },
    {
     "name": "stdout",
     "output_type": "stream",
     "text": [
      "2021-04-18 21:58:23 [INFO]\t[EVAL] Finished, Epoch=16, miou=0.833988, category_iou=[0.99221593 0.67575962], oacc=0.99234, category_acc=[0.99755081 0.75207567], kappa=0.802625, category_F1-score=[0.99609276 0.8065114 ] .\n",
      "2021-04-18 21:58:24 [INFO]\tModel saved in output/deeplab/best_model.\n",
      "2021-04-18 21:58:24 [INFO]\tModel saved in output/deeplab/epoch_16.\n",
      "2021-04-18 21:58:24 [INFO]\tCurrent evaluated best model in eval_dataset is epoch_16, miou=0.8339877741423766\n",
      "2021-04-18 21:58:29 [INFO]\t[TRAIN] Epoch=17/40, Step=2/66, loss=0.005648, lr=0.006311, time_each_step=0.3s, eta=0:6:13\n",
      "2021-04-18 21:58:29 [INFO]\t[TRAIN] Epoch=17/40, Step=4/66, loss=0.01774, lr=0.006304, time_each_step=0.31s, eta=0:6:13\n",
      "2021-04-18 21:58:29 [INFO]\t[TRAIN] Epoch=17/40, Step=6/66, loss=0.007452, lr=0.006297, time_each_step=0.31s, eta=0:6:12\n",
      "2021-04-18 21:58:30 [INFO]\t[TRAIN] Epoch=17/40, Step=8/66, loss=0.006769, lr=0.006289, time_each_step=0.32s, eta=0:6:12\n",
      "2021-04-18 21:58:30 [INFO]\t[TRAIN] Epoch=17/40, Step=10/66, loss=0.009235, lr=0.006282, time_each_step=0.33s, eta=0:6:12\n",
      "2021-04-18 21:58:30 [INFO]\t[TRAIN] Epoch=17/40, Step=12/66, loss=0.007109, lr=0.006275, time_each_step=0.33s, eta=0:6:12\n",
      "2021-04-18 21:58:31 [INFO]\t[TRAIN] Epoch=17/40, Step=14/66, loss=0.012563, lr=0.006268, time_each_step=0.34s, eta=0:6:11\n",
      "2021-04-18 21:58:31 [INFO]\t[TRAIN] Epoch=17/40, Step=16/66, loss=0.007301, lr=0.006261, time_each_step=0.35s, eta=0:6:11\n",
      "2021-04-18 21:58:31 [INFO]\t[TRAIN] Epoch=17/40, Step=18/66, loss=0.014167, lr=0.006253, time_each_step=0.36s, eta=0:6:11\n",
      "2021-04-18 21:58:32 [INFO]\t[TRAIN] Epoch=17/40, Step=20/66, loss=0.010751, lr=0.006246, time_each_step=0.37s, eta=0:6:11\n",
      "2021-04-18 21:58:32 [INFO]\t[TRAIN] Epoch=17/40, Step=22/66, loss=0.011371, lr=0.006239, time_each_step=0.16s, eta=0:6:1\n",
      "2021-04-18 21:58:32 [INFO]\t[TRAIN] Epoch=17/40, Step=24/66, loss=0.006638, lr=0.006232, time_each_step=0.15s, eta=0:6:0\n",
      "2021-04-18 21:58:32 [INFO]\t[TRAIN] Epoch=17/40, Step=26/66, loss=0.008965, lr=0.006225, time_each_step=0.15s, eta=0:5:59\n",
      "2021-04-18 21:58:33 [INFO]\t[TRAIN] Epoch=17/40, Step=28/66, loss=0.005106, lr=0.006218, time_each_step=0.14s, eta=0:5:59\n",
      "2021-04-18 21:58:33 [INFO]\t[TRAIN] Epoch=17/40, Step=30/66, loss=0.007546, lr=0.00621, time_each_step=0.13s, eta=0:5:58\n",
      "2021-04-18 21:58:33 [INFO]\t[TRAIN] Epoch=17/40, Step=32/66, loss=0.011345, lr=0.006203, time_each_step=0.12s, eta=0:5:58\n",
      "2021-04-18 21:58:33 [INFO]\t[TRAIN] Epoch=17/40, Step=34/66, loss=0.011439, lr=0.006196, time_each_step=0.11s, eta=0:5:57\n",
      "2021-04-18 21:58:33 [INFO]\t[TRAIN] Epoch=17/40, Step=36/66, loss=0.008719, lr=0.006189, time_each_step=0.11s, eta=0:5:57\n",
      "2021-04-18 21:58:33 [INFO]\t[TRAIN] Epoch=17/40, Step=38/66, loss=0.013362, lr=0.006182, time_each_step=0.1s, eta=0:5:56\n",
      "2021-04-18 21:58:33 [INFO]\t[TRAIN] Epoch=17/40, Step=40/66, loss=0.012509, lr=0.006174, time_each_step=0.09s, eta=0:5:56\n",
      "2021-04-18 21:58:34 [INFO]\t[TRAIN] Epoch=17/40, Step=42/66, loss=0.006257, lr=0.006167, time_each_step=0.08s, eta=0:5:55\n",
      "2021-04-18 21:58:34 [INFO]\t[TRAIN] Epoch=17/40, Step=44/66, loss=0.008459, lr=0.00616, time_each_step=0.08s, eta=0:5:55\n",
      "2021-04-18 21:58:34 [INFO]\t[TRAIN] Epoch=17/40, Step=46/66, loss=0.00849, lr=0.006153, time_each_step=0.07s, eta=0:5:55\n",
      "2021-04-18 21:58:34 [INFO]\t[TRAIN] Epoch=17/40, Step=48/66, loss=0.011006, lr=0.006146, time_each_step=0.07s, eta=0:5:55\n",
      "2021-04-18 21:58:34 [INFO]\t[TRAIN] Epoch=17/40, Step=50/66, loss=0.007755, lr=0.006138, time_each_step=0.07s, eta=0:5:55\n",
      "2021-04-18 21:58:34 [INFO]\t[TRAIN] Epoch=17/40, Step=52/66, loss=0.007621, lr=0.006131, time_each_step=0.07s, eta=0:5:55\n",
      "2021-04-18 21:58:34 [INFO]\t[TRAIN] Epoch=17/40, Step=54/66, loss=0.010576, lr=0.006124, time_each_step=0.07s, eta=0:5:54\n",
      "2021-04-18 21:58:35 [INFO]\t[TRAIN] Epoch=17/40, Step=56/66, loss=0.005887, lr=0.006117, time_each_step=0.07s, eta=0:5:54\n",
      "2021-04-18 21:58:35 [INFO]\t[TRAIN] Epoch=17/40, Step=58/66, loss=0.010422, lr=0.00611, time_each_step=0.07s, eta=0:5:54\n",
      "2021-04-18 21:58:35 [INFO]\t[TRAIN] Epoch=17/40, Step=60/66, loss=0.006272, lr=0.006102, time_each_step=0.07s, eta=0:5:54\n",
      "2021-04-18 21:58:35 [INFO]\t[TRAIN] Epoch=17/40, Step=62/66, loss=0.011623, lr=0.006095, time_each_step=0.07s, eta=0:5:54\n",
      "2021-04-18 21:58:35 [INFO]\t[TRAIN] Epoch=17/40, Step=64/66, loss=0.006537, lr=0.006088, time_each_step=0.07s, eta=0:5:54\n",
      "2021-04-18 21:58:35 [INFO]\t[TRAIN] Epoch=17/40, Step=66/66, loss=0.01014, lr=0.006081, time_each_step=0.07s, eta=0:5:54\n",
      "2021-04-18 21:58:35 [INFO]\t[TRAIN] Epoch 17 finished, loss=0.00948, lr=0.006198 .\n",
      "2021-04-18 21:58:35 [INFO]\tStart to evaluating(total_samples=76, total_steps=19)...\n"
     ]
    },
    {
     "name": "stderr",
     "output_type": "stream",
     "text": [
      "100%|██████████| 19/19 [00:05<00:00,  3.31it/s]\n"
     ]
    },
    {
     "name": "stdout",
     "output_type": "stream",
     "text": [
      "2021-04-18 21:58:41 [INFO]\t[EVAL] Finished, Epoch=17, miou=0.803238, category_iou=[0.9891818  0.61729354], oacc=0.989367, category_acc=[0.99875584 0.64542884], kappa=0.758113, category_F1-score=[0.99456148 0.76336611] .\n",
      "2021-04-18 21:58:42 [INFO]\tModel saved in output/deeplab/epoch_17.\n",
      "2021-04-18 21:58:42 [INFO]\tCurrent evaluated best model in eval_dataset is epoch_16, miou=0.8339877741423766\n",
      "2021-04-18 21:58:45 [INFO]\t[TRAIN] Epoch=18/40, Step=2/66, loss=0.008832, lr=0.006074, time_each_step=0.24s, eta=0:6:47\n",
      "2021-04-18 21:58:46 [INFO]\t[TRAIN] Epoch=18/40, Step=4/66, loss=0.007813, lr=0.006066, time_each_step=0.25s, eta=0:6:47\n",
      "2021-04-18 21:58:46 [INFO]\t[TRAIN] Epoch=18/40, Step=6/66, loss=0.009309, lr=0.006059, time_each_step=0.26s, eta=0:6:47\n",
      "2021-04-18 21:58:46 [INFO]\t[TRAIN] Epoch=18/40, Step=8/66, loss=0.007129, lr=0.006052, time_each_step=0.27s, eta=0:6:47\n",
      "2021-04-18 21:58:47 [INFO]\t[TRAIN] Epoch=18/40, Step=10/66, loss=0.008008, lr=0.006045, time_each_step=0.28s, eta=0:6:47\n",
      "2021-04-18 21:58:47 [INFO]\t[TRAIN] Epoch=18/40, Step=12/66, loss=0.00813, lr=0.006038, time_each_step=0.29s, eta=0:6:47\n",
      "2021-04-18 21:58:47 [INFO]\t[TRAIN] Epoch=18/40, Step=14/66, loss=0.008129, lr=0.00603, time_each_step=0.3s, eta=0:6:47\n",
      "2021-04-18 21:58:48 [INFO]\t[TRAIN] Epoch=18/40, Step=16/66, loss=0.006448, lr=0.006023, time_each_step=0.3s, eta=0:6:47\n",
      "2021-04-18 21:58:48 [INFO]\t[TRAIN] Epoch=18/40, Step=18/66, loss=0.009565, lr=0.006016, time_each_step=0.31s, eta=0:6:47\n",
      "2021-04-18 21:58:48 [INFO]\t[TRAIN] Epoch=18/40, Step=20/66, loss=0.010666, lr=0.006009, time_each_step=0.31s, eta=0:6:46\n",
      "2021-04-18 21:58:48 [INFO]\t[TRAIN] Epoch=18/40, Step=22/66, loss=0.007895, lr=0.006001, time_each_step=0.15s, eta=0:6:38\n",
      "2021-04-18 21:58:48 [INFO]\t[TRAIN] Epoch=18/40, Step=24/66, loss=0.007555, lr=0.005994, time_each_step=0.14s, eta=0:6:38\n",
      "2021-04-18 21:58:49 [INFO]\t[TRAIN] Epoch=18/40, Step=26/66, loss=0.00746, lr=0.005987, time_each_step=0.13s, eta=0:6:37\n",
      "2021-04-18 21:58:49 [INFO]\t[TRAIN] Epoch=18/40, Step=28/66, loss=0.00692, lr=0.00598, time_each_step=0.12s, eta=0:6:36\n",
      "2021-04-18 21:58:49 [INFO]\t[TRAIN] Epoch=18/40, Step=30/66, loss=0.006224, lr=0.005973, time_each_step=0.11s, eta=0:6:36\n",
      "2021-04-18 21:58:49 [INFO]\t[TRAIN] Epoch=18/40, Step=32/66, loss=0.006114, lr=0.005965, time_each_step=0.1s, eta=0:6:35\n",
      "2021-04-18 21:58:49 [INFO]\t[TRAIN] Epoch=18/40, Step=34/66, loss=0.008119, lr=0.005958, time_each_step=0.09s, eta=0:6:35\n",
      "2021-04-18 21:58:49 [INFO]\t[TRAIN] Epoch=18/40, Step=36/66, loss=0.013502, lr=0.005951, time_each_step=0.09s, eta=0:6:35\n",
      "2021-04-18 21:58:49 [INFO]\t[TRAIN] Epoch=18/40, Step=38/66, loss=0.010466, lr=0.005944, time_each_step=0.08s, eta=0:6:34\n",
      "2021-04-18 21:58:50 [INFO]\t[TRAIN] Epoch=18/40, Step=40/66, loss=0.008024, lr=0.005936, time_each_step=0.07s, eta=0:6:34\n",
      "2021-04-18 21:58:50 [INFO]\t[TRAIN] Epoch=18/40, Step=42/66, loss=0.009332, lr=0.005929, time_each_step=0.07s, eta=0:6:34\n",
      "2021-04-18 21:58:50 [INFO]\t[TRAIN] Epoch=18/40, Step=44/66, loss=0.006038, lr=0.005922, time_each_step=0.07s, eta=0:6:33\n",
      "2021-04-18 21:58:50 [INFO]\t[TRAIN] Epoch=18/40, Step=46/66, loss=0.011015, lr=0.005915, time_each_step=0.07s, eta=0:6:33\n",
      "2021-04-18 21:58:50 [INFO]\t[TRAIN] Epoch=18/40, Step=48/66, loss=0.006152, lr=0.005908, time_each_step=0.07s, eta=0:6:33\n",
      "2021-04-18 21:58:50 [INFO]\t[TRAIN] Epoch=18/40, Step=50/66, loss=0.006538, lr=0.0059, time_each_step=0.07s, eta=0:6:33\n",
      "2021-04-18 21:58:50 [INFO]\t[TRAIN] Epoch=18/40, Step=52/66, loss=0.014545, lr=0.005893, time_each_step=0.07s, eta=0:6:33\n",
      "2021-04-18 21:58:51 [INFO]\t[TRAIN] Epoch=18/40, Step=54/66, loss=0.017831, lr=0.005886, time_each_step=0.07s, eta=0:6:33\n",
      "2021-04-18 21:58:51 [INFO]\t[TRAIN] Epoch=18/40, Step=56/66, loss=0.008151, lr=0.005879, time_each_step=0.07s, eta=0:6:33\n",
      "2021-04-18 21:58:51 [INFO]\t[TRAIN] Epoch=18/40, Step=58/66, loss=0.008587, lr=0.005871, time_each_step=0.07s, eta=0:6:32\n",
      "2021-04-18 21:58:51 [INFO]\t[TRAIN] Epoch=18/40, Step=60/66, loss=0.013152, lr=0.005864, time_each_step=0.07s, eta=0:6:32\n",
      "2021-04-18 21:58:51 [INFO]\t[TRAIN] Epoch=18/40, Step=62/66, loss=0.005995, lr=0.005857, time_each_step=0.07s, eta=0:6:32\n",
      "2021-04-18 21:58:51 [INFO]\t[TRAIN] Epoch=18/40, Step=64/66, loss=0.010962, lr=0.00585, time_each_step=0.07s, eta=0:6:32\n",
      "2021-04-18 21:58:51 [INFO]\t[TRAIN] Epoch=18/40, Step=66/66, loss=0.008742, lr=0.005842, time_each_step=0.07s, eta=0:6:32\n",
      "2021-04-18 21:58:51 [INFO]\t[TRAIN] Epoch 18 finished, loss=0.009465, lr=0.00596 .\n",
      "2021-04-18 21:58:51 [INFO]\tStart to evaluating(total_samples=76, total_steps=19)...\n"
     ]
    },
    {
     "name": "stderr",
     "output_type": "stream",
     "text": [
      "100%|██████████| 19/19 [00:05<00:00,  3.56it/s]\n"
     ]
    },
    {
     "name": "stdout",
     "output_type": "stream",
     "text": [
      "2021-04-18 21:58:57 [INFO]\t[EVAL] Finished, Epoch=18, miou=0.824159, category_iou=[0.99109923 0.65721792], oacc=0.991249, category_acc=[0.99837907 0.70063586], kappa=0.788767, category_F1-score=[0.99552972 0.79315812] .\n",
      "2021-04-18 21:58:57 [INFO]\tModel saved in output/deeplab/epoch_18.\n",
      "2021-04-18 21:58:57 [INFO]\tCurrent evaluated best model in eval_dataset is epoch_16, miou=0.8339877741423766\n",
      "2021-04-18 21:59:01 [INFO]\t[TRAIN] Epoch=19/40, Step=2/66, loss=0.016203, lr=0.005835, time_each_step=0.24s, eta=0:5:44\n",
      "2021-04-18 21:59:01 [INFO]\t[TRAIN] Epoch=19/40, Step=4/66, loss=0.008667, lr=0.005828, time_each_step=0.24s, eta=0:5:44\n",
      "2021-04-18 21:59:01 [INFO]\t[TRAIN] Epoch=19/40, Step=6/66, loss=0.007744, lr=0.005821, time_each_step=0.25s, eta=0:5:44\n",
      "2021-04-18 21:59:02 [INFO]\t[TRAIN] Epoch=19/40, Step=8/66, loss=0.008506, lr=0.005813, time_each_step=0.26s, eta=0:5:44\n",
      "2021-04-18 21:59:02 [INFO]\t[TRAIN] Epoch=19/40, Step=10/66, loss=0.006652, lr=0.005806, time_each_step=0.26s, eta=0:5:44\n",
      "2021-04-18 21:59:02 [INFO]\t[TRAIN] Epoch=19/40, Step=12/66, loss=0.009247, lr=0.005799, time_each_step=0.27s, eta=0:5:44\n",
      "2021-04-18 21:59:02 [INFO]\t[TRAIN] Epoch=19/40, Step=14/66, loss=0.014564, lr=0.005792, time_each_step=0.28s, eta=0:5:44\n",
      "2021-04-18 21:59:03 [INFO]\t[TRAIN] Epoch=19/40, Step=16/66, loss=0.006687, lr=0.005785, time_each_step=0.29s, eta=0:5:44\n",
      "2021-04-18 21:59:03 [INFO]\t[TRAIN] Epoch=19/40, Step=18/66, loss=0.007453, lr=0.005777, time_each_step=0.3s, eta=0:5:44\n",
      "2021-04-18 21:59:03 [INFO]\t[TRAIN] Epoch=19/40, Step=20/66, loss=0.008806, lr=0.00577, time_each_step=0.31s, eta=0:5:43\n",
      "2021-04-18 21:59:04 [INFO]\t[TRAIN] Epoch=19/40, Step=22/66, loss=0.006534, lr=0.005763, time_each_step=0.14s, eta=0:5:36\n",
      "2021-04-18 21:59:04 [INFO]\t[TRAIN] Epoch=19/40, Step=24/66, loss=0.008669, lr=0.005756, time_each_step=0.14s, eta=0:5:35\n",
      "2021-04-18 21:59:04 [INFO]\t[TRAIN] Epoch=19/40, Step=26/66, loss=0.007968, lr=0.005748, time_each_step=0.13s, eta=0:5:34\n",
      "2021-04-18 21:59:04 [INFO]\t[TRAIN] Epoch=19/40, Step=28/66, loss=0.006763, lr=0.005741, time_each_step=0.13s, eta=0:5:34\n",
      "2021-04-18 21:59:04 [INFO]\t[TRAIN] Epoch=19/40, Step=30/66, loss=0.01448, lr=0.005734, time_each_step=0.12s, eta=0:5:33\n",
      "2021-04-18 21:59:04 [INFO]\t[TRAIN] Epoch=19/40, Step=32/66, loss=0.007033, lr=0.005727, time_each_step=0.11s, eta=0:5:33\n",
      "2021-04-18 21:59:04 [INFO]\t[TRAIN] Epoch=19/40, Step=34/66, loss=0.008105, lr=0.005719, time_each_step=0.1s, eta=0:5:32\n",
      "2021-04-18 21:59:05 [INFO]\t[TRAIN] Epoch=19/40, Step=36/66, loss=0.005254, lr=0.005712, time_each_step=0.09s, eta=0:5:32\n",
      "2021-04-18 21:59:05 [INFO]\t[TRAIN] Epoch=19/40, Step=38/66, loss=0.00674, lr=0.005705, time_each_step=0.08s, eta=0:5:31\n",
      "2021-04-18 21:59:05 [INFO]\t[TRAIN] Epoch=19/40, Step=40/66, loss=0.007459, lr=0.005698, time_each_step=0.07s, eta=0:5:31\n",
      "2021-04-18 21:59:05 [INFO]\t[TRAIN] Epoch=19/40, Step=42/66, loss=0.008617, lr=0.00569, time_each_step=0.07s, eta=0:5:31\n",
      "2021-04-18 21:59:05 [INFO]\t[TRAIN] Epoch=19/40, Step=44/66, loss=0.00894, lr=0.005683, time_each_step=0.07s, eta=0:5:31\n",
      "2021-04-18 21:59:05 [INFO]\t[TRAIN] Epoch=19/40, Step=46/66, loss=0.006573, lr=0.005676, time_each_step=0.07s, eta=0:5:31\n",
      "2021-04-18 21:59:05 [INFO]\t[TRAIN] Epoch=19/40, Step=48/66, loss=0.008575, lr=0.005668, time_each_step=0.07s, eta=0:5:30\n",
      "2021-04-18 21:59:06 [INFO]\t[TRAIN] Epoch=19/40, Step=50/66, loss=0.008266, lr=0.005661, time_each_step=0.07s, eta=0:5:30\n",
      "2021-04-18 21:59:06 [INFO]\t[TRAIN] Epoch=19/40, Step=52/66, loss=0.006334, lr=0.005654, time_each_step=0.07s, eta=0:5:30\n",
      "2021-04-18 21:59:06 [INFO]\t[TRAIN] Epoch=19/40, Step=54/66, loss=0.007808, lr=0.005647, time_each_step=0.07s, eta=0:5:30\n",
      "2021-04-18 21:59:06 [INFO]\t[TRAIN] Epoch=19/40, Step=56/66, loss=0.007444, lr=0.005639, time_each_step=0.07s, eta=0:5:30\n",
      "2021-04-18 21:59:06 [INFO]\t[TRAIN] Epoch=19/40, Step=58/66, loss=0.005525, lr=0.005632, time_each_step=0.07s, eta=0:5:30\n",
      "2021-04-18 21:59:06 [INFO]\t[TRAIN] Epoch=19/40, Step=60/66, loss=0.006171, lr=0.005625, time_each_step=0.07s, eta=0:5:30\n",
      "2021-04-18 21:59:06 [INFO]\t[TRAIN] Epoch=19/40, Step=62/66, loss=0.009551, lr=0.005618, time_each_step=0.07s, eta=0:5:29\n",
      "2021-04-18 21:59:06 [INFO]\t[TRAIN] Epoch=19/40, Step=64/66, loss=0.006145, lr=0.00561, time_each_step=0.07s, eta=0:5:29\n",
      "2021-04-18 21:59:07 [INFO]\t[TRAIN] Epoch=19/40, Step=66/66, loss=0.005566, lr=0.005603, time_each_step=0.07s, eta=0:5:29\n",
      "2021-04-18 21:59:07 [INFO]\t[TRAIN] Epoch 19 finished, loss=0.008828, lr=0.005721 .\n",
      "2021-04-18 21:59:07 [INFO]\tStart to evaluating(total_samples=76, total_steps=19)...\n"
     ]
    },
    {
     "name": "stderr",
     "output_type": "stream",
     "text": [
      "100%|██████████| 19/19 [00:04<00:00,  4.02it/s]\n"
     ]
    },
    {
     "name": "stdout",
     "output_type": "stream",
     "text": [
      "2021-04-18 21:59:11 [INFO]\t[EVAL] Finished, Epoch=19, miou=0.81779, category_iou=[0.9904937  0.64508601], oacc=0.990655, category_acc=[0.99858854 0.68066359], kappa=0.779595, category_F1-score=[0.99522415 0.78425809] .\n",
      "2021-04-18 21:59:12 [INFO]\tModel saved in output/deeplab/epoch_19.\n",
      "2021-04-18 21:59:12 [INFO]\tCurrent evaluated best model in eval_dataset is epoch_16, miou=0.8339877741423766\n",
      "2021-04-18 21:59:15 [INFO]\t[TRAIN] Epoch=20/40, Step=2/66, loss=0.008213, lr=0.005596, time_each_step=0.23s, eta=0:5:10\n",
      "2021-04-18 21:59:16 [INFO]\t[TRAIN] Epoch=20/40, Step=4/66, loss=0.004691, lr=0.005589, time_each_step=0.24s, eta=0:5:10\n",
      "2021-04-18 21:59:16 [INFO]\t[TRAIN] Epoch=20/40, Step=6/66, loss=0.006557, lr=0.005581, time_each_step=0.25s, eta=0:5:10\n",
      "2021-04-18 21:59:16 [INFO]\t[TRAIN] Epoch=20/40, Step=8/66, loss=0.013756, lr=0.005574, time_each_step=0.26s, eta=0:5:10\n",
      "2021-04-18 21:59:16 [INFO]\t[TRAIN] Epoch=20/40, Step=10/66, loss=0.008362, lr=0.005567, time_each_step=0.27s, eta=0:5:10\n",
      "2021-04-18 21:59:17 [INFO]\t[TRAIN] Epoch=20/40, Step=12/66, loss=0.008276, lr=0.005559, time_each_step=0.28s, eta=0:5:10\n",
      "2021-04-18 21:59:17 [INFO]\t[TRAIN] Epoch=20/40, Step=14/66, loss=0.007172, lr=0.005552, time_each_step=0.29s, eta=0:5:10\n",
      "2021-04-18 21:59:17 [INFO]\t[TRAIN] Epoch=20/40, Step=16/66, loss=0.006734, lr=0.005545, time_each_step=0.29s, eta=0:5:9\n",
      "2021-04-18 21:59:18 [INFO]\t[TRAIN] Epoch=20/40, Step=18/66, loss=0.01023, lr=0.005538, time_each_step=0.29s, eta=0:5:9\n",
      "2021-04-18 21:59:18 [INFO]\t[TRAIN] Epoch=20/40, Step=20/66, loss=0.006341, lr=0.00553, time_each_step=0.3s, eta=0:5:9\n",
      "2021-04-18 21:59:18 [INFO]\t[TRAIN] Epoch=20/40, Step=22/66, loss=0.008518, lr=0.005523, time_each_step=0.14s, eta=0:5:1\n",
      "2021-04-18 21:59:18 [INFO]\t[TRAIN] Epoch=20/40, Step=24/66, loss=0.008886, lr=0.005516, time_each_step=0.13s, eta=0:5:0\n",
      "2021-04-18 21:59:18 [INFO]\t[TRAIN] Epoch=20/40, Step=26/66, loss=0.008195, lr=0.005508, time_each_step=0.13s, eta=0:5:0\n",
      "2021-04-18 21:59:18 [INFO]\t[TRAIN] Epoch=20/40, Step=28/66, loss=0.011644, lr=0.005501, time_each_step=0.12s, eta=0:4:59\n",
      "2021-04-18 21:59:19 [INFO]\t[TRAIN] Epoch=20/40, Step=30/66, loss=0.011481, lr=0.005494, time_each_step=0.11s, eta=0:4:59\n",
      "2021-04-18 21:59:19 [INFO]\t[TRAIN] Epoch=20/40, Step=32/66, loss=0.005985, lr=0.005487, time_each_step=0.1s, eta=0:4:58\n",
      "2021-04-18 21:59:19 [INFO]\t[TRAIN] Epoch=20/40, Step=34/66, loss=0.00849, lr=0.005479, time_each_step=0.09s, eta=0:4:58\n",
      "2021-04-18 21:59:19 [INFO]\t[TRAIN] Epoch=20/40, Step=36/66, loss=0.005373, lr=0.005472, time_each_step=0.09s, eta=0:4:58\n",
      "2021-04-18 21:59:19 [INFO]\t[TRAIN] Epoch=20/40, Step=38/66, loss=0.007703, lr=0.005465, time_each_step=0.09s, eta=0:4:57\n",
      "2021-04-18 21:59:19 [INFO]\t[TRAIN] Epoch=20/40, Step=40/66, loss=0.007247, lr=0.005457, time_each_step=0.08s, eta=0:4:57\n",
      "2021-04-18 21:59:20 [INFO]\t[TRAIN] Epoch=20/40, Step=42/66, loss=0.008618, lr=0.00545, time_each_step=0.08s, eta=0:4:57\n",
      "2021-04-18 21:59:20 [INFO]\t[TRAIN] Epoch=20/40, Step=44/66, loss=0.023299, lr=0.005443, time_each_step=0.08s, eta=0:4:57\n",
      "2021-04-18 21:59:20 [INFO]\t[TRAIN] Epoch=20/40, Step=46/66, loss=0.006538, lr=0.005436, time_each_step=0.07s, eta=0:4:56\n",
      "2021-04-18 21:59:20 [INFO]\t[TRAIN] Epoch=20/40, Step=48/66, loss=0.005155, lr=0.005428, time_each_step=0.07s, eta=0:4:56\n",
      "2021-04-18 21:59:20 [INFO]\t[TRAIN] Epoch=20/40, Step=50/66, loss=0.011874, lr=0.005421, time_each_step=0.07s, eta=0:4:56\n",
      "2021-04-18 21:59:20 [INFO]\t[TRAIN] Epoch=20/40, Step=52/66, loss=0.007679, lr=0.005414, time_each_step=0.07s, eta=0:4:56\n",
      "2021-04-18 21:59:20 [INFO]\t[TRAIN] Epoch=20/40, Step=54/66, loss=0.011444, lr=0.005406, time_each_step=0.07s, eta=0:4:56\n",
      "2021-04-18 21:59:21 [INFO]\t[TRAIN] Epoch=20/40, Step=56/66, loss=0.007558, lr=0.005399, time_each_step=0.07s, eta=0:4:56\n",
      "2021-04-18 21:59:21 [INFO]\t[TRAIN] Epoch=20/40, Step=58/66, loss=0.007024, lr=0.005392, time_each_step=0.07s, eta=0:4:55\n",
      "2021-04-18 21:59:21 [INFO]\t[TRAIN] Epoch=20/40, Step=60/66, loss=0.004817, lr=0.005384, time_each_step=0.07s, eta=0:4:55\n",
      "2021-04-18 21:59:21 [INFO]\t[TRAIN] Epoch=20/40, Step=62/66, loss=0.007911, lr=0.005377, time_each_step=0.07s, eta=0:4:55\n",
      "2021-04-18 21:59:21 [INFO]\t[TRAIN] Epoch=20/40, Step=64/66, loss=0.007596, lr=0.00537, time_each_step=0.07s, eta=0:4:55\n",
      "2021-04-18 21:59:21 [INFO]\t[TRAIN] Epoch=20/40, Step=66/66, loss=0.004451, lr=0.005363, time_each_step=0.07s, eta=0:4:55\n",
      "2021-04-18 21:59:21 [INFO]\t[TRAIN] Epoch 20 finished, loss=0.008621, lr=0.005481 .\n",
      "2021-04-18 21:59:21 [INFO]\tStart to evaluating(total_samples=76, total_steps=19)...\n"
     ]
    },
    {
     "name": "stderr",
     "output_type": "stream",
     "text": [
      "100%|██████████| 19/19 [00:06<00:00,  3.04it/s]\n"
     ]
    },
    {
     "name": "stdout",
     "output_type": "stream",
     "text": [
      "2021-04-18 21:59:27 [INFO]\t[EVAL] Finished, Epoch=20, miou=0.821179, category_iou=[0.99076391 0.65159393], oacc=0.990921, category_acc=[0.99858397 0.68805946], kappa=0.784511, category_F1-score=[0.99536053 0.78904859] .\n",
      "2021-04-18 21:59:28 [INFO]\tModel saved in output/deeplab/epoch_20.\n",
      "2021-04-18 21:59:28 [INFO]\tCurrent evaluated best model in eval_dataset is epoch_16, miou=0.8339877741423766\n",
      "2021-04-18 21:59:33 [INFO]\t[TRAIN] Epoch=21/40, Step=2/66, loss=0.007237, lr=0.005355, time_each_step=0.31s, eta=0:5:32\n",
      "2021-04-18 21:59:33 [INFO]\t[TRAIN] Epoch=21/40, Step=4/66, loss=0.008992, lr=0.005348, time_each_step=0.32s, eta=0:5:32\n",
      "2021-04-18 21:59:34 [INFO]\t[TRAIN] Epoch=21/40, Step=6/66, loss=0.005954, lr=0.005341, time_each_step=0.33s, eta=0:5:32\n",
      "2021-04-18 21:59:34 [INFO]\t[TRAIN] Epoch=21/40, Step=8/66, loss=0.010316, lr=0.005333, time_each_step=0.34s, eta=0:5:32\n",
      "2021-04-18 21:59:34 [INFO]\t[TRAIN] Epoch=21/40, Step=10/66, loss=0.006383, lr=0.005326, time_each_step=0.35s, eta=0:5:32\n",
      "2021-04-18 21:59:34 [INFO]\t[TRAIN] Epoch=21/40, Step=12/66, loss=0.011772, lr=0.005319, time_each_step=0.35s, eta=0:5:32\n",
      "2021-04-18 21:59:35 [INFO]\t[TRAIN] Epoch=21/40, Step=14/66, loss=0.008045, lr=0.005311, time_each_step=0.37s, eta=0:5:32\n",
      "2021-04-18 21:59:35 [INFO]\t[TRAIN] Epoch=21/40, Step=16/66, loss=0.012865, lr=0.005304, time_each_step=0.38s, eta=0:5:31\n",
      "2021-04-18 21:59:35 [INFO]\t[TRAIN] Epoch=21/40, Step=18/66, loss=0.008068, lr=0.005297, time_each_step=0.38s, eta=0:5:31\n",
      "2021-04-18 21:59:36 [INFO]\t[TRAIN] Epoch=21/40, Step=20/66, loss=0.007523, lr=0.005289, time_each_step=0.39s, eta=0:5:30\n",
      "2021-04-18 21:59:36 [INFO]\t[TRAIN] Epoch=21/40, Step=22/66, loss=0.00779, lr=0.005282, time_each_step=0.14s, eta=0:5:19\n",
      "2021-04-18 21:59:36 [INFO]\t[TRAIN] Epoch=21/40, Step=24/66, loss=0.008324, lr=0.005275, time_each_step=0.14s, eta=0:5:18\n",
      "2021-04-18 21:59:36 [INFO]\t[TRAIN] Epoch=21/40, Step=26/66, loss=0.005544, lr=0.005267, time_each_step=0.12s, eta=0:5:17\n",
      "2021-04-18 21:59:36 [INFO]\t[TRAIN] Epoch=21/40, Step=28/66, loss=0.010242, lr=0.00526, time_each_step=0.12s, eta=0:5:17\n",
      "2021-04-18 21:59:36 [INFO]\t[TRAIN] Epoch=21/40, Step=30/66, loss=0.00603, lr=0.005253, time_each_step=0.11s, eta=0:5:16\n",
      "2021-04-18 21:59:36 [INFO]\t[TRAIN] Epoch=21/40, Step=32/66, loss=0.006038, lr=0.005245, time_each_step=0.1s, eta=0:5:16\n",
      "2021-04-18 21:59:37 [INFO]\t[TRAIN] Epoch=21/40, Step=34/66, loss=0.007891, lr=0.005238, time_each_step=0.09s, eta=0:5:15\n",
      "2021-04-18 21:59:37 [INFO]\t[TRAIN] Epoch=21/40, Step=36/66, loss=0.007636, lr=0.005231, time_each_step=0.08s, eta=0:5:15\n",
      "2021-04-18 21:59:37 [INFO]\t[TRAIN] Epoch=21/40, Step=38/66, loss=0.006118, lr=0.005223, time_each_step=0.08s, eta=0:5:15\n",
      "2021-04-18 21:59:37 [INFO]\t[TRAIN] Epoch=21/40, Step=40/66, loss=0.014947, lr=0.005216, time_each_step=0.07s, eta=0:5:14\n",
      "2021-04-18 21:59:37 [INFO]\t[TRAIN] Epoch=21/40, Step=42/66, loss=0.007464, lr=0.005209, time_each_step=0.07s, eta=0:5:14\n",
      "2021-04-18 21:59:37 [INFO]\t[TRAIN] Epoch=21/40, Step=44/66, loss=0.008278, lr=0.005201, time_each_step=0.07s, eta=0:5:14\n",
      "2021-04-18 21:59:38 [INFO]\t[TRAIN] Epoch=21/40, Step=46/66, loss=0.009198, lr=0.005194, time_each_step=0.07s, eta=0:5:14\n",
      "2021-04-18 21:59:38 [INFO]\t[TRAIN] Epoch=21/40, Step=48/66, loss=0.007015, lr=0.005187, time_each_step=0.07s, eta=0:5:14\n",
      "2021-04-18 21:59:38 [INFO]\t[TRAIN] Epoch=21/40, Step=50/66, loss=0.006588, lr=0.005179, time_each_step=0.07s, eta=0:5:14\n",
      "2021-04-18 21:59:38 [INFO]\t[TRAIN] Epoch=21/40, Step=52/66, loss=0.010621, lr=0.005172, time_each_step=0.07s, eta=0:5:13\n",
      "2021-04-18 21:59:38 [INFO]\t[TRAIN] Epoch=21/40, Step=54/66, loss=0.015581, lr=0.005165, time_each_step=0.07s, eta=0:5:13\n",
      "2021-04-18 21:59:38 [INFO]\t[TRAIN] Epoch=21/40, Step=56/66, loss=0.007426, lr=0.005157, time_each_step=0.07s, eta=0:5:13\n",
      "2021-04-18 21:59:38 [INFO]\t[TRAIN] Epoch=21/40, Step=58/66, loss=0.005593, lr=0.00515, time_each_step=0.07s, eta=0:5:13\n",
      "2021-04-18 21:59:39 [INFO]\t[TRAIN] Epoch=21/40, Step=60/66, loss=0.010275, lr=0.005143, time_each_step=0.07s, eta=0:5:13\n",
      "2021-04-18 21:59:39 [INFO]\t[TRAIN] Epoch=21/40, Step=62/66, loss=0.006031, lr=0.005135, time_each_step=0.07s, eta=0:5:13\n",
      "2021-04-18 21:59:39 [INFO]\t[TRAIN] Epoch=21/40, Step=64/66, loss=0.007557, lr=0.005128, time_each_step=0.07s, eta=0:5:13\n",
      "2021-04-18 21:59:39 [INFO]\t[TRAIN] Epoch=21/40, Step=66/66, loss=0.011144, lr=0.005121, time_each_step=0.07s, eta=0:5:12\n",
      "2021-04-18 21:59:39 [INFO]\t[TRAIN] Epoch 21 finished, loss=0.008434, lr=0.00524 .\n",
      "2021-04-18 21:59:39 [INFO]\tStart to evaluating(total_samples=76, total_steps=19)...\n"
     ]
    },
    {
     "name": "stderr",
     "output_type": "stream",
     "text": [
      "100%|██████████| 19/19 [00:05<00:00,  3.51it/s]\n"
     ]
    },
    {
     "name": "stdout",
     "output_type": "stream",
     "text": [
      "2021-04-18 21:59:44 [INFO]\t[EVAL] Finished, Epoch=21, miou=0.833136, category_iou=[0.99174743 0.67452473], oacc=0.991886, category_acc=[0.99841702 0.71912065], kappa=0.801549, category_F1-score=[0.99585662 0.80563125] .\n",
      "2021-04-18 21:59:45 [INFO]\tModel saved in output/deeplab/epoch_21.\n",
      "2021-04-18 21:59:45 [INFO]\tCurrent evaluated best model in eval_dataset is epoch_16, miou=0.8339877741423766\n",
      "2021-04-18 21:59:49 [INFO]\t[TRAIN] Epoch=22/40, Step=2/66, loss=0.007206, lr=0.005113, time_each_step=0.27s, eta=0:5:27\n",
      "2021-04-18 21:59:49 [INFO]\t[TRAIN] Epoch=22/40, Step=4/66, loss=0.009776, lr=0.005106, time_each_step=0.28s, eta=0:5:27\n",
      "2021-04-18 21:59:49 [INFO]\t[TRAIN] Epoch=22/40, Step=6/66, loss=0.005629, lr=0.005099, time_each_step=0.28s, eta=0:5:27\n",
      "2021-04-18 21:59:50 [INFO]\t[TRAIN] Epoch=22/40, Step=8/66, loss=0.008368, lr=0.005091, time_each_step=0.29s, eta=0:5:27\n",
      "2021-04-18 21:59:50 [INFO]\t[TRAIN] Epoch=22/40, Step=10/66, loss=0.006433, lr=0.005084, time_each_step=0.3s, eta=0:5:27\n",
      "2021-04-18 21:59:50 [INFO]\t[TRAIN] Epoch=22/40, Step=12/66, loss=0.005827, lr=0.005077, time_each_step=0.3s, eta=0:5:27\n",
      "2021-04-18 21:59:51 [INFO]\t[TRAIN] Epoch=22/40, Step=14/66, loss=0.007691, lr=0.005069, time_each_step=0.31s, eta=0:5:27\n",
      "2021-04-18 21:59:51 [INFO]\t[TRAIN] Epoch=22/40, Step=16/66, loss=0.015748, lr=0.005062, time_each_step=0.32s, eta=0:5:26\n",
      "2021-04-18 21:59:51 [INFO]\t[TRAIN] Epoch=22/40, Step=18/66, loss=0.005339, lr=0.005055, time_each_step=0.33s, eta=0:5:26\n",
      "2021-04-18 21:59:51 [INFO]\t[TRAIN] Epoch=22/40, Step=20/66, loss=0.0079, lr=0.005047, time_each_step=0.33s, eta=0:5:25\n",
      "2021-04-18 21:59:52 [INFO]\t[TRAIN] Epoch=22/40, Step=22/66, loss=0.007472, lr=0.00504, time_each_step=0.14s, eta=0:5:16\n",
      "2021-04-18 21:59:52 [INFO]\t[TRAIN] Epoch=22/40, Step=24/66, loss=0.008299, lr=0.005033, time_each_step=0.13s, eta=0:5:16\n",
      "2021-04-18 21:59:52 [INFO]\t[TRAIN] Epoch=22/40, Step=26/66, loss=0.006827, lr=0.005025, time_each_step=0.12s, eta=0:5:15\n",
      "2021-04-18 21:59:52 [INFO]\t[TRAIN] Epoch=22/40, Step=28/66, loss=0.008487, lr=0.005018, time_each_step=0.11s, eta=0:5:15\n",
      "2021-04-18 21:59:52 [INFO]\t[TRAIN] Epoch=22/40, Step=30/66, loss=0.007471, lr=0.00501, time_each_step=0.11s, eta=0:5:14\n",
      "2021-04-18 21:59:52 [INFO]\t[TRAIN] Epoch=22/40, Step=32/66, loss=0.011735, lr=0.005003, time_each_step=0.1s, eta=0:5:14\n",
      "2021-04-18 21:59:52 [INFO]\t[TRAIN] Epoch=22/40, Step=34/66, loss=0.006108, lr=0.004996, time_each_step=0.09s, eta=0:5:13\n",
      "2021-04-18 21:59:53 [INFO]\t[TRAIN] Epoch=22/40, Step=36/66, loss=0.018973, lr=0.004988, time_each_step=0.08s, eta=0:5:13\n",
      "2021-04-18 21:59:53 [INFO]\t[TRAIN] Epoch=22/40, Step=38/66, loss=0.018883, lr=0.004981, time_each_step=0.08s, eta=0:5:12\n",
      "2021-04-18 21:59:53 [INFO]\t[TRAIN] Epoch=22/40, Step=40/66, loss=0.009738, lr=0.004974, time_each_step=0.07s, eta=0:5:12\n",
      "2021-04-18 21:59:53 [INFO]\t[TRAIN] Epoch=22/40, Step=42/66, loss=0.007999, lr=0.004966, time_each_step=0.07s, eta=0:5:12\n",
      "2021-04-18 21:59:53 [INFO]\t[TRAIN] Epoch=22/40, Step=44/66, loss=0.009324, lr=0.004959, time_each_step=0.07s, eta=0:5:12\n",
      "2021-04-18 21:59:53 [INFO]\t[TRAIN] Epoch=22/40, Step=46/66, loss=0.005873, lr=0.004952, time_each_step=0.07s, eta=0:5:12\n",
      "2021-04-18 21:59:54 [INFO]\t[TRAIN] Epoch=22/40, Step=48/66, loss=0.008767, lr=0.004944, time_each_step=0.07s, eta=0:5:12\n",
      "2021-04-18 21:59:54 [INFO]\t[TRAIN] Epoch=22/40, Step=50/66, loss=0.00715, lr=0.004937, time_each_step=0.07s, eta=0:5:11\n",
      "2021-04-18 21:59:54 [INFO]\t[TRAIN] Epoch=22/40, Step=52/66, loss=0.005879, lr=0.004929, time_each_step=0.09s, eta=0:5:11\n",
      "2021-04-18 21:59:54 [INFO]\t[TRAIN] Epoch=22/40, Step=54/66, loss=0.007298, lr=0.004922, time_each_step=0.09s, eta=0:5:11\n",
      "2021-04-18 21:59:54 [INFO]\t[TRAIN] Epoch=22/40, Step=56/66, loss=0.005448, lr=0.004915, time_each_step=0.09s, eta=0:5:11\n",
      "2021-04-18 21:59:55 [INFO]\t[TRAIN] Epoch=22/40, Step=58/66, loss=0.009422, lr=0.004907, time_each_step=0.09s, eta=0:5:11\n",
      "2021-04-18 21:59:55 [INFO]\t[TRAIN] Epoch=22/40, Step=60/66, loss=0.007599, lr=0.0049, time_each_step=0.09s, eta=0:5:11\n",
      "2021-04-18 21:59:55 [INFO]\t[TRAIN] Epoch=22/40, Step=62/66, loss=0.012447, lr=0.004893, time_each_step=0.09s, eta=0:5:11\n",
      "2021-04-18 21:59:55 [INFO]\t[TRAIN] Epoch=22/40, Step=64/66, loss=0.007583, lr=0.004885, time_each_step=0.09s, eta=0:5:10\n",
      "2021-04-18 21:59:55 [INFO]\t[TRAIN] Epoch=22/40, Step=66/66, loss=0.007304, lr=0.004878, time_each_step=0.09s, eta=0:5:10\n",
      "2021-04-18 21:59:55 [INFO]\t[TRAIN] Epoch 22 finished, loss=0.008484, lr=0.004998 .\n",
      "2021-04-18 21:59:55 [INFO]\tStart to evaluating(total_samples=76, total_steps=19)...\n"
     ]
    },
    {
     "name": "stderr",
     "output_type": "stream",
     "text": [
      "100%|██████████| 19/19 [00:05<00:00,  3.65it/s]\n"
     ]
    },
    {
     "name": "stdout",
     "output_type": "stream",
     "text": [
      "2021-04-18 22:00:00 [INFO]\t[EVAL] Finished, Epoch=22, miou=0.827501, category_iou=[0.99128723 0.66371423], oacc=0.991435, category_acc=[0.99850827 0.70395209], kappa=0.793575, category_F1-score=[0.99562456 0.79787047] .\n",
      "2021-04-18 22:00:01 [INFO]\tModel saved in output/deeplab/epoch_22.\n",
      "2021-04-18 22:00:01 [INFO]\tCurrent evaluated best model in eval_dataset is epoch_16, miou=0.8339877741423766\n",
      "2021-04-18 22:00:05 [INFO]\t[TRAIN] Epoch=23/40, Step=2/66, loss=0.009362, lr=0.00487, time_each_step=0.3s, eta=0:4:56\n",
      "2021-04-18 22:00:06 [INFO]\t[TRAIN] Epoch=23/40, Step=4/66, loss=0.00592, lr=0.004863, time_each_step=0.31s, eta=0:4:56\n",
      "2021-04-18 22:00:06 [INFO]\t[TRAIN] Epoch=23/40, Step=6/66, loss=0.006684, lr=0.004856, time_each_step=0.31s, eta=0:4:55\n",
      "2021-04-18 22:00:06 [INFO]\t[TRAIN] Epoch=23/40, Step=8/66, loss=0.007336, lr=0.004848, time_each_step=0.31s, eta=0:4:55\n",
      "2021-04-18 22:00:06 [INFO]\t[TRAIN] Epoch=23/40, Step=10/66, loss=0.010045, lr=0.004841, time_each_step=0.32s, eta=0:4:55\n",
      "2021-04-18 22:00:07 [INFO]\t[TRAIN] Epoch=23/40, Step=12/66, loss=0.008695, lr=0.004833, time_each_step=0.33s, eta=0:4:55\n",
      "2021-04-18 22:00:07 [INFO]\t[TRAIN] Epoch=23/40, Step=14/66, loss=0.005556, lr=0.004826, time_each_step=0.33s, eta=0:4:54\n",
      "2021-04-18 22:00:07 [INFO]\t[TRAIN] Epoch=23/40, Step=16/66, loss=0.006173, lr=0.004819, time_each_step=0.34s, eta=0:4:54\n",
      "2021-04-18 22:00:08 [INFO]\t[TRAIN] Epoch=23/40, Step=18/66, loss=0.007339, lr=0.004811, time_each_step=0.37s, eta=0:4:54\n",
      "2021-04-18 22:00:08 [INFO]\t[TRAIN] Epoch=23/40, Step=20/66, loss=0.005132, lr=0.004804, time_each_step=0.36s, eta=0:4:54\n",
      "2021-04-18 22:00:08 [INFO]\t[TRAIN] Epoch=23/40, Step=22/66, loss=0.006031, lr=0.004796, time_each_step=0.15s, eta=0:4:44\n",
      "2021-04-18 22:00:08 [INFO]\t[TRAIN] Epoch=23/40, Step=24/66, loss=0.009894, lr=0.004789, time_each_step=0.15s, eta=0:4:43\n",
      "2021-04-18 22:00:09 [INFO]\t[TRAIN] Epoch=23/40, Step=26/66, loss=0.005264, lr=0.004782, time_each_step=0.13s, eta=0:4:42\n",
      "2021-04-18 22:00:09 [INFO]\t[TRAIN] Epoch=23/40, Step=28/66, loss=0.021305, lr=0.004774, time_each_step=0.13s, eta=0:4:42\n",
      "2021-04-18 22:00:09 [INFO]\t[TRAIN] Epoch=23/40, Step=30/66, loss=0.007563, lr=0.004767, time_each_step=0.12s, eta=0:4:41\n",
      "2021-04-18 22:00:09 [INFO]\t[TRAIN] Epoch=23/40, Step=32/66, loss=0.007051, lr=0.004759, time_each_step=0.11s, eta=0:4:40\n",
      "2021-04-18 22:00:09 [INFO]\t[TRAIN] Epoch=23/40, Step=34/66, loss=0.00753, lr=0.004752, time_each_step=0.1s, eta=0:4:40\n",
      "2021-04-18 22:00:09 [INFO]\t[TRAIN] Epoch=23/40, Step=36/66, loss=0.008329, lr=0.004745, time_each_step=0.1s, eta=0:4:40\n",
      "2021-04-18 22:00:09 [INFO]\t[TRAIN] Epoch=23/40, Step=38/66, loss=0.010486, lr=0.004737, time_each_step=0.07s, eta=0:4:39\n",
      "2021-04-18 22:00:10 [INFO]\t[TRAIN] Epoch=23/40, Step=40/66, loss=0.005017, lr=0.00473, time_each_step=0.07s, eta=0:4:39\n",
      "2021-04-18 22:00:10 [INFO]\t[TRAIN] Epoch=23/40, Step=42/66, loss=0.007804, lr=0.004722, time_each_step=0.07s, eta=0:4:38\n",
      "2021-04-18 22:00:10 [INFO]\t[TRAIN] Epoch=23/40, Step=44/66, loss=0.01438, lr=0.004715, time_each_step=0.07s, eta=0:4:38\n",
      "2021-04-18 22:00:10 [INFO]\t[TRAIN] Epoch=23/40, Step=46/66, loss=0.007787, lr=0.004708, time_each_step=0.08s, eta=0:4:38\n",
      "2021-04-18 22:00:10 [INFO]\t[TRAIN] Epoch=23/40, Step=48/66, loss=0.007788, lr=0.0047, time_each_step=0.08s, eta=0:4:38\n",
      "2021-04-18 22:00:10 [INFO]\t[TRAIN] Epoch=23/40, Step=50/66, loss=0.010173, lr=0.004693, time_each_step=0.08s, eta=0:4:38\n",
      "2021-04-18 22:00:11 [INFO]\t[TRAIN] Epoch=23/40, Step=52/66, loss=0.009223, lr=0.004685, time_each_step=0.08s, eta=0:4:38\n",
      "2021-04-18 22:00:11 [INFO]\t[TRAIN] Epoch=23/40, Step=54/66, loss=0.01079, lr=0.004678, time_each_step=0.09s, eta=0:4:38\n",
      "2021-04-18 22:00:11 [INFO]\t[TRAIN] Epoch=23/40, Step=56/66, loss=0.008851, lr=0.00467, time_each_step=0.09s, eta=0:4:38\n",
      "2021-04-18 22:00:11 [INFO]\t[TRAIN] Epoch=23/40, Step=58/66, loss=0.013281, lr=0.004663, time_each_step=0.09s, eta=0:4:37\n",
      "2021-04-18 22:00:11 [INFO]\t[TRAIN] Epoch=23/40, Step=60/66, loss=0.008298, lr=0.004656, time_each_step=0.09s, eta=0:4:37\n",
      "2021-04-18 22:00:11 [INFO]\t[TRAIN] Epoch=23/40, Step=62/66, loss=0.007158, lr=0.004648, time_each_step=0.09s, eta=0:4:37\n",
      "2021-04-18 22:00:12 [INFO]\t[TRAIN] Epoch=23/40, Step=64/66, loss=0.009102, lr=0.004641, time_each_step=0.09s, eta=0:4:37\n",
      "2021-04-18 22:00:12 [INFO]\t[TRAIN] Epoch=23/40, Step=66/66, loss=0.008745, lr=0.004633, time_each_step=0.08s, eta=0:4:37\n",
      "2021-04-18 22:00:12 [INFO]\t[TRAIN] Epoch 23 finished, loss=0.008207, lr=0.004754 .\n",
      "2021-04-18 22:00:12 [INFO]\tStart to evaluating(total_samples=76, total_steps=19)...\n"
     ]
    },
    {
     "name": "stderr",
     "output_type": "stream",
     "text": [
      "100%|██████████| 19/19 [00:06<00:00,  2.73it/s]\n"
     ]
    },
    {
     "name": "stdout",
     "output_type": "stream",
     "text": [
      "2021-04-18 22:00:19 [INFO]\t[EVAL] Finished, Epoch=23, miou=0.841506, category_iou=[0.99240035 0.69061138], oacc=0.992527, category_acc=[0.99828094 0.74225153], kappa=0.813221, category_F1-score=[0.99618568 0.81699602] .\n",
      "2021-04-18 22:00:19 [INFO]\tModel saved in output/deeplab/best_model.\n",
      "2021-04-18 22:00:19 [INFO]\tModel saved in output/deeplab/epoch_23.\n",
      "2021-04-18 22:00:19 [INFO]\tCurrent evaluated best model in eval_dataset is epoch_23, miou=0.8415058669289147\n",
      "2021-04-18 22:00:26 [INFO]\t[TRAIN] Epoch=24/40, Step=2/66, loss=0.006704, lr=0.004626, time_each_step=0.4s, eta=0:5:31\n",
      "2021-04-18 22:00:26 [INFO]\t[TRAIN] Epoch=24/40, Step=4/66, loss=0.007119, lr=0.004619, time_each_step=0.41s, eta=0:5:31\n",
      "2021-04-18 22:00:27 [INFO]\t[TRAIN] Epoch=24/40, Step=6/66, loss=0.006309, lr=0.004611, time_each_step=0.41s, eta=0:5:31\n",
      "2021-04-18 22:00:27 [INFO]\t[TRAIN] Epoch=24/40, Step=8/66, loss=0.008276, lr=0.004604, time_each_step=0.42s, eta=0:5:30\n",
      "2021-04-18 22:00:28 [INFO]\t[TRAIN] Epoch=24/40, Step=10/66, loss=0.007438, lr=0.004596, time_each_step=0.45s, eta=0:5:31\n",
      "2021-04-18 22:00:28 [INFO]\t[TRAIN] Epoch=24/40, Step=12/66, loss=0.005355, lr=0.004589, time_each_step=0.46s, eta=0:5:30\n",
      "2021-04-18 22:00:28 [INFO]\t[TRAIN] Epoch=24/40, Step=14/66, loss=0.008508, lr=0.004581, time_each_step=0.47s, eta=0:5:30\n",
      "2021-04-18 22:00:29 [INFO]\t[TRAIN] Epoch=24/40, Step=16/66, loss=0.004913, lr=0.004574, time_each_step=0.48s, eta=0:5:30\n",
      "2021-04-18 22:00:29 [INFO]\t[TRAIN] Epoch=24/40, Step=18/66, loss=0.006077, lr=0.004566, time_each_step=0.48s, eta=0:5:29\n",
      "2021-04-18 22:00:29 [INFO]\t[TRAIN] Epoch=24/40, Step=20/66, loss=0.013118, lr=0.004559, time_each_step=0.49s, eta=0:5:28\n",
      "2021-04-18 22:00:29 [INFO]\t[TRAIN] Epoch=24/40, Step=22/66, loss=0.005899, lr=0.004552, time_each_step=0.17s, eta=0:5:13\n",
      "2021-04-18 22:00:30 [INFO]\t[TRAIN] Epoch=24/40, Step=24/66, loss=0.006144, lr=0.004544, time_each_step=0.16s, eta=0:5:12\n",
      "2021-04-18 22:00:30 [INFO]\t[TRAIN] Epoch=24/40, Step=26/66, loss=0.008017, lr=0.004537, time_each_step=0.15s, eta=0:5:12\n",
      "2021-04-18 22:00:30 [INFO]\t[TRAIN] Epoch=24/40, Step=28/66, loss=0.006493, lr=0.004529, time_each_step=0.13s, eta=0:5:11\n",
      "2021-04-18 22:00:30 [INFO]\t[TRAIN] Epoch=24/40, Step=30/66, loss=0.005246, lr=0.004522, time_each_step=0.11s, eta=0:5:10\n",
      "2021-04-18 22:00:30 [INFO]\t[TRAIN] Epoch=24/40, Step=32/66, loss=0.006088, lr=0.004514, time_each_step=0.1s, eta=0:5:9\n",
      "2021-04-18 22:00:30 [INFO]\t[TRAIN] Epoch=24/40, Step=34/66, loss=0.016799, lr=0.004507, time_each_step=0.09s, eta=0:5:9\n",
      "2021-04-18 22:00:30 [INFO]\t[TRAIN] Epoch=24/40, Step=36/66, loss=0.010949, lr=0.004499, time_each_step=0.08s, eta=0:5:8\n",
      "2021-04-18 22:00:30 [INFO]\t[TRAIN] Epoch=24/40, Step=38/66, loss=0.007307, lr=0.004492, time_each_step=0.07s, eta=0:5:8\n",
      "2021-04-18 22:00:31 [INFO]\t[TRAIN] Epoch=24/40, Step=40/66, loss=0.013608, lr=0.004485, time_each_step=0.07s, eta=0:5:8\n",
      "2021-04-18 22:00:31 [INFO]\t[TRAIN] Epoch=24/40, Step=42/66, loss=0.008493, lr=0.004477, time_each_step=0.07s, eta=0:5:7\n",
      "2021-04-18 22:00:31 [INFO]\t[TRAIN] Epoch=24/40, Step=44/66, loss=0.008034, lr=0.00447, time_each_step=0.07s, eta=0:5:7\n",
      "2021-04-18 22:00:31 [INFO]\t[TRAIN] Epoch=24/40, Step=46/66, loss=0.007898, lr=0.004462, time_each_step=0.07s, eta=0:5:7\n",
      "2021-04-18 22:00:31 [INFO]\t[TRAIN] Epoch=24/40, Step=48/66, loss=0.007358, lr=0.004455, time_each_step=0.07s, eta=0:5:7\n",
      "2021-04-18 22:00:31 [INFO]\t[TRAIN] Epoch=24/40, Step=50/66, loss=0.006261, lr=0.004447, time_each_step=0.07s, eta=0:5:7\n",
      "2021-04-18 22:00:31 [INFO]\t[TRAIN] Epoch=24/40, Step=52/66, loss=0.013894, lr=0.00444, time_each_step=0.07s, eta=0:5:7\n",
      "2021-04-18 22:00:32 [INFO]\t[TRAIN] Epoch=24/40, Step=54/66, loss=0.008966, lr=0.004432, time_each_step=0.07s, eta=0:5:7\n",
      "2021-04-18 22:00:32 [INFO]\t[TRAIN] Epoch=24/40, Step=56/66, loss=0.006349, lr=0.004425, time_each_step=0.07s, eta=0:5:6\n",
      "2021-04-18 22:00:32 [INFO]\t[TRAIN] Epoch=24/40, Step=58/66, loss=0.010515, lr=0.004417, time_each_step=0.07s, eta=0:5:6\n",
      "2021-04-18 22:00:32 [INFO]\t[TRAIN] Epoch=24/40, Step=60/66, loss=0.007015, lr=0.00441, time_each_step=0.07s, eta=0:5:6\n",
      "2021-04-18 22:00:32 [INFO]\t[TRAIN] Epoch=24/40, Step=62/66, loss=0.015041, lr=0.004403, time_each_step=0.08s, eta=0:5:6\n",
      "2021-04-18 22:00:33 [INFO]\t[TRAIN] Epoch=24/40, Step=64/66, loss=0.005849, lr=0.004395, time_each_step=0.08s, eta=0:5:6\n",
      "2021-04-18 22:00:33 [INFO]\t[TRAIN] Epoch=24/40, Step=66/66, loss=0.006096, lr=0.004388, time_each_step=0.08s, eta=0:5:6\n",
      "2021-04-18 22:00:33 [INFO]\t[TRAIN] Epoch 24 finished, loss=0.008364, lr=0.004509 .\n",
      "2021-04-18 22:00:33 [INFO]\tStart to evaluating(total_samples=76, total_steps=19)...\n"
     ]
    },
    {
     "name": "stderr",
     "output_type": "stream",
     "text": [
      "100%|██████████| 19/19 [00:05<00:00,  3.79it/s]\n"
     ]
    },
    {
     "name": "stdout",
     "output_type": "stream",
     "text": [
      "2021-04-18 22:00:38 [INFO]\t[EVAL] Finished, Epoch=24, miou=0.839497, category_iou=[0.99215385 0.68684001], oacc=0.992287, category_acc=[0.99852195 0.72960701], kappa=0.810467, category_F1-score=[0.99606148 0.8143511 ] .\n",
      "2021-04-18 22:00:38 [INFO]\tModel saved in output/deeplab/epoch_24.\n",
      "2021-04-18 22:00:38 [INFO]\tCurrent evaluated best model in eval_dataset is epoch_23, miou=0.8415058669289147\n",
      "2021-04-18 22:00:42 [INFO]\t[TRAIN] Epoch=25/40, Step=2/66, loss=0.009019, lr=0.00438, time_each_step=0.26s, eta=0:5:0\n",
      "2021-04-18 22:00:42 [INFO]\t[TRAIN] Epoch=25/40, Step=4/66, loss=0.006945, lr=0.004373, time_each_step=0.27s, eta=0:5:0\n",
      "2021-04-18 22:00:42 [INFO]\t[TRAIN] Epoch=25/40, Step=6/66, loss=0.0069, lr=0.004365, time_each_step=0.27s, eta=0:5:0\n",
      "2021-04-18 22:00:43 [INFO]\t[TRAIN] Epoch=25/40, Step=8/66, loss=0.013504, lr=0.004358, time_each_step=0.28s, eta=0:5:0\n",
      "2021-04-18 22:00:43 [INFO]\t[TRAIN] Epoch=25/40, Step=10/66, loss=0.00655, lr=0.00435, time_each_step=0.31s, eta=0:5:1\n",
      "2021-04-18 22:00:44 [INFO]\t[TRAIN] Epoch=25/40, Step=12/66, loss=0.0096, lr=0.004343, time_each_step=0.32s, eta=0:5:1\n",
      "2021-04-18 22:00:44 [INFO]\t[TRAIN] Epoch=25/40, Step=14/66, loss=0.005125, lr=0.004335, time_each_step=0.32s, eta=0:5:1\n",
      "2021-04-18 22:00:44 [INFO]\t[TRAIN] Epoch=25/40, Step=16/66, loss=0.009765, lr=0.004328, time_each_step=0.33s, eta=0:5:0\n",
      "2021-04-18 22:00:44 [INFO]\t[TRAIN] Epoch=25/40, Step=18/66, loss=0.007297, lr=0.00432, time_each_step=0.33s, eta=0:4:59\n",
      "2021-04-18 22:00:45 [INFO]\t[TRAIN] Epoch=25/40, Step=20/66, loss=0.00777, lr=0.004313, time_each_step=0.33s, eta=0:4:59\n",
      "2021-04-18 22:00:45 [INFO]\t[TRAIN] Epoch=25/40, Step=22/66, loss=0.005921, lr=0.004305, time_each_step=0.15s, eta=0:4:51\n",
      "2021-04-18 22:00:45 [INFO]\t[TRAIN] Epoch=25/40, Step=24/66, loss=0.006711, lr=0.004298, time_each_step=0.15s, eta=0:4:50\n",
      "2021-04-18 22:00:45 [INFO]\t[TRAIN] Epoch=25/40, Step=26/66, loss=0.006035, lr=0.00429, time_each_step=0.14s, eta=0:4:49\n",
      "2021-04-18 22:00:45 [INFO]\t[TRAIN] Epoch=25/40, Step=28/66, loss=0.014704, lr=0.004283, time_each_step=0.13s, eta=0:4:49\n",
      "2021-04-18 22:00:45 [INFO]\t[TRAIN] Epoch=25/40, Step=30/66, loss=0.006685, lr=0.004275, time_each_step=0.11s, eta=0:4:48\n",
      "2021-04-18 22:00:46 [INFO]\t[TRAIN] Epoch=25/40, Step=32/66, loss=0.008836, lr=0.004268, time_each_step=0.1s, eta=0:4:47\n",
      "2021-04-18 22:00:46 [INFO]\t[TRAIN] Epoch=25/40, Step=34/66, loss=0.005473, lr=0.00426, time_each_step=0.09s, eta=0:4:47\n",
      "2021-04-18 22:00:46 [INFO]\t[TRAIN] Epoch=25/40, Step=36/66, loss=0.006106, lr=0.004253, time_each_step=0.08s, eta=0:4:46\n",
      "2021-04-18 22:00:46 [INFO]\t[TRAIN] Epoch=25/40, Step=38/66, loss=0.007067, lr=0.004245, time_each_step=0.08s, eta=0:4:46\n",
      "2021-04-18 22:00:46 [INFO]\t[TRAIN] Epoch=25/40, Step=40/66, loss=0.017177, lr=0.004238, time_each_step=0.08s, eta=0:4:46\n",
      "2021-04-18 22:00:46 [INFO]\t[TRAIN] Epoch=25/40, Step=42/66, loss=0.008107, lr=0.00423, time_each_step=0.08s, eta=0:4:46\n",
      "2021-04-18 22:00:46 [INFO]\t[TRAIN] Epoch=25/40, Step=44/66, loss=0.013999, lr=0.004223, time_each_step=0.08s, eta=0:4:46\n",
      "2021-04-18 22:00:47 [INFO]\t[TRAIN] Epoch=25/40, Step=46/66, loss=0.010808, lr=0.004215, time_each_step=0.08s, eta=0:4:45\n",
      "2021-04-18 22:00:47 [INFO]\t[TRAIN] Epoch=25/40, Step=48/66, loss=0.006318, lr=0.004208, time_each_step=0.07s, eta=0:4:45\n",
      "2021-04-18 22:00:47 [INFO]\t[TRAIN] Epoch=25/40, Step=50/66, loss=0.017465, lr=0.0042, time_each_step=0.07s, eta=0:4:45\n",
      "2021-04-18 22:00:47 [INFO]\t[TRAIN] Epoch=25/40, Step=52/66, loss=0.006882, lr=0.004193, time_each_step=0.07s, eta=0:4:45\n",
      "2021-04-18 22:00:47 [INFO]\t[TRAIN] Epoch=25/40, Step=54/66, loss=0.006658, lr=0.004185, time_each_step=0.07s, eta=0:4:45\n",
      "2021-04-18 22:00:47 [INFO]\t[TRAIN] Epoch=25/40, Step=56/66, loss=0.010108, lr=0.004178, time_each_step=0.07s, eta=0:4:45\n",
      "2021-04-18 22:00:47 [INFO]\t[TRAIN] Epoch=25/40, Step=58/66, loss=0.006105, lr=0.00417, time_each_step=0.07s, eta=0:4:44\n",
      "2021-04-18 22:00:48 [INFO]\t[TRAIN] Epoch=25/40, Step=60/66, loss=0.006099, lr=0.004163, time_each_step=0.07s, eta=0:4:44\n",
      "2021-04-18 22:00:48 [INFO]\t[TRAIN] Epoch=25/40, Step=62/66, loss=0.005205, lr=0.004155, time_each_step=0.07s, eta=0:4:44\n",
      "2021-04-18 22:00:48 [INFO]\t[TRAIN] Epoch=25/40, Step=64/66, loss=0.008892, lr=0.004148, time_each_step=0.07s, eta=0:4:44\n",
      "2021-04-18 22:00:48 [INFO]\t[TRAIN] Epoch=25/40, Step=66/66, loss=0.005667, lr=0.00414, time_each_step=0.07s, eta=0:4:44\n",
      "2021-04-18 22:00:48 [INFO]\t[TRAIN] Epoch 25 finished, loss=0.00815, lr=0.004262 .\n",
      "2021-04-18 22:00:48 [INFO]\tStart to evaluating(total_samples=76, total_steps=19)...\n"
     ]
    },
    {
     "name": "stderr",
     "output_type": "stream",
     "text": [
      "100%|██████████| 19/19 [00:07<00:00,  2.40it/s]\n"
     ]
    },
    {
     "name": "stdout",
     "output_type": "stream",
     "text": [
      "2021-04-18 22:00:56 [INFO]\t[EVAL] Finished, Epoch=25, miou=0.827712, category_iou=[0.9912092  0.66421448], oacc=0.991359, category_acc=[0.99869872 0.69868242], kappa=0.793909, category_F1-score=[0.99558519 0.79823182] .\n",
      "2021-04-18 22:00:56 [INFO]\tModel saved in output/deeplab/epoch_25.\n",
      "2021-04-18 22:00:56 [INFO]\tCurrent evaluated best model in eval_dataset is epoch_23, miou=0.8415058669289147\n",
      "2021-04-18 22:01:02 [INFO]\t[TRAIN] Epoch=26/40, Step=2/66, loss=0.006873, lr=0.004133, time_each_step=0.35s, eta=0:4:46\n",
      "2021-04-18 22:01:03 [INFO]\t[TRAIN] Epoch=26/40, Step=4/66, loss=0.007023, lr=0.004125, time_each_step=0.36s, eta=0:4:46\n",
      "2021-04-18 22:01:03 [INFO]\t[TRAIN] Epoch=26/40, Step=6/66, loss=0.007072, lr=0.004118, time_each_step=0.37s, eta=0:4:46\n",
      "2021-04-18 22:01:03 [INFO]\t[TRAIN] Epoch=26/40, Step=8/66, loss=0.005554, lr=0.00411, time_each_step=0.38s, eta=0:4:46\n",
      "2021-04-18 22:01:03 [INFO]\t[TRAIN] Epoch=26/40, Step=10/66, loss=0.00654, lr=0.004103, time_each_step=0.39s, eta=0:4:46\n",
      "2021-04-18 22:01:04 [INFO]\t[TRAIN] Epoch=26/40, Step=12/66, loss=0.007125, lr=0.004095, time_each_step=0.4s, eta=0:4:45\n",
      "2021-04-18 22:01:04 [INFO]\t[TRAIN] Epoch=26/40, Step=14/66, loss=0.014505, lr=0.004088, time_each_step=0.4s, eta=0:4:45\n",
      "2021-04-18 22:01:04 [INFO]\t[TRAIN] Epoch=26/40, Step=16/66, loss=0.005708, lr=0.00408, time_each_step=0.41s, eta=0:4:45\n",
      "2021-04-18 22:01:05 [INFO]\t[TRAIN] Epoch=26/40, Step=18/66, loss=0.012564, lr=0.004072, time_each_step=0.42s, eta=0:4:44\n",
      "2021-04-18 22:01:05 [INFO]\t[TRAIN] Epoch=26/40, Step=20/66, loss=0.011918, lr=0.004065, time_each_step=0.42s, eta=0:4:43\n",
      "2021-04-18 22:01:05 [INFO]\t[TRAIN] Epoch=26/40, Step=22/66, loss=0.005609, lr=0.004057, time_each_step=0.14s, eta=0:4:30\n",
      "2021-04-18 22:01:05 [INFO]\t[TRAIN] Epoch=26/40, Step=24/66, loss=0.006886, lr=0.00405, time_each_step=0.13s, eta=0:4:29\n",
      "2021-04-18 22:01:05 [INFO]\t[TRAIN] Epoch=26/40, Step=26/66, loss=0.008508, lr=0.004042, time_each_step=0.12s, eta=0:4:29\n",
      "2021-04-18 22:01:05 [INFO]\t[TRAIN] Epoch=26/40, Step=28/66, loss=0.006837, lr=0.004035, time_each_step=0.11s, eta=0:4:28\n",
      "2021-04-18 22:01:06 [INFO]\t[TRAIN] Epoch=26/40, Step=30/66, loss=0.006216, lr=0.004027, time_each_step=0.11s, eta=0:4:28\n",
      "2021-04-18 22:01:06 [INFO]\t[TRAIN] Epoch=26/40, Step=32/66, loss=0.012468, lr=0.00402, time_each_step=0.1s, eta=0:4:27\n",
      "2021-04-18 22:01:06 [INFO]\t[TRAIN] Epoch=26/40, Step=34/66, loss=0.007595, lr=0.004012, time_each_step=0.09s, eta=0:4:27\n",
      "2021-04-18 22:01:06 [INFO]\t[TRAIN] Epoch=26/40, Step=36/66, loss=0.006777, lr=0.004005, time_each_step=0.08s, eta=0:4:26\n",
      "2021-04-18 22:01:06 [INFO]\t[TRAIN] Epoch=26/40, Step=38/66, loss=0.006445, lr=0.003997, time_each_step=0.07s, eta=0:4:26\n",
      "2021-04-18 22:01:06 [INFO]\t[TRAIN] Epoch=26/40, Step=40/66, loss=0.006111, lr=0.00399, time_each_step=0.07s, eta=0:4:26\n",
      "2021-04-18 22:01:06 [INFO]\t[TRAIN] Epoch=26/40, Step=42/66, loss=0.009988, lr=0.003982, time_each_step=0.07s, eta=0:4:26\n",
      "2021-04-18 22:01:07 [INFO]\t[TRAIN] Epoch=26/40, Step=44/66, loss=0.012206, lr=0.003974, time_each_step=0.07s, eta=0:4:25\n",
      "2021-04-18 22:01:07 [INFO]\t[TRAIN] Epoch=26/40, Step=46/66, loss=0.007823, lr=0.003967, time_each_step=0.07s, eta=0:4:25\n",
      "2021-04-18 22:01:07 [INFO]\t[TRAIN] Epoch=26/40, Step=48/66, loss=0.007672, lr=0.003959, time_each_step=0.07s, eta=0:4:25\n",
      "2021-04-18 22:01:07 [INFO]\t[TRAIN] Epoch=26/40, Step=50/66, loss=0.005548, lr=0.003952, time_each_step=0.07s, eta=0:4:25\n",
      "2021-04-18 22:01:07 [INFO]\t[TRAIN] Epoch=26/40, Step=52/66, loss=0.005838, lr=0.003944, time_each_step=0.07s, eta=0:4:25\n",
      "2021-04-18 22:01:07 [INFO]\t[TRAIN] Epoch=26/40, Step=54/66, loss=0.014202, lr=0.003937, time_each_step=0.07s, eta=0:4:25\n",
      "2021-04-18 22:01:07 [INFO]\t[TRAIN] Epoch=26/40, Step=56/66, loss=0.007164, lr=0.003929, time_each_step=0.07s, eta=0:4:25\n",
      "2021-04-18 22:01:08 [INFO]\t[TRAIN] Epoch=26/40, Step=58/66, loss=0.007274, lr=0.003921, time_each_step=0.07s, eta=0:4:24\n",
      "2021-04-18 22:01:08 [INFO]\t[TRAIN] Epoch=26/40, Step=60/66, loss=0.006473, lr=0.003914, time_each_step=0.07s, eta=0:4:24\n",
      "2021-04-18 22:01:08 [INFO]\t[TRAIN] Epoch=26/40, Step=62/66, loss=0.008881, lr=0.003906, time_each_step=0.07s, eta=0:4:24\n",
      "2021-04-18 22:01:08 [INFO]\t[TRAIN] Epoch=26/40, Step=64/66, loss=0.007208, lr=0.003899, time_each_step=0.07s, eta=0:4:24\n",
      "2021-04-18 22:01:08 [INFO]\t[TRAIN] Epoch=26/40, Step=66/66, loss=0.008041, lr=0.003891, time_each_step=0.07s, eta=0:4:24\n",
      "2021-04-18 22:01:08 [INFO]\t[TRAIN] Epoch 26 finished, loss=0.008204, lr=0.004014 .\n",
      "2021-04-18 22:01:08 [INFO]\tStart to evaluating(total_samples=76, total_steps=19)...\n"
     ]
    },
    {
     "name": "stderr",
     "output_type": "stream",
     "text": [
      "100%|██████████| 19/19 [00:05<00:00,  3.35it/s]\n"
     ]
    },
    {
     "name": "stdout",
     "output_type": "stream",
     "text": [
      "2021-04-18 22:01:14 [INFO]\t[EVAL] Finished, Epoch=26, miou=0.835103, category_iou=[0.99178647 0.67841967], oacc=0.991926, category_acc=[0.99863886 0.7163327 ], kappa=0.804349, category_F1-score=[0.9958763  0.80840291] .\n",
      "2021-04-18 22:01:14 [INFO]\tModel saved in output/deeplab/epoch_26.\n",
      "2021-04-18 22:01:14 [INFO]\tCurrent evaluated best model in eval_dataset is epoch_23, miou=0.8415058669289147\n",
      "2021-04-18 22:01:18 [INFO]\t[TRAIN] Epoch=27/40, Step=2/66, loss=0.005386, lr=0.003884, time_each_step=0.26s, eta=0:4:14\n",
      "2021-04-18 22:01:18 [INFO]\t[TRAIN] Epoch=27/40, Step=4/66, loss=0.011484, lr=0.003876, time_each_step=0.27s, eta=0:4:14\n",
      "2021-04-18 22:01:19 [INFO]\t[TRAIN] Epoch=27/40, Step=6/66, loss=0.006738, lr=0.003868, time_each_step=0.28s, eta=0:4:14\n",
      "2021-04-18 22:01:19 [INFO]\t[TRAIN] Epoch=27/40, Step=8/66, loss=0.010981, lr=0.003861, time_each_step=0.3s, eta=0:4:14\n",
      "2021-04-18 22:01:20 [INFO]\t[TRAIN] Epoch=27/40, Step=10/66, loss=0.007362, lr=0.003853, time_each_step=0.31s, eta=0:4:14\n",
      "2021-04-18 22:01:20 [INFO]\t[TRAIN] Epoch=27/40, Step=12/66, loss=0.00696, lr=0.003846, time_each_step=0.32s, eta=0:4:14\n",
      "2021-04-18 22:01:20 [INFO]\t[TRAIN] Epoch=27/40, Step=14/66, loss=0.012882, lr=0.003838, time_each_step=0.33s, eta=0:4:14\n",
      "2021-04-18 22:01:21 [INFO]\t[TRAIN] Epoch=27/40, Step=16/66, loss=0.007331, lr=0.003831, time_each_step=0.33s, eta=0:4:14\n",
      "2021-04-18 22:01:21 [INFO]\t[TRAIN] Epoch=27/40, Step=18/66, loss=0.008563, lr=0.003823, time_each_step=0.34s, eta=0:4:13\n",
      "2021-04-18 22:01:21 [INFO]\t[TRAIN] Epoch=27/40, Step=20/66, loss=0.010297, lr=0.003815, time_each_step=0.34s, eta=0:4:13\n",
      "2021-04-18 22:01:21 [INFO]\t[TRAIN] Epoch=27/40, Step=22/66, loss=0.006857, lr=0.003808, time_each_step=0.16s, eta=0:4:4\n",
      "2021-04-18 22:01:21 [INFO]\t[TRAIN] Epoch=27/40, Step=24/66, loss=0.0079, lr=0.0038, time_each_step=0.15s, eta=0:4:3\n",
      "2021-04-18 22:01:22 [INFO]\t[TRAIN] Epoch=27/40, Step=26/66, loss=0.007879, lr=0.003793, time_each_step=0.14s, eta=0:4:3\n",
      "2021-04-18 22:01:22 [INFO]\t[TRAIN] Epoch=27/40, Step=28/66, loss=0.010473, lr=0.003785, time_each_step=0.12s, eta=0:4:2\n",
      "2021-04-18 22:01:22 [INFO]\t[TRAIN] Epoch=27/40, Step=30/66, loss=0.007014, lr=0.003777, time_each_step=0.11s, eta=0:4:1\n",
      "2021-04-18 22:01:22 [INFO]\t[TRAIN] Epoch=27/40, Step=32/66, loss=0.00669, lr=0.00377, time_each_step=0.1s, eta=0:4:0\n",
      "2021-04-18 22:01:22 [INFO]\t[TRAIN] Epoch=27/40, Step=34/66, loss=0.009656, lr=0.003762, time_each_step=0.09s, eta=0:4:0\n",
      "2021-04-18 22:01:22 [INFO]\t[TRAIN] Epoch=27/40, Step=36/66, loss=0.004654, lr=0.003755, time_each_step=0.08s, eta=0:3:59\n",
      "2021-04-18 22:01:22 [INFO]\t[TRAIN] Epoch=27/40, Step=38/66, loss=0.007742, lr=0.003747, time_each_step=0.08s, eta=0:3:59\n",
      "2021-04-18 22:01:22 [INFO]\t[TRAIN] Epoch=27/40, Step=40/66, loss=0.019351, lr=0.003739, time_each_step=0.07s, eta=0:3:59\n",
      "2021-04-18 22:01:23 [INFO]\t[TRAIN] Epoch=27/40, Step=42/66, loss=0.005313, lr=0.003732, time_each_step=0.07s, eta=0:3:59\n",
      "2021-04-18 22:01:23 [INFO]\t[TRAIN] Epoch=27/40, Step=44/66, loss=0.009829, lr=0.003724, time_each_step=0.07s, eta=0:3:59\n",
      "2021-04-18 22:01:23 [INFO]\t[TRAIN] Epoch=27/40, Step=46/66, loss=0.0054, lr=0.003717, time_each_step=0.08s, eta=0:3:59\n",
      "2021-04-18 22:01:23 [INFO]\t[TRAIN] Epoch=27/40, Step=48/66, loss=0.010258, lr=0.003709, time_each_step=0.08s, eta=0:3:58\n",
      "2021-04-18 22:01:23 [INFO]\t[TRAIN] Epoch=27/40, Step=50/66, loss=0.00666, lr=0.003701, time_each_step=0.08s, eta=0:3:58\n",
      "2021-04-18 22:01:23 [INFO]\t[TRAIN] Epoch=27/40, Step=52/66, loss=0.007244, lr=0.003694, time_each_step=0.08s, eta=0:3:58\n",
      "2021-04-18 22:01:24 [INFO]\t[TRAIN] Epoch=27/40, Step=54/66, loss=0.005427, lr=0.003686, time_each_step=0.08s, eta=0:3:58\n",
      "2021-04-18 22:01:24 [INFO]\t[TRAIN] Epoch=27/40, Step=56/66, loss=0.004577, lr=0.003679, time_each_step=0.08s, eta=0:3:58\n",
      "2021-04-18 22:01:24 [INFO]\t[TRAIN] Epoch=27/40, Step=58/66, loss=0.009104, lr=0.003671, time_each_step=0.08s, eta=0:3:58\n",
      "2021-04-18 22:01:24 [INFO]\t[TRAIN] Epoch=27/40, Step=60/66, loss=0.00894, lr=0.003663, time_each_step=0.08s, eta=0:3:57\n",
      "2021-04-18 22:01:24 [INFO]\t[TRAIN] Epoch=27/40, Step=62/66, loss=0.005595, lr=0.003656, time_each_step=0.07s, eta=0:3:57\n",
      "2021-04-18 22:01:24 [INFO]\t[TRAIN] Epoch=27/40, Step=64/66, loss=0.005461, lr=0.003648, time_each_step=0.07s, eta=0:3:57\n",
      "2021-04-18 22:01:24 [INFO]\t[TRAIN] Epoch=27/40, Step=66/66, loss=0.005714, lr=0.00364, time_each_step=0.07s, eta=0:3:57\n",
      "2021-04-18 22:01:24 [INFO]\t[TRAIN] Epoch 27 finished, loss=0.008169, lr=0.003764 .\n",
      "2021-04-18 22:01:24 [INFO]\tStart to evaluating(total_samples=76, total_steps=19)...\n"
     ]
    },
    {
     "name": "stderr",
     "output_type": "stream",
     "text": [
      "100%|██████████| 19/19 [00:05<00:00,  3.35it/s]\n"
     ]
    },
    {
     "name": "stdout",
     "output_type": "stream",
     "text": [
      "2021-04-18 22:01:30 [INFO]\t[EVAL] Finished, Epoch=27, miou=0.829213, category_iou=[0.99137043 0.66705647], oacc=0.991517, category_acc=[0.99860061 0.70483567], kappa=0.796028, category_F1-score=[0.99566652 0.80028059] .\n",
      "2021-04-18 22:01:30 [INFO]\tModel saved in output/deeplab/epoch_27.\n",
      "2021-04-18 22:01:30 [INFO]\tCurrent evaluated best model in eval_dataset is epoch_23, miou=0.8415058669289147\n",
      "2021-04-18 22:01:34 [INFO]\t[TRAIN] Epoch=28/40, Step=2/66, loss=0.004345, lr=0.003633, time_each_step=0.24s, eta=0:3:37\n",
      "2021-04-18 22:01:34 [INFO]\t[TRAIN] Epoch=28/40, Step=4/66, loss=0.005502, lr=0.003625, time_each_step=0.24s, eta=0:3:37\n",
      "2021-04-18 22:01:35 [INFO]\t[TRAIN] Epoch=28/40, Step=6/66, loss=0.007598, lr=0.003618, time_each_step=0.25s, eta=0:3:37\n",
      "2021-04-18 22:01:35 [INFO]\t[TRAIN] Epoch=28/40, Step=8/66, loss=0.010168, lr=0.00361, time_each_step=0.26s, eta=0:3:37\n",
      "2021-04-18 22:01:35 [INFO]\t[TRAIN] Epoch=28/40, Step=10/66, loss=0.00607, lr=0.003602, time_each_step=0.27s, eta=0:3:37\n",
      "2021-04-18 22:01:35 [INFO]\t[TRAIN] Epoch=28/40, Step=12/66, loss=0.009234, lr=0.003595, time_each_step=0.28s, eta=0:3:36\n",
      "2021-04-18 22:01:36 [INFO]\t[TRAIN] Epoch=28/40, Step=14/66, loss=0.009623, lr=0.003587, time_each_step=0.29s, eta=0:3:37\n",
      "2021-04-18 22:01:36 [INFO]\t[TRAIN] Epoch=28/40, Step=16/66, loss=0.006148, lr=0.003579, time_each_step=0.3s, eta=0:3:37\n",
      "2021-04-18 22:01:37 [INFO]\t[TRAIN] Epoch=28/40, Step=18/66, loss=0.006381, lr=0.003572, time_each_step=0.31s, eta=0:3:36\n",
      "2021-04-18 22:01:37 [INFO]\t[TRAIN] Epoch=28/40, Step=20/66, loss=0.010273, lr=0.003564, time_each_step=0.31s, eta=0:3:36\n",
      "2021-04-18 22:01:37 [INFO]\t[TRAIN] Epoch=28/40, Step=22/66, loss=0.004488, lr=0.003556, time_each_step=0.15s, eta=0:3:28\n",
      "2021-04-18 22:01:37 [INFO]\t[TRAIN] Epoch=28/40, Step=24/66, loss=0.005048, lr=0.003549, time_each_step=0.14s, eta=0:3:27\n",
      "2021-04-18 22:01:37 [INFO]\t[TRAIN] Epoch=28/40, Step=26/66, loss=0.004696, lr=0.003541, time_each_step=0.13s, eta=0:3:27\n",
      "2021-04-18 22:01:37 [INFO]\t[TRAIN] Epoch=28/40, Step=28/66, loss=0.005251, lr=0.003533, time_each_step=0.12s, eta=0:3:26\n",
      "2021-04-18 22:01:37 [INFO]\t[TRAIN] Epoch=28/40, Step=30/66, loss=0.01119, lr=0.003526, time_each_step=0.11s, eta=0:3:26\n",
      "2021-04-18 22:01:38 [INFO]\t[TRAIN] Epoch=28/40, Step=32/66, loss=0.006216, lr=0.003518, time_each_step=0.11s, eta=0:3:25\n",
      "2021-04-18 22:01:38 [INFO]\t[TRAIN] Epoch=28/40, Step=34/66, loss=0.005818, lr=0.00351, time_each_step=0.09s, eta=0:3:24\n",
      "2021-04-18 22:01:38 [INFO]\t[TRAIN] Epoch=28/40, Step=36/66, loss=0.015799, lr=0.003503, time_each_step=0.08s, eta=0:3:24\n",
      "2021-04-18 22:01:38 [INFO]\t[TRAIN] Epoch=28/40, Step=38/66, loss=0.006656, lr=0.003495, time_each_step=0.08s, eta=0:3:24\n",
      "2021-04-18 22:01:38 [INFO]\t[TRAIN] Epoch=28/40, Step=40/66, loss=0.00593, lr=0.003487, time_each_step=0.07s, eta=0:3:23\n",
      "2021-04-18 22:01:38 [INFO]\t[TRAIN] Epoch=28/40, Step=42/66, loss=0.007259, lr=0.00348, time_each_step=0.07s, eta=0:3:23\n",
      "2021-04-18 22:01:38 [INFO]\t[TRAIN] Epoch=28/40, Step=44/66, loss=0.006529, lr=0.003472, time_each_step=0.07s, eta=0:3:23\n",
      "2021-04-18 22:01:39 [INFO]\t[TRAIN] Epoch=28/40, Step=46/66, loss=0.00694, lr=0.003464, time_each_step=0.07s, eta=0:3:23\n",
      "2021-04-18 22:01:39 [INFO]\t[TRAIN] Epoch=28/40, Step=48/66, loss=0.009772, lr=0.003457, time_each_step=0.07s, eta=0:3:23\n",
      "2021-04-18 22:01:39 [INFO]\t[TRAIN] Epoch=28/40, Step=50/66, loss=0.006514, lr=0.003449, time_each_step=0.07s, eta=0:3:23\n",
      "2021-04-18 22:01:39 [INFO]\t[TRAIN] Epoch=28/40, Step=52/66, loss=0.008349, lr=0.003441, time_each_step=0.07s, eta=0:3:23\n",
      "2021-04-18 22:01:39 [INFO]\t[TRAIN] Epoch=28/40, Step=54/66, loss=0.005698, lr=0.003434, time_each_step=0.07s, eta=0:3:22\n",
      "2021-04-18 22:01:39 [INFO]\t[TRAIN] Epoch=28/40, Step=56/66, loss=0.004959, lr=0.003426, time_each_step=0.07s, eta=0:3:22\n",
      "2021-04-18 22:01:40 [INFO]\t[TRAIN] Epoch=28/40, Step=58/66, loss=0.010787, lr=0.003418, time_each_step=0.07s, eta=0:3:22\n",
      "2021-04-18 22:01:40 [INFO]\t[TRAIN] Epoch=28/40, Step=60/66, loss=0.006324, lr=0.003411, time_each_step=0.07s, eta=0:3:22\n",
      "2021-04-18 22:01:40 [INFO]\t[TRAIN] Epoch=28/40, Step=62/66, loss=0.007049, lr=0.003403, time_each_step=0.07s, eta=0:3:22\n",
      "2021-04-18 22:01:40 [INFO]\t[TRAIN] Epoch=28/40, Step=64/66, loss=0.01251, lr=0.003395, time_each_step=0.07s, eta=0:3:22\n",
      "2021-04-18 22:01:40 [INFO]\t[TRAIN] Epoch=28/40, Step=66/66, loss=0.008231, lr=0.003388, time_each_step=0.07s, eta=0:3:22\n",
      "2021-04-18 22:01:40 [INFO]\t[TRAIN] Epoch 28 finished, loss=0.007754, lr=0.003512 .\n",
      "2021-04-18 22:01:40 [INFO]\tStart to evaluating(total_samples=76, total_steps=19)...\n"
     ]
    },
    {
     "name": "stderr",
     "output_type": "stream",
     "text": [
      "100%|██████████| 19/19 [00:06<00:00,  3.05it/s]\n"
     ]
    },
    {
     "name": "stdout",
     "output_type": "stream",
     "text": [
      "2021-04-18 22:01:46 [INFO]\t[EVAL] Finished, Epoch=28, miou=0.84043, category_iou=[0.99225015 0.68860938], oacc=0.992381, category_acc=[0.99845249 0.7339633 ], kappa=0.811753, category_F1-score=[0.99611    0.81559346] .\n",
      "2021-04-18 22:01:47 [INFO]\tModel saved in output/deeplab/epoch_28.\n",
      "2021-04-18 22:01:47 [INFO]\tCurrent evaluated best model in eval_dataset is epoch_23, miou=0.8415058669289147\n",
      "2021-04-18 22:01:50 [INFO]\t[TRAIN] Epoch=29/40, Step=2/66, loss=0.007976, lr=0.00338, time_each_step=0.23s, eta=0:3:20\n",
      "2021-04-18 22:01:50 [INFO]\t[TRAIN] Epoch=29/40, Step=4/66, loss=0.005942, lr=0.003372, time_each_step=0.24s, eta=0:3:19\n",
      "2021-04-18 22:01:51 [INFO]\t[TRAIN] Epoch=29/40, Step=6/66, loss=0.005342, lr=0.003365, time_each_step=0.25s, eta=0:3:19\n",
      "2021-04-18 22:01:51 [INFO]\t[TRAIN] Epoch=29/40, Step=8/66, loss=0.006013, lr=0.003357, time_each_step=0.26s, eta=0:3:20\n",
      "2021-04-18 22:01:51 [INFO]\t[TRAIN] Epoch=29/40, Step=10/66, loss=0.006306, lr=0.003349, time_each_step=0.27s, eta=0:3:20\n",
      "2021-04-18 22:01:52 [INFO]\t[TRAIN] Epoch=29/40, Step=12/66, loss=0.012237, lr=0.003342, time_each_step=0.28s, eta=0:3:20\n",
      "2021-04-18 22:01:52 [INFO]\t[TRAIN] Epoch=29/40, Step=14/66, loss=0.005471, lr=0.003334, time_each_step=0.29s, eta=0:3:20\n",
      "2021-04-18 22:01:52 [INFO]\t[TRAIN] Epoch=29/40, Step=16/66, loss=0.00849, lr=0.003326, time_each_step=0.3s, eta=0:3:19\n",
      "2021-04-18 22:01:53 [INFO]\t[TRAIN] Epoch=29/40, Step=18/66, loss=0.009357, lr=0.003318, time_each_step=0.31s, eta=0:3:19\n",
      "2021-04-18 22:01:53 [INFO]\t[TRAIN] Epoch=29/40, Step=20/66, loss=0.005325, lr=0.003311, time_each_step=0.31s, eta=0:3:19\n",
      "2021-04-18 22:01:53 [INFO]\t[TRAIN] Epoch=29/40, Step=22/66, loss=0.006942, lr=0.003303, time_each_step=0.15s, eta=0:3:11\n",
      "2021-04-18 22:01:53 [INFO]\t[TRAIN] Epoch=29/40, Step=24/66, loss=0.009274, lr=0.003295, time_each_step=0.14s, eta=0:3:11\n",
      "2021-04-18 22:01:53 [INFO]\t[TRAIN] Epoch=29/40, Step=26/66, loss=0.006216, lr=0.003288, time_each_step=0.13s, eta=0:3:10\n",
      "2021-04-18 22:01:54 [INFO]\t[TRAIN] Epoch=29/40, Step=28/66, loss=0.006063, lr=0.00328, time_each_step=0.12s, eta=0:3:9\n",
      "2021-04-18 22:01:54 [INFO]\t[TRAIN] Epoch=29/40, Step=30/66, loss=0.009254, lr=0.003272, time_each_step=0.11s, eta=0:3:9\n",
      "2021-04-18 22:01:54 [INFO]\t[TRAIN] Epoch=29/40, Step=32/66, loss=0.006175, lr=0.003264, time_each_step=0.1s, eta=0:3:8\n",
      "2021-04-18 22:01:54 [INFO]\t[TRAIN] Epoch=29/40, Step=34/66, loss=0.00534, lr=0.003257, time_each_step=0.09s, eta=0:3:8\n",
      "2021-04-18 22:01:54 [INFO]\t[TRAIN] Epoch=29/40, Step=36/66, loss=0.005909, lr=0.003249, time_each_step=0.08s, eta=0:3:7\n",
      "2021-04-18 22:01:54 [INFO]\t[TRAIN] Epoch=29/40, Step=38/66, loss=0.006356, lr=0.003241, time_each_step=0.08s, eta=0:3:7\n",
      "2021-04-18 22:01:54 [INFO]\t[TRAIN] Epoch=29/40, Step=40/66, loss=0.005779, lr=0.003233, time_each_step=0.07s, eta=0:3:6\n",
      "2021-04-18 22:01:55 [INFO]\t[TRAIN] Epoch=29/40, Step=42/66, loss=0.006052, lr=0.003226, time_each_step=0.07s, eta=0:3:6\n",
      "2021-04-18 22:01:55 [INFO]\t[TRAIN] Epoch=29/40, Step=44/66, loss=0.005412, lr=0.003218, time_each_step=0.07s, eta=0:3:6\n",
      "2021-04-18 22:01:55 [INFO]\t[TRAIN] Epoch=29/40, Step=46/66, loss=0.008259, lr=0.00321, time_each_step=0.07s, eta=0:3:6\n",
      "2021-04-18 22:01:55 [INFO]\t[TRAIN] Epoch=29/40, Step=48/66, loss=0.008682, lr=0.003203, time_each_step=0.07s, eta=0:3:6\n",
      "2021-04-18 22:01:55 [INFO]\t[TRAIN] Epoch=29/40, Step=50/66, loss=0.006199, lr=0.003195, time_each_step=0.07s, eta=0:3:6\n",
      "2021-04-18 22:01:55 [INFO]\t[TRAIN] Epoch=29/40, Step=52/66, loss=0.011529, lr=0.003187, time_each_step=0.07s, eta=0:3:6\n",
      "2021-04-18 22:01:55 [INFO]\t[TRAIN] Epoch=29/40, Step=54/66, loss=0.006666, lr=0.003179, time_each_step=0.07s, eta=0:3:5\n",
      "2021-04-18 22:01:56 [INFO]\t[TRAIN] Epoch=29/40, Step=56/66, loss=0.00537, lr=0.003172, time_each_step=0.07s, eta=0:3:5\n",
      "2021-04-18 22:01:56 [INFO]\t[TRAIN] Epoch=29/40, Step=58/66, loss=0.007527, lr=0.003164, time_each_step=0.07s, eta=0:3:5\n",
      "2021-04-18 22:01:56 [INFO]\t[TRAIN] Epoch=29/40, Step=60/66, loss=0.00892, lr=0.003156, time_each_step=0.07s, eta=0:3:5\n",
      "2021-04-18 22:01:56 [INFO]\t[TRAIN] Epoch=29/40, Step=62/66, loss=0.005437, lr=0.003148, time_each_step=0.07s, eta=0:3:5\n",
      "2021-04-18 22:01:56 [INFO]\t[TRAIN] Epoch=29/40, Step=64/66, loss=0.013376, lr=0.003141, time_each_step=0.07s, eta=0:3:5\n",
      "2021-04-18 22:01:56 [INFO]\t[TRAIN] Epoch=29/40, Step=66/66, loss=0.00568, lr=0.003133, time_each_step=0.07s, eta=0:3:5\n",
      "2021-04-18 22:01:56 [INFO]\t[TRAIN] Epoch 29 finished, loss=0.007612, lr=0.003259 .\n",
      "2021-04-18 22:01:56 [INFO]\tStart to evaluating(total_samples=76, total_steps=19)...\n"
     ]
    },
    {
     "name": "stderr",
     "output_type": "stream",
     "text": [
      "100%|██████████| 19/19 [00:05<00:00,  3.71it/s]\n"
     ]
    },
    {
     "name": "stdout",
     "output_type": "stream",
     "text": [
      "2021-04-18 22:02:01 [INFO]\t[EVAL] Finished, Epoch=29, miou=0.834204, category_iou=[0.99175797 0.67665036], oacc=0.991898, category_acc=[0.99855975 0.7168807 ], kappa=0.803074, category_F1-score=[0.99586193 0.80714546] .\n",
      "2021-04-18 22:02:02 [INFO]\tModel saved in output/deeplab/epoch_29.\n",
      "2021-04-18 22:02:02 [INFO]\tCurrent evaluated best model in eval_dataset is epoch_23, miou=0.8415058669289147\n",
      "2021-04-18 22:02:04 [INFO]\t[TRAIN] Epoch=30/40, Step=2/66, loss=0.007996, lr=0.003125, time_each_step=0.2s, eta=0:2:48\n",
      "2021-04-18 22:02:05 [INFO]\t[TRAIN] Epoch=30/40, Step=4/66, loss=0.007226, lr=0.003117, time_each_step=0.21s, eta=0:2:48\n",
      "2021-04-18 22:02:05 [INFO]\t[TRAIN] Epoch=30/40, Step=6/66, loss=0.007502, lr=0.00311, time_each_step=0.21s, eta=0:2:48\n",
      "2021-04-18 22:02:05 [INFO]\t[TRAIN] Epoch=30/40, Step=8/66, loss=0.006167, lr=0.003102, time_each_step=0.23s, eta=0:2:48\n",
      "2021-04-18 22:02:06 [INFO]\t[TRAIN] Epoch=30/40, Step=10/66, loss=0.00608, lr=0.003094, time_each_step=0.23s, eta=0:2:48\n",
      "2021-04-18 22:02:06 [INFO]\t[TRAIN] Epoch=30/40, Step=12/66, loss=0.004635, lr=0.003086, time_each_step=0.24s, eta=0:2:48\n",
      "2021-04-18 22:02:06 [INFO]\t[TRAIN] Epoch=30/40, Step=14/66, loss=0.00714, lr=0.003078, time_each_step=0.25s, eta=0:2:48\n",
      "2021-04-18 22:02:06 [INFO]\t[TRAIN] Epoch=30/40, Step=16/66, loss=0.008641, lr=0.003071, time_each_step=0.25s, eta=0:2:48\n",
      "2021-04-18 22:02:07 [INFO]\t[TRAIN] Epoch=30/40, Step=18/66, loss=0.005264, lr=0.003063, time_each_step=0.26s, eta=0:2:47\n",
      "2021-04-18 22:02:07 [INFO]\t[TRAIN] Epoch=30/40, Step=20/66, loss=0.009292, lr=0.003055, time_each_step=0.27s, eta=0:2:47\n",
      "2021-04-18 22:02:07 [INFO]\t[TRAIN] Epoch=30/40, Step=22/66, loss=0.006253, lr=0.003047, time_each_step=0.14s, eta=0:2:41\n",
      "2021-04-18 22:02:07 [INFO]\t[TRAIN] Epoch=30/40, Step=24/66, loss=0.005848, lr=0.00304, time_each_step=0.14s, eta=0:2:41\n",
      "2021-04-18 22:02:08 [INFO]\t[TRAIN] Epoch=30/40, Step=26/66, loss=0.006422, lr=0.003032, time_each_step=0.13s, eta=0:2:40\n",
      "2021-04-18 22:02:08 [INFO]\t[TRAIN] Epoch=30/40, Step=28/66, loss=0.013085, lr=0.003024, time_each_step=0.12s, eta=0:2:40\n",
      "2021-04-18 22:02:08 [INFO]\t[TRAIN] Epoch=30/40, Step=30/66, loss=0.005785, lr=0.003016, time_each_step=0.12s, eta=0:2:39\n",
      "2021-04-18 22:02:08 [INFO]\t[TRAIN] Epoch=30/40, Step=32/66, loss=0.008767, lr=0.003008, time_each_step=0.1s, eta=0:2:39\n",
      "2021-04-18 22:02:08 [INFO]\t[TRAIN] Epoch=30/40, Step=34/66, loss=0.00474, lr=0.003001, time_each_step=0.1s, eta=0:2:38\n",
      "2021-04-18 22:02:08 [INFO]\t[TRAIN] Epoch=30/40, Step=36/66, loss=0.006809, lr=0.002993, time_each_step=0.09s, eta=0:2:38\n",
      "2021-04-18 22:02:08 [INFO]\t[TRAIN] Epoch=30/40, Step=38/66, loss=0.00678, lr=0.002985, time_each_step=0.08s, eta=0:2:37\n",
      "2021-04-18 22:02:09 [INFO]\t[TRAIN] Epoch=30/40, Step=40/66, loss=0.01079, lr=0.002977, time_each_step=0.08s, eta=0:2:37\n",
      "2021-04-18 22:02:09 [INFO]\t[TRAIN] Epoch=30/40, Step=42/66, loss=0.004758, lr=0.002969, time_each_step=0.07s, eta=0:2:37\n",
      "2021-04-18 22:02:09 [INFO]\t[TRAIN] Epoch=30/40, Step=44/66, loss=0.008597, lr=0.002962, time_each_step=0.07s, eta=0:2:37\n",
      "2021-04-18 22:02:09 [INFO]\t[TRAIN] Epoch=30/40, Step=46/66, loss=0.004946, lr=0.002954, time_each_step=0.07s, eta=0:2:36\n",
      "2021-04-18 22:02:09 [INFO]\t[TRAIN] Epoch=30/40, Step=48/66, loss=0.008043, lr=0.002946, time_each_step=0.07s, eta=0:2:36\n",
      "2021-04-18 22:02:09 [INFO]\t[TRAIN] Epoch=30/40, Step=50/66, loss=0.006272, lr=0.002938, time_each_step=0.07s, eta=0:2:36\n",
      "2021-04-18 22:02:09 [INFO]\t[TRAIN] Epoch=30/40, Step=52/66, loss=0.005377, lr=0.00293, time_each_step=0.07s, eta=0:2:36\n",
      "2021-04-18 22:02:10 [INFO]\t[TRAIN] Epoch=30/40, Step=54/66, loss=0.015752, lr=0.002923, time_each_step=0.07s, eta=0:2:36\n",
      "2021-04-18 22:02:10 [INFO]\t[TRAIN] Epoch=30/40, Step=56/66, loss=0.006603, lr=0.002915, time_each_step=0.07s, eta=0:2:36\n",
      "2021-04-18 22:02:10 [INFO]\t[TRAIN] Epoch=30/40, Step=58/66, loss=0.005957, lr=0.002907, time_each_step=0.07s, eta=0:2:36\n",
      "2021-04-18 22:02:10 [INFO]\t[TRAIN] Epoch=30/40, Step=60/66, loss=0.008081, lr=0.002899, time_each_step=0.07s, eta=0:2:35\n",
      "2021-04-18 22:02:10 [INFO]\t[TRAIN] Epoch=30/40, Step=62/66, loss=0.006382, lr=0.002891, time_each_step=0.07s, eta=0:2:35\n",
      "2021-04-18 22:02:10 [INFO]\t[TRAIN] Epoch=30/40, Step=64/66, loss=0.012279, lr=0.002883, time_each_step=0.07s, eta=0:2:35\n",
      "2021-04-18 22:02:10 [INFO]\t[TRAIN] Epoch=30/40, Step=66/66, loss=0.006671, lr=0.002876, time_each_step=0.07s, eta=0:2:35\n",
      "2021-04-18 22:02:10 [INFO]\t[TRAIN] Epoch 30 finished, loss=0.007775, lr=0.003003 .\n",
      "2021-04-18 22:02:10 [INFO]\tStart to evaluating(total_samples=76, total_steps=19)...\n"
     ]
    },
    {
     "name": "stderr",
     "output_type": "stream",
     "text": [
      "100%|██████████| 19/19 [00:09<00:00,  1.99it/s]\n"
     ]
    },
    {
     "name": "stdout",
     "output_type": "stream",
     "text": [
      "2021-04-18 22:02:20 [INFO]\t[EVAL] Finished, Epoch=30, miou=0.846217, category_iou=[0.99269959 0.69973368], oacc=0.992822, category_acc=[0.99832967 0.75103978], kappa=0.819716, category_F1-score=[0.99633642 0.82334508] .\n",
      "2021-04-18 22:02:20 [INFO]\tModel saved in output/deeplab/best_model.\n",
      "2021-04-18 22:02:21 [INFO]\tModel saved in output/deeplab/epoch_30.\n",
      "2021-04-18 22:02:21 [INFO]\tCurrent evaluated best model in eval_dataset is epoch_30, miou=0.8462166305857228\n",
      "2021-04-18 22:02:26 [INFO]\t[TRAIN] Epoch=31/40, Step=2/66, loss=0.008372, lr=0.002868, time_each_step=0.31s, eta=0:3:21\n",
      "2021-04-18 22:02:26 [INFO]\t[TRAIN] Epoch=31/40, Step=4/66, loss=0.005332, lr=0.00286, time_each_step=0.32s, eta=0:3:21\n",
      "2021-04-18 22:02:27 [INFO]\t[TRAIN] Epoch=31/40, Step=6/66, loss=0.006918, lr=0.002852, time_each_step=0.34s, eta=0:3:22\n",
      "2021-04-18 22:02:27 [INFO]\t[TRAIN] Epoch=31/40, Step=8/66, loss=0.0062, lr=0.002844, time_each_step=0.36s, eta=0:3:22\n",
      "2021-04-18 22:02:28 [INFO]\t[TRAIN] Epoch=31/40, Step=10/66, loss=0.007597, lr=0.002836, time_each_step=0.37s, eta=0:3:22\n",
      "2021-04-18 22:02:28 [INFO]\t[TRAIN] Epoch=31/40, Step=12/66, loss=0.006803, lr=0.002829, time_each_step=0.38s, eta=0:3:22\n",
      "2021-04-18 22:02:28 [INFO]\t[TRAIN] Epoch=31/40, Step=14/66, loss=0.005227, lr=0.002821, time_each_step=0.39s, eta=0:3:21\n",
      "2021-04-18 22:02:28 [INFO]\t[TRAIN] Epoch=31/40, Step=16/66, loss=0.0056, lr=0.002813, time_each_step=0.39s, eta=0:3:21\n",
      "2021-04-18 22:02:29 [INFO]\t[TRAIN] Epoch=31/40, Step=18/66, loss=0.004797, lr=0.002805, time_each_step=0.4s, eta=0:3:20\n",
      "2021-04-18 22:02:29 [INFO]\t[TRAIN] Epoch=31/40, Step=20/66, loss=0.006192, lr=0.002797, time_each_step=0.4s, eta=0:3:20\n",
      "2021-04-18 22:02:29 [INFO]\t[TRAIN] Epoch=31/40, Step=22/66, loss=0.007315, lr=0.002789, time_each_step=0.17s, eta=0:3:9\n",
      "2021-04-18 22:02:29 [INFO]\t[TRAIN] Epoch=31/40, Step=24/66, loss=0.006492, lr=0.002782, time_each_step=0.16s, eta=0:3:8\n",
      "2021-04-18 22:02:29 [INFO]\t[TRAIN] Epoch=31/40, Step=26/66, loss=0.006963, lr=0.002774, time_each_step=0.14s, eta=0:3:7\n",
      "2021-04-18 22:02:29 [INFO]\t[TRAIN] Epoch=31/40, Step=28/66, loss=0.005561, lr=0.002766, time_each_step=0.12s, eta=0:3:6\n",
      "2021-04-18 22:02:30 [INFO]\t[TRAIN] Epoch=31/40, Step=30/66, loss=0.006887, lr=0.002758, time_each_step=0.1s, eta=0:3:5\n",
      "2021-04-18 22:02:30 [INFO]\t[TRAIN] Epoch=31/40, Step=32/66, loss=0.006012, lr=0.00275, time_each_step=0.1s, eta=0:3:5\n",
      "2021-04-18 22:02:30 [INFO]\t[TRAIN] Epoch=31/40, Step=34/66, loss=0.007551, lr=0.002742, time_each_step=0.09s, eta=0:3:4\n",
      "2021-04-18 22:02:30 [INFO]\t[TRAIN] Epoch=31/40, Step=36/66, loss=0.008844, lr=0.002734, time_each_step=0.08s, eta=0:3:4\n",
      "2021-04-18 22:02:30 [INFO]\t[TRAIN] Epoch=31/40, Step=38/66, loss=0.006712, lr=0.002726, time_each_step=0.08s, eta=0:3:3\n",
      "2021-04-18 22:02:30 [INFO]\t[TRAIN] Epoch=31/40, Step=40/66, loss=0.007512, lr=0.002719, time_each_step=0.08s, eta=0:3:3\n",
      "2021-04-18 22:02:31 [INFO]\t[TRAIN] Epoch=31/40, Step=42/66, loss=0.008912, lr=0.002711, time_each_step=0.08s, eta=0:3:3\n",
      "2021-04-18 22:02:31 [INFO]\t[TRAIN] Epoch=31/40, Step=44/66, loss=0.007139, lr=0.002703, time_each_step=0.07s, eta=0:3:3\n",
      "2021-04-18 22:02:31 [INFO]\t[TRAIN] Epoch=31/40, Step=46/66, loss=0.007959, lr=0.002695, time_each_step=0.07s, eta=0:3:3\n",
      "2021-04-18 22:02:31 [INFO]\t[TRAIN] Epoch=31/40, Step=48/66, loss=0.00696, lr=0.002687, time_each_step=0.07s, eta=0:3:3\n",
      "2021-04-18 22:02:31 [INFO]\t[TRAIN] Epoch=31/40, Step=50/66, loss=0.007181, lr=0.002679, time_each_step=0.08s, eta=0:3:2\n",
      "2021-04-18 22:02:31 [INFO]\t[TRAIN] Epoch=31/40, Step=52/66, loss=0.006785, lr=0.002671, time_each_step=0.07s, eta=0:3:2\n",
      "2021-04-18 22:02:31 [INFO]\t[TRAIN] Epoch=31/40, Step=54/66, loss=0.017286, lr=0.002663, time_each_step=0.08s, eta=0:3:2\n",
      "2021-04-18 22:02:32 [INFO]\t[TRAIN] Epoch=31/40, Step=56/66, loss=0.005774, lr=0.002655, time_each_step=0.08s, eta=0:3:2\n",
      "2021-04-18 22:02:32 [INFO]\t[TRAIN] Epoch=31/40, Step=58/66, loss=0.010043, lr=0.002648, time_each_step=0.08s, eta=0:3:2\n",
      "2021-04-18 22:02:32 [INFO]\t[TRAIN] Epoch=31/40, Step=60/66, loss=0.008724, lr=0.00264, time_each_step=0.08s, eta=0:3:2\n",
      "2021-04-18 22:02:32 [INFO]\t[TRAIN] Epoch=31/40, Step=62/66, loss=0.006774, lr=0.002632, time_each_step=0.08s, eta=0:3:2\n",
      "2021-04-18 22:02:32 [INFO]\t[TRAIN] Epoch=31/40, Step=64/66, loss=0.014539, lr=0.002624, time_each_step=0.08s, eta=0:3:1\n",
      "2021-04-18 22:02:32 [INFO]\t[TRAIN] Epoch=31/40, Step=66/66, loss=0.00825, lr=0.002616, time_each_step=0.08s, eta=0:3:1\n",
      "2021-04-18 22:02:32 [INFO]\t[TRAIN] Epoch 31 finished, loss=0.00771, lr=0.002744 .\n",
      "2021-04-18 22:02:32 [INFO]\tStart to evaluating(total_samples=76, total_steps=19)...\n"
     ]
    },
    {
     "name": "stderr",
     "output_type": "stream",
     "text": [
      "100%|██████████| 19/19 [00:06<00:00,  2.92it/s]\n"
     ]
    },
    {
     "name": "stdout",
     "output_type": "stream",
     "text": [
      "2021-04-18 22:02:39 [INFO]\t[EVAL] Finished, Epoch=31, miou=0.839874, category_iou=[0.99216589 0.68758143], oacc=0.992299, category_acc=[0.99855449 0.72935679], kappa=0.810995, category_F1-score=[0.99606754 0.81487201] .\n",
      "2021-04-18 22:02:40 [INFO]\tModel saved in output/deeplab/epoch_31.\n",
      "2021-04-18 22:02:40 [INFO]\tCurrent evaluated best model in eval_dataset is epoch_30, miou=0.8462166305857228\n",
      "2021-04-18 22:02:44 [INFO]\t[TRAIN] Epoch=32/40, Step=2/66, loss=0.004946, lr=0.002608, time_each_step=0.27s, eta=0:2:57\n",
      "2021-04-18 22:02:44 [INFO]\t[TRAIN] Epoch=32/40, Step=4/66, loss=0.005846, lr=0.0026, time_each_step=0.28s, eta=0:2:57\n",
      "2021-04-18 22:02:44 [INFO]\t[TRAIN] Epoch=32/40, Step=6/66, loss=0.009251, lr=0.002592, time_each_step=0.28s, eta=0:2:57\n",
      "2021-04-18 22:02:45 [INFO]\t[TRAIN] Epoch=32/40, Step=8/66, loss=0.006822, lr=0.002584, time_each_step=0.29s, eta=0:2:56\n",
      "2021-04-18 22:02:45 [INFO]\t[TRAIN] Epoch=32/40, Step=10/66, loss=0.005428, lr=0.002576, time_each_step=0.29s, eta=0:2:56\n",
      "2021-04-18 22:02:45 [INFO]\t[TRAIN] Epoch=32/40, Step=12/66, loss=0.012407, lr=0.002568, time_each_step=0.3s, eta=0:2:56\n",
      "2021-04-18 22:02:45 [INFO]\t[TRAIN] Epoch=32/40, Step=14/66, loss=0.007046, lr=0.00256, time_each_step=0.3s, eta=0:2:55\n",
      "2021-04-18 22:02:46 [INFO]\t[TRAIN] Epoch=32/40, Step=16/66, loss=0.006057, lr=0.002553, time_each_step=0.31s, eta=0:2:55\n",
      "2021-04-18 22:02:46 [INFO]\t[TRAIN] Epoch=32/40, Step=18/66, loss=0.006471, lr=0.002545, time_each_step=0.32s, eta=0:2:55\n",
      "2021-04-18 22:02:46 [INFO]\t[TRAIN] Epoch=32/40, Step=20/66, loss=0.00711, lr=0.002537, time_each_step=0.32s, eta=0:2:54\n",
      "2021-04-18 22:02:47 [INFO]\t[TRAIN] Epoch=32/40, Step=22/66, loss=0.010929, lr=0.002529, time_each_step=0.14s, eta=0:2:46\n",
      "2021-04-18 22:02:47 [INFO]\t[TRAIN] Epoch=32/40, Step=24/66, loss=0.008675, lr=0.002521, time_each_step=0.13s, eta=0:2:45\n",
      "2021-04-18 22:02:47 [INFO]\t[TRAIN] Epoch=32/40, Step=26/66, loss=0.008906, lr=0.002513, time_each_step=0.13s, eta=0:2:45\n",
      "2021-04-18 22:02:47 [INFO]\t[TRAIN] Epoch=32/40, Step=28/66, loss=0.007102, lr=0.002505, time_each_step=0.12s, eta=0:2:44\n",
      "2021-04-18 22:02:47 [INFO]\t[TRAIN] Epoch=32/40, Step=30/66, loss=0.007442, lr=0.002497, time_each_step=0.11s, eta=0:2:44\n",
      "2021-04-18 22:02:47 [INFO]\t[TRAIN] Epoch=32/40, Step=32/66, loss=0.007115, lr=0.002489, time_each_step=0.1s, eta=0:2:43\n",
      "2021-04-18 22:02:47 [INFO]\t[TRAIN] Epoch=32/40, Step=34/66, loss=0.005985, lr=0.002481, time_each_step=0.1s, eta=0:2:43\n",
      "2021-04-18 22:02:48 [INFO]\t[TRAIN] Epoch=32/40, Step=36/66, loss=0.00533, lr=0.002473, time_each_step=0.09s, eta=0:2:42\n",
      "2021-04-18 22:02:48 [INFO]\t[TRAIN] Epoch=32/40, Step=38/66, loss=0.006347, lr=0.002465, time_each_step=0.08s, eta=0:2:42\n",
      "2021-04-18 22:02:48 [INFO]\t[TRAIN] Epoch=32/40, Step=40/66, loss=0.006081, lr=0.002457, time_each_step=0.07s, eta=0:2:42\n",
      "2021-04-18 22:02:48 [INFO]\t[TRAIN] Epoch=32/40, Step=42/66, loss=0.004822, lr=0.002449, time_each_step=0.07s, eta=0:2:41\n",
      "2021-04-18 22:02:48 [INFO]\t[TRAIN] Epoch=32/40, Step=44/66, loss=0.006829, lr=0.002441, time_each_step=0.07s, eta=0:2:41\n",
      "2021-04-18 22:02:48 [INFO]\t[TRAIN] Epoch=32/40, Step=46/66, loss=0.007671, lr=0.002433, time_each_step=0.07s, eta=0:2:41\n",
      "2021-04-18 22:02:48 [INFO]\t[TRAIN] Epoch=32/40, Step=48/66, loss=0.00614, lr=0.002425, time_each_step=0.07s, eta=0:2:41\n",
      "2021-04-18 22:02:48 [INFO]\t[TRAIN] Epoch=32/40, Step=50/66, loss=0.010223, lr=0.002417, time_each_step=0.07s, eta=0:2:41\n",
      "2021-04-18 22:02:49 [INFO]\t[TRAIN] Epoch=32/40, Step=52/66, loss=0.007303, lr=0.002409, time_each_step=0.07s, eta=0:2:41\n",
      "2021-04-18 22:02:49 [INFO]\t[TRAIN] Epoch=32/40, Step=54/66, loss=0.008853, lr=0.002401, time_each_step=0.07s, eta=0:2:40\n",
      "2021-04-18 22:02:49 [INFO]\t[TRAIN] Epoch=32/40, Step=56/66, loss=0.006337, lr=0.002393, time_each_step=0.07s, eta=0:2:40\n",
      "2021-04-18 22:02:49 [INFO]\t[TRAIN] Epoch=32/40, Step=58/66, loss=0.010293, lr=0.002385, time_each_step=0.07s, eta=0:2:40\n",
      "2021-04-18 22:02:49 [INFO]\t[TRAIN] Epoch=32/40, Step=60/66, loss=0.013015, lr=0.002377, time_each_step=0.07s, eta=0:2:40\n",
      "2021-04-18 22:02:49 [INFO]\t[TRAIN] Epoch=32/40, Step=62/66, loss=0.00611, lr=0.002369, time_each_step=0.07s, eta=0:2:40\n",
      "2021-04-18 22:02:49 [INFO]\t[TRAIN] Epoch=32/40, Step=64/66, loss=0.010496, lr=0.002361, time_each_step=0.07s, eta=0:2:40\n",
      "2021-04-18 22:02:50 [INFO]\t[TRAIN] Epoch=32/40, Step=66/66, loss=0.0057, lr=0.002353, time_each_step=0.07s, eta=0:2:40\n",
      "2021-04-18 22:02:50 [INFO]\t[TRAIN] Epoch 32 finished, loss=0.007532, lr=0.002483 .\n",
      "2021-04-18 22:02:50 [INFO]\tStart to evaluating(total_samples=76, total_steps=19)...\n"
     ]
    },
    {
     "name": "stderr",
     "output_type": "stream",
     "text": [
      "100%|██████████| 19/19 [00:04<00:00,  4.17it/s]\n"
     ]
    },
    {
     "name": "stdout",
     "output_type": "stream",
     "text": [
      "2021-04-18 22:02:54 [INFO]\t[EVAL] Finished, Epoch=32, miou=0.838589, category_iou=[0.99203572 0.6851418 ], oacc=0.992171, category_acc=[0.9986421  0.72373715], kappa=0.809221, category_F1-score=[0.99600194 0.81315626] .\n",
      "2021-04-18 22:02:55 [INFO]\tModel saved in output/deeplab/epoch_32.\n",
      "2021-04-18 22:02:55 [INFO]\tCurrent evaluated best model in eval_dataset is epoch_30, miou=0.8462166305857228\n",
      "2021-04-18 22:02:59 [INFO]\t[TRAIN] Epoch=33/40, Step=2/66, loss=0.006164, lr=0.002345, time_each_step=0.27s, eta=0:2:4\n",
      "2021-04-18 22:02:59 [INFO]\t[TRAIN] Epoch=33/40, Step=4/66, loss=0.006521, lr=0.002337, time_each_step=0.28s, eta=0:2:4\n",
      "2021-04-18 22:02:59 [INFO]\t[TRAIN] Epoch=33/40, Step=6/66, loss=0.005488, lr=0.002329, time_each_step=0.29s, eta=0:2:5\n",
      "2021-04-18 22:03:00 [INFO]\t[TRAIN] Epoch=33/40, Step=8/66, loss=0.006856, lr=0.002321, time_each_step=0.31s, eta=0:2:5\n",
      "2021-04-18 22:03:00 [INFO]\t[TRAIN] Epoch=33/40, Step=10/66, loss=0.007375, lr=0.002313, time_each_step=0.32s, eta=0:2:5\n",
      "2021-04-18 22:03:00 [INFO]\t[TRAIN] Epoch=33/40, Step=12/66, loss=0.007196, lr=0.002305, time_each_step=0.32s, eta=0:2:5\n",
      "2021-04-18 22:03:01 [INFO]\t[TRAIN] Epoch=33/40, Step=14/66, loss=0.008205, lr=0.002297, time_each_step=0.34s, eta=0:2:5\n",
      "2021-04-18 22:03:01 [INFO]\t[TRAIN] Epoch=33/40, Step=16/66, loss=0.008116, lr=0.002289, time_each_step=0.34s, eta=0:2:4\n",
      "2021-04-18 22:03:01 [INFO]\t[TRAIN] Epoch=33/40, Step=18/66, loss=0.007484, lr=0.002281, time_each_step=0.35s, eta=0:2:4\n",
      "2021-04-18 22:03:02 [INFO]\t[TRAIN] Epoch=33/40, Step=20/66, loss=0.006535, lr=0.002273, time_each_step=0.35s, eta=0:2:3\n",
      "2021-04-18 22:03:02 [INFO]\t[TRAIN] Epoch=33/40, Step=22/66, loss=0.005407, lr=0.002265, time_each_step=0.15s, eta=0:1:54\n",
      "2021-04-18 22:03:02 [INFO]\t[TRAIN] Epoch=33/40, Step=24/66, loss=0.006332, lr=0.002257, time_each_step=0.14s, eta=0:1:53\n",
      "2021-04-18 22:03:02 [INFO]\t[TRAIN] Epoch=33/40, Step=26/66, loss=0.00498, lr=0.002249, time_each_step=0.13s, eta=0:1:52\n",
      "2021-04-18 22:03:02 [INFO]\t[TRAIN] Epoch=33/40, Step=28/66, loss=0.00575, lr=0.002241, time_each_step=0.12s, eta=0:1:52\n",
      "2021-04-18 22:03:02 [INFO]\t[TRAIN] Epoch=33/40, Step=30/66, loss=0.007414, lr=0.002233, time_each_step=0.11s, eta=0:1:51\n",
      "2021-04-18 22:03:03 [INFO]\t[TRAIN] Epoch=33/40, Step=32/66, loss=0.004526, lr=0.002225, time_each_step=0.1s, eta=0:1:51\n",
      "2021-04-18 22:03:03 [INFO]\t[TRAIN] Epoch=33/40, Step=34/66, loss=0.00525, lr=0.002217, time_each_step=0.09s, eta=0:1:50\n",
      "2021-04-18 22:03:03 [INFO]\t[TRAIN] Epoch=33/40, Step=36/66, loss=0.007248, lr=0.002209, time_each_step=0.08s, eta=0:1:50\n",
      "2021-04-18 22:03:03 [INFO]\t[TRAIN] Epoch=33/40, Step=38/66, loss=0.005485, lr=0.002201, time_each_step=0.08s, eta=0:1:49\n",
      "2021-04-18 22:03:03 [INFO]\t[TRAIN] Epoch=33/40, Step=40/66, loss=0.008603, lr=0.002192, time_each_step=0.08s, eta=0:1:49\n",
      "2021-04-18 22:03:03 [INFO]\t[TRAIN] Epoch=33/40, Step=42/66, loss=0.009378, lr=0.002184, time_each_step=0.08s, eta=0:1:49\n",
      "2021-04-18 22:03:03 [INFO]\t[TRAIN] Epoch=33/40, Step=44/66, loss=0.007049, lr=0.002176, time_each_step=0.07s, eta=0:1:49\n",
      "2021-04-18 22:03:03 [INFO]\t[TRAIN] Epoch=33/40, Step=46/66, loss=0.008837, lr=0.002168, time_each_step=0.07s, eta=0:1:49\n",
      "2021-04-18 22:03:04 [INFO]\t[TRAIN] Epoch=33/40, Step=48/66, loss=0.008118, lr=0.00216, time_each_step=0.07s, eta=0:1:49\n",
      "2021-04-18 22:03:04 [INFO]\t[TRAIN] Epoch=33/40, Step=50/66, loss=0.005699, lr=0.002152, time_each_step=0.07s, eta=0:1:48\n",
      "2021-04-18 22:03:04 [INFO]\t[TRAIN] Epoch=33/40, Step=52/66, loss=0.007752, lr=0.002144, time_each_step=0.07s, eta=0:1:48\n",
      "2021-04-18 22:03:04 [INFO]\t[TRAIN] Epoch=33/40, Step=54/66, loss=0.005925, lr=0.002136, time_each_step=0.07s, eta=0:1:48\n",
      "2021-04-18 22:03:04 [INFO]\t[TRAIN] Epoch=33/40, Step=56/66, loss=0.005842, lr=0.002128, time_each_step=0.07s, eta=0:1:48\n",
      "2021-04-18 22:03:04 [INFO]\t[TRAIN] Epoch=33/40, Step=58/66, loss=0.006212, lr=0.00212, time_each_step=0.07s, eta=0:1:48\n",
      "2021-04-18 22:03:05 [INFO]\t[TRAIN] Epoch=33/40, Step=60/66, loss=0.006772, lr=0.002112, time_each_step=0.07s, eta=0:1:48\n",
      "2021-04-18 22:03:05 [INFO]\t[TRAIN] Epoch=33/40, Step=62/66, loss=0.008233, lr=0.002103, time_each_step=0.07s, eta=0:1:47\n",
      "2021-04-18 22:03:05 [INFO]\t[TRAIN] Epoch=33/40, Step=64/66, loss=0.005872, lr=0.002095, time_each_step=0.07s, eta=0:1:47\n",
      "2021-04-18 22:03:05 [INFO]\t[TRAIN] Epoch=33/40, Step=66/66, loss=0.006167, lr=0.002087, time_each_step=0.07s, eta=0:1:47\n",
      "2021-04-18 22:03:05 [INFO]\t[TRAIN] Epoch 33 finished, loss=0.007737, lr=0.002219 .\n",
      "2021-04-18 22:03:05 [INFO]\tStart to evaluating(total_samples=76, total_steps=19)...\n"
     ]
    },
    {
     "name": "stderr",
     "output_type": "stream",
     "text": [
      "100%|██████████| 19/19 [00:07<00:00,  2.52it/s]\n"
     ]
    },
    {
     "name": "stdout",
     "output_type": "stream",
     "text": [
      "2021-04-18 22:03:12 [INFO]\t[EVAL] Finished, Epoch=33, miou=0.834816, category_iou=[0.99174145 0.67788984], oacc=0.991883, category_acc=[0.99869087 0.71409824], kappa=0.803953, category_F1-score=[0.9958536  0.80802663] .\n",
      "2021-04-18 22:03:13 [INFO]\tModel saved in output/deeplab/epoch_33.\n",
      "2021-04-18 22:03:13 [INFO]\tCurrent evaluated best model in eval_dataset is epoch_30, miou=0.8462166305857228\n",
      "2021-04-18 22:03:21 [INFO]\t[TRAIN] Epoch=34/40, Step=2/66, loss=0.006924, lr=0.002079, time_each_step=0.45s, eta=0:2:26\n",
      "2021-04-18 22:03:21 [INFO]\t[TRAIN] Epoch=34/40, Step=4/66, loss=0.010403, lr=0.002071, time_each_step=0.45s, eta=0:2:26\n",
      "2021-04-18 22:03:21 [INFO]\t[TRAIN] Epoch=34/40, Step=6/66, loss=0.00706, lr=0.002063, time_each_step=0.46s, eta=0:2:25\n",
      "2021-04-18 22:03:21 [INFO]\t[TRAIN] Epoch=34/40, Step=8/66, loss=0.013907, lr=0.002055, time_each_step=0.47s, eta=0:2:25\n",
      "2021-04-18 22:03:22 [INFO]\t[TRAIN] Epoch=34/40, Step=10/66, loss=0.005579, lr=0.002047, time_each_step=0.48s, eta=0:2:24\n",
      "2021-04-18 22:03:22 [INFO]\t[TRAIN] Epoch=34/40, Step=12/66, loss=0.006149, lr=0.002039, time_each_step=0.49s, eta=0:2:24\n",
      "2021-04-18 22:03:22 [INFO]\t[TRAIN] Epoch=34/40, Step=14/66, loss=0.008736, lr=0.00203, time_each_step=0.5s, eta=0:2:23\n",
      "2021-04-18 22:03:23 [INFO]\t[TRAIN] Epoch=34/40, Step=16/66, loss=0.007705, lr=0.002022, time_each_step=0.51s, eta=0:2:23\n",
      "2021-04-18 22:03:23 [INFO]\t[TRAIN] Epoch=34/40, Step=18/66, loss=0.007893, lr=0.002014, time_each_step=0.51s, eta=0:2:22\n",
      "2021-04-18 22:03:23 [INFO]\t[TRAIN] Epoch=34/40, Step=20/66, loss=0.008476, lr=0.002006, time_each_step=0.52s, eta=0:2:21\n",
      "2021-04-18 22:03:23 [INFO]\t[TRAIN] Epoch=34/40, Step=22/66, loss=0.005106, lr=0.001998, time_each_step=0.14s, eta=0:2:4\n",
      "2021-04-18 22:03:24 [INFO]\t[TRAIN] Epoch=34/40, Step=24/66, loss=0.010063, lr=0.00199, time_each_step=0.14s, eta=0:2:3\n",
      "2021-04-18 22:03:24 [INFO]\t[TRAIN] Epoch=34/40, Step=26/66, loss=0.006431, lr=0.001981, time_each_step=0.13s, eta=0:2:3\n",
      "2021-04-18 22:03:24 [INFO]\t[TRAIN] Epoch=34/40, Step=28/66, loss=0.006994, lr=0.001973, time_each_step=0.12s, eta=0:2:2\n",
      "2021-04-18 22:03:24 [INFO]\t[TRAIN] Epoch=34/40, Step=30/66, loss=0.006954, lr=0.001965, time_each_step=0.11s, eta=0:2:1\n",
      "2021-04-18 22:03:24 [INFO]\t[TRAIN] Epoch=34/40, Step=32/66, loss=0.006276, lr=0.001957, time_each_step=0.1s, eta=0:2:1\n",
      "2021-04-18 22:03:24 [INFO]\t[TRAIN] Epoch=34/40, Step=34/66, loss=0.005023, lr=0.001949, time_each_step=0.09s, eta=0:2:0\n",
      "2021-04-18 22:03:24 [INFO]\t[TRAIN] Epoch=34/40, Step=36/66, loss=0.007822, lr=0.001941, time_each_step=0.08s, eta=0:2:0\n",
      "2021-04-18 22:03:25 [INFO]\t[TRAIN] Epoch=34/40, Step=38/66, loss=0.005553, lr=0.001932, time_each_step=0.08s, eta=0:2:0\n",
      "2021-04-18 22:03:25 [INFO]\t[TRAIN] Epoch=34/40, Step=40/66, loss=0.005433, lr=0.001924, time_each_step=0.07s, eta=0:1:59\n",
      "2021-04-18 22:03:25 [INFO]\t[TRAIN] Epoch=34/40, Step=42/66, loss=0.006597, lr=0.001916, time_each_step=0.07s, eta=0:1:59\n",
      "2021-04-18 22:03:25 [INFO]\t[TRAIN] Epoch=34/40, Step=44/66, loss=0.005039, lr=0.001908, time_each_step=0.07s, eta=0:1:59\n",
      "2021-04-18 22:03:25 [INFO]\t[TRAIN] Epoch=34/40, Step=46/66, loss=0.010644, lr=0.0019, time_each_step=0.07s, eta=0:1:59\n",
      "2021-04-18 22:03:25 [INFO]\t[TRAIN] Epoch=34/40, Step=48/66, loss=0.006158, lr=0.001891, time_each_step=0.07s, eta=0:1:59\n",
      "2021-04-18 22:03:25 [INFO]\t[TRAIN] Epoch=34/40, Step=50/66, loss=0.0063, lr=0.001883, time_each_step=0.07s, eta=0:1:59\n",
      "2021-04-18 22:03:26 [INFO]\t[TRAIN] Epoch=34/40, Step=52/66, loss=0.009875, lr=0.001875, time_each_step=0.07s, eta=0:1:58\n",
      "2021-04-18 22:03:26 [INFO]\t[TRAIN] Epoch=34/40, Step=54/66, loss=0.006612, lr=0.001867, time_each_step=0.07s, eta=0:1:58\n",
      "2021-04-18 22:03:26 [INFO]\t[TRAIN] Epoch=34/40, Step=56/66, loss=0.004938, lr=0.001859, time_each_step=0.07s, eta=0:1:58\n",
      "2021-04-18 22:03:26 [INFO]\t[TRAIN] Epoch=34/40, Step=58/66, loss=0.005933, lr=0.00185, time_each_step=0.07s, eta=0:1:58\n",
      "2021-04-18 22:03:26 [INFO]\t[TRAIN] Epoch=34/40, Step=60/66, loss=0.00653, lr=0.001842, time_each_step=0.07s, eta=0:1:58\n",
      "2021-04-18 22:03:26 [INFO]\t[TRAIN] Epoch=34/40, Step=62/66, loss=0.005384, lr=0.001834, time_each_step=0.07s, eta=0:1:58\n",
      "2021-04-18 22:03:26 [INFO]\t[TRAIN] Epoch=34/40, Step=64/66, loss=0.004639, lr=0.001826, time_each_step=0.07s, eta=0:1:58\n",
      "2021-04-18 22:03:27 [INFO]\t[TRAIN] Epoch=34/40, Step=66/66, loss=0.007387, lr=0.001817, time_each_step=0.07s, eta=0:1:57\n",
      "2021-04-18 22:03:27 [INFO]\t[TRAIN] Epoch 34 finished, loss=0.007491, lr=0.001951 .\n",
      "2021-04-18 22:03:27 [INFO]\tStart to evaluating(total_samples=76, total_steps=19)...\n"
     ]
    },
    {
     "name": "stderr",
     "output_type": "stream",
     "text": [
      "100%|██████████| 19/19 [00:06<00:00,  3.14it/s]\n"
     ]
    },
    {
     "name": "stdout",
     "output_type": "stream",
     "text": [
      "2021-04-18 22:03:33 [INFO]\t[EVAL] Finished, Epoch=34, miou=0.842381, category_iou=[0.99236903 0.69239287], oacc=0.992498, category_acc=[0.99849066 0.73695597], kappa=0.814459, category_F1-score=[0.9961699 0.8182413] .\n",
      "2021-04-18 22:03:33 [INFO]\tModel saved in output/deeplab/epoch_34.\n",
      "2021-04-18 22:03:33 [INFO]\tCurrent evaluated best model in eval_dataset is epoch_30, miou=0.8462166305857228\n",
      "2021-04-18 22:03:36 [INFO]\t[TRAIN] Epoch=35/40, Step=2/66, loss=0.007935, lr=0.001809, time_each_step=0.2s, eta=0:1:59\n",
      "2021-04-18 22:03:36 [INFO]\t[TRAIN] Epoch=35/40, Step=4/66, loss=0.009985, lr=0.001801, time_each_step=0.2s, eta=0:1:59\n",
      "2021-04-18 22:03:36 [INFO]\t[TRAIN] Epoch=35/40, Step=6/66, loss=0.006832, lr=0.001793, time_each_step=0.21s, eta=0:1:59\n",
      "2021-04-18 22:03:36 [INFO]\t[TRAIN] Epoch=35/40, Step=8/66, loss=0.009387, lr=0.001784, time_each_step=0.21s, eta=0:1:59\n",
      "2021-04-18 22:03:37 [INFO]\t[TRAIN] Epoch=35/40, Step=10/66, loss=0.005305, lr=0.001776, time_each_step=0.22s, eta=0:1:59\n",
      "2021-04-18 22:03:37 [INFO]\t[TRAIN] Epoch=35/40, Step=12/66, loss=0.007237, lr=0.001768, time_each_step=0.23s, eta=0:1:59\n",
      "2021-04-18 22:03:37 [INFO]\t[TRAIN] Epoch=35/40, Step=14/66, loss=0.0081, lr=0.00176, time_each_step=0.24s, eta=0:1:59\n",
      "2021-04-18 22:03:38 [INFO]\t[TRAIN] Epoch=35/40, Step=16/66, loss=0.004833, lr=0.001751, time_each_step=0.25s, eta=0:1:59\n",
      "2021-04-18 22:03:38 [INFO]\t[TRAIN] Epoch=35/40, Step=18/66, loss=0.008999, lr=0.001743, time_each_step=0.26s, eta=0:1:59\n",
      "2021-04-18 22:03:38 [INFO]\t[TRAIN] Epoch=35/40, Step=20/66, loss=0.005927, lr=0.001735, time_each_step=0.27s, eta=0:1:59\n",
      "2021-04-18 22:03:38 [INFO]\t[TRAIN] Epoch=35/40, Step=22/66, loss=0.005285, lr=0.001727, time_each_step=0.14s, eta=0:1:53\n",
      "2021-04-18 22:03:39 [INFO]\t[TRAIN] Epoch=35/40, Step=24/66, loss=0.006833, lr=0.001718, time_each_step=0.14s, eta=0:1:52\n",
      "2021-04-18 22:03:39 [INFO]\t[TRAIN] Epoch=35/40, Step=26/66, loss=0.006417, lr=0.00171, time_each_step=0.13s, eta=0:1:52\n",
      "2021-04-18 22:03:39 [INFO]\t[TRAIN] Epoch=35/40, Step=28/66, loss=0.005847, lr=0.001702, time_each_step=0.13s, eta=0:1:51\n",
      "2021-04-18 22:03:39 [INFO]\t[TRAIN] Epoch=35/40, Step=30/66, loss=0.006366, lr=0.001693, time_each_step=0.11s, eta=0:1:51\n",
      "2021-04-18 22:03:39 [INFO]\t[TRAIN] Epoch=35/40, Step=32/66, loss=0.007166, lr=0.001685, time_each_step=0.11s, eta=0:1:50\n",
      "2021-04-18 22:03:39 [INFO]\t[TRAIN] Epoch=35/40, Step=34/66, loss=0.008269, lr=0.001677, time_each_step=0.1s, eta=0:1:50\n",
      "2021-04-18 22:03:39 [INFO]\t[TRAIN] Epoch=35/40, Step=36/66, loss=0.009704, lr=0.001668, time_each_step=0.09s, eta=0:1:49\n",
      "2021-04-18 22:03:40 [INFO]\t[TRAIN] Epoch=35/40, Step=38/66, loss=0.006146, lr=0.00166, time_each_step=0.08s, eta=0:1:49\n",
      "2021-04-18 22:03:40 [INFO]\t[TRAIN] Epoch=35/40, Step=40/66, loss=0.005399, lr=0.001652, time_each_step=0.07s, eta=0:1:48\n",
      "2021-04-18 22:03:40 [INFO]\t[TRAIN] Epoch=35/40, Step=42/66, loss=0.007055, lr=0.001643, time_each_step=0.07s, eta=0:1:48\n",
      "2021-04-18 22:03:40 [INFO]\t[TRAIN] Epoch=35/40, Step=44/66, loss=0.014354, lr=0.001635, time_each_step=0.07s, eta=0:1:48\n",
      "2021-04-18 22:03:40 [INFO]\t[TRAIN] Epoch=35/40, Step=46/66, loss=0.006169, lr=0.001627, time_each_step=0.07s, eta=0:1:48\n",
      "2021-04-18 22:03:40 [INFO]\t[TRAIN] Epoch=35/40, Step=48/66, loss=0.006789, lr=0.001618, time_each_step=0.07s, eta=0:1:48\n",
      "2021-04-18 22:03:40 [INFO]\t[TRAIN] Epoch=35/40, Step=50/66, loss=0.006202, lr=0.00161, time_each_step=0.07s, eta=0:1:48\n",
      "2021-04-18 22:03:41 [INFO]\t[TRAIN] Epoch=35/40, Step=52/66, loss=0.007665, lr=0.001602, time_each_step=0.07s, eta=0:1:47\n",
      "2021-04-18 22:03:41 [INFO]\t[TRAIN] Epoch=35/40, Step=54/66, loss=0.007484, lr=0.001593, time_each_step=0.07s, eta=0:1:47\n",
      "2021-04-18 22:03:41 [INFO]\t[TRAIN] Epoch=35/40, Step=56/66, loss=0.008615, lr=0.001585, time_each_step=0.07s, eta=0:1:47\n",
      "2021-04-18 22:03:41 [INFO]\t[TRAIN] Epoch=35/40, Step=58/66, loss=0.009912, lr=0.001577, time_each_step=0.07s, eta=0:1:47\n",
      "2021-04-18 22:03:41 [INFO]\t[TRAIN] Epoch=35/40, Step=60/66, loss=0.011152, lr=0.001568, time_each_step=0.07s, eta=0:1:47\n",
      "2021-04-18 22:03:41 [INFO]\t[TRAIN] Epoch=35/40, Step=62/66, loss=0.00553, lr=0.00156, time_each_step=0.07s, eta=0:1:47\n",
      "2021-04-18 22:03:41 [INFO]\t[TRAIN] Epoch=35/40, Step=64/66, loss=0.005601, lr=0.001552, time_each_step=0.07s, eta=0:1:47\n",
      "2021-04-18 22:03:42 [INFO]\t[TRAIN] Epoch=35/40, Step=66/66, loss=0.0048, lr=0.001543, time_each_step=0.07s, eta=0:1:46\n",
      "2021-04-18 22:03:42 [INFO]\t[TRAIN] Epoch 35 finished, loss=0.007487, lr=0.001679 .\n",
      "2021-04-18 22:03:42 [INFO]\tStart to evaluating(total_samples=76, total_steps=19)...\n"
     ]
    },
    {
     "name": "stderr",
     "output_type": "stream",
     "text": [
      "100%|██████████| 19/19 [00:07<00:00,  2.70it/s]\n"
     ]
    },
    {
     "name": "stdout",
     "output_type": "stream",
     "text": [
      "2021-04-18 22:03:49 [INFO]\t[EVAL] Finished, Epoch=35, miou=0.84227, category_iou=[0.99231094 0.69222973], oacc=0.992442, category_acc=[0.99860647 0.7328497 ], kappa=0.814321, category_F1-score=[0.99614063 0.81812737] .\n",
      "2021-04-18 22:03:49 [INFO]\tModel saved in output/deeplab/epoch_35.\n",
      "2021-04-18 22:03:49 [INFO]\tCurrent evaluated best model in eval_dataset is epoch_30, miou=0.8462166305857228\n",
      "2021-04-18 22:03:52 [INFO]\t[TRAIN] Epoch=36/40, Step=2/66, loss=0.005057, lr=0.001535, time_each_step=0.23s, eta=0:1:26\n",
      "2021-04-18 22:03:53 [INFO]\t[TRAIN] Epoch=36/40, Step=4/66, loss=0.016402, lr=0.001526, time_each_step=0.23s, eta=0:1:26\n",
      "2021-04-18 22:03:53 [INFO]\t[TRAIN] Epoch=36/40, Step=6/66, loss=0.005942, lr=0.001518, time_each_step=0.24s, eta=0:1:26\n",
      "2021-04-18 22:03:53 [INFO]\t[TRAIN] Epoch=36/40, Step=8/66, loss=0.007454, lr=0.00151, time_each_step=0.25s, eta=0:1:26\n",
      "2021-04-18 22:03:54 [INFO]\t[TRAIN] Epoch=36/40, Step=10/66, loss=0.007242, lr=0.001501, time_each_step=0.26s, eta=0:1:26\n",
      "2021-04-18 22:03:54 [INFO]\t[TRAIN] Epoch=36/40, Step=12/66, loss=0.006338, lr=0.001493, time_each_step=0.27s, eta=0:1:26\n",
      "2021-04-18 22:03:54 [INFO]\t[TRAIN] Epoch=36/40, Step=14/66, loss=0.005114, lr=0.001484, time_each_step=0.28s, eta=0:1:26\n",
      "2021-04-18 22:03:55 [INFO]\t[TRAIN] Epoch=36/40, Step=16/66, loss=0.007884, lr=0.001476, time_each_step=0.29s, eta=0:1:26\n",
      "2021-04-18 22:03:55 [INFO]\t[TRAIN] Epoch=36/40, Step=18/66, loss=0.007154, lr=0.001467, time_each_step=0.29s, eta=0:1:25\n",
      "2021-04-18 22:03:55 [INFO]\t[TRAIN] Epoch=36/40, Step=20/66, loss=0.008757, lr=0.001459, time_each_step=0.3s, eta=0:1:25\n",
      "2021-04-18 22:03:55 [INFO]\t[TRAIN] Epoch=36/40, Step=22/66, loss=0.004586, lr=0.001451, time_each_step=0.15s, eta=0:1:18\n",
      "2021-04-18 22:03:55 [INFO]\t[TRAIN] Epoch=36/40, Step=24/66, loss=0.009005, lr=0.001442, time_each_step=0.14s, eta=0:1:17\n",
      "2021-04-18 22:03:56 [INFO]\t[TRAIN] Epoch=36/40, Step=26/66, loss=0.00739, lr=0.001434, time_each_step=0.13s, eta=0:1:16\n",
      "2021-04-18 22:03:56 [INFO]\t[TRAIN] Epoch=36/40, Step=28/66, loss=0.006097, lr=0.001425, time_each_step=0.12s, eta=0:1:16\n",
      "2021-04-18 22:03:56 [INFO]\t[TRAIN] Epoch=36/40, Step=30/66, loss=0.005899, lr=0.001417, time_each_step=0.11s, eta=0:1:15\n",
      "2021-04-18 22:03:56 [INFO]\t[TRAIN] Epoch=36/40, Step=32/66, loss=0.005911, lr=0.001408, time_each_step=0.11s, eta=0:1:15\n",
      "2021-04-18 22:03:56 [INFO]\t[TRAIN] Epoch=36/40, Step=34/66, loss=0.011632, lr=0.0014, time_each_step=0.1s, eta=0:1:14\n",
      "2021-04-18 22:03:56 [INFO]\t[TRAIN] Epoch=36/40, Step=36/66, loss=0.010125, lr=0.001391, time_each_step=0.09s, eta=0:1:14\n",
      "2021-04-18 22:03:56 [INFO]\t[TRAIN] Epoch=36/40, Step=38/66, loss=0.006113, lr=0.001383, time_each_step=0.08s, eta=0:1:13\n",
      "2021-04-18 22:03:57 [INFO]\t[TRAIN] Epoch=36/40, Step=40/66, loss=0.007184, lr=0.001374, time_each_step=0.08s, eta=0:1:13\n",
      "2021-04-18 22:03:57 [INFO]\t[TRAIN] Epoch=36/40, Step=42/66, loss=0.005625, lr=0.001366, time_each_step=0.08s, eta=0:1:13\n",
      "2021-04-18 22:03:57 [INFO]\t[TRAIN] Epoch=36/40, Step=44/66, loss=0.006553, lr=0.001357, time_each_step=0.07s, eta=0:1:13\n",
      "2021-04-18 22:03:57 [INFO]\t[TRAIN] Epoch=36/40, Step=46/66, loss=0.007034, lr=0.001349, time_each_step=0.07s, eta=0:1:13\n",
      "2021-04-18 22:03:57 [INFO]\t[TRAIN] Epoch=36/40, Step=48/66, loss=0.006161, lr=0.00134, time_each_step=0.07s, eta=0:1:12\n",
      "2021-04-18 22:03:57 [INFO]\t[TRAIN] Epoch=36/40, Step=50/66, loss=0.009287, lr=0.001332, time_each_step=0.07s, eta=0:1:12\n",
      "2021-04-18 22:03:57 [INFO]\t[TRAIN] Epoch=36/40, Step=52/66, loss=0.008883, lr=0.001323, time_each_step=0.07s, eta=0:1:12\n",
      "2021-04-18 22:03:58 [INFO]\t[TRAIN] Epoch=36/40, Step=54/66, loss=0.012886, lr=0.001315, time_each_step=0.07s, eta=0:1:12\n",
      "2021-04-18 22:03:58 [INFO]\t[TRAIN] Epoch=36/40, Step=56/66, loss=0.004541, lr=0.001306, time_each_step=0.07s, eta=0:1:12\n",
      "2021-04-18 22:03:58 [INFO]\t[TRAIN] Epoch=36/40, Step=58/66, loss=0.006509, lr=0.001297, time_each_step=0.07s, eta=0:1:12\n",
      "2021-04-18 22:03:58 [INFO]\t[TRAIN] Epoch=36/40, Step=60/66, loss=0.009788, lr=0.001289, time_each_step=0.07s, eta=0:1:12\n",
      "2021-04-18 22:03:58 [INFO]\t[TRAIN] Epoch=36/40, Step=62/66, loss=0.006164, lr=0.00128, time_each_step=0.07s, eta=0:1:11\n",
      "2021-04-18 22:03:58 [INFO]\t[TRAIN] Epoch=36/40, Step=64/66, loss=0.01356, lr=0.001272, time_each_step=0.07s, eta=0:1:11\n",
      "2021-04-18 22:03:58 [INFO]\t[TRAIN] Epoch=36/40, Step=66/66, loss=0.006104, lr=0.001263, time_each_step=0.07s, eta=0:1:11\n",
      "2021-04-18 22:03:58 [INFO]\t[TRAIN] Epoch 36 finished, loss=0.007595, lr=0.001402 .\n",
      "2021-04-18 22:03:58 [INFO]\tStart to evaluating(total_samples=76, total_steps=19)...\n"
     ]
    },
    {
     "name": "stderr",
     "output_type": "stream",
     "text": [
      "100%|██████████| 19/19 [00:05<00:00,  3.30it/s]\n"
     ]
    },
    {
     "name": "stdout",
     "output_type": "stream",
     "text": [
      "2021-04-18 22:04:04 [INFO]\t[EVAL] Finished, Epoch=36, miou=0.83669, category_iou=[0.99187527 0.68150403], oacc=0.992014, category_acc=[0.99869558 0.71796596], kappa=0.806579, category_F1-score=[0.99592106 0.81058864] .\n",
      "2021-04-18 22:04:05 [INFO]\tModel saved in output/deeplab/epoch_36.\n",
      "2021-04-18 22:04:05 [INFO]\tCurrent evaluated best model in eval_dataset is epoch_30, miou=0.8462166305857228\n",
      "2021-04-18 22:04:08 [INFO]\t[TRAIN] Epoch=37/40, Step=2/66, loss=0.005442, lr=0.001255, time_each_step=0.25s, eta=0:1:9\n",
      "2021-04-18 22:04:09 [INFO]\t[TRAIN] Epoch=37/40, Step=4/66, loss=0.006864, lr=0.001246, time_each_step=0.26s, eta=0:1:9\n",
      "2021-04-18 22:04:09 [INFO]\t[TRAIN] Epoch=37/40, Step=6/66, loss=0.005899, lr=0.001237, time_each_step=0.27s, eta=0:1:8\n",
      "2021-04-18 22:04:09 [INFO]\t[TRAIN] Epoch=37/40, Step=8/66, loss=0.008915, lr=0.001229, time_each_step=0.28s, eta=0:1:8\n",
      "2021-04-18 22:04:10 [INFO]\t[TRAIN] Epoch=37/40, Step=10/66, loss=0.009906, lr=0.00122, time_each_step=0.29s, eta=0:1:8\n",
      "2021-04-18 22:04:10 [INFO]\t[TRAIN] Epoch=37/40, Step=12/66, loss=0.006272, lr=0.001212, time_each_step=0.29s, eta=0:1:8\n",
      "2021-04-18 22:04:10 [INFO]\t[TRAIN] Epoch=37/40, Step=14/66, loss=0.006093, lr=0.001203, time_each_step=0.3s, eta=0:1:8\n",
      "2021-04-18 22:04:10 [INFO]\t[TRAIN] Epoch=37/40, Step=16/66, loss=0.004905, lr=0.001194, time_each_step=0.31s, eta=0:1:8\n",
      "2021-04-18 22:04:11 [INFO]\t[TRAIN] Epoch=37/40, Step=18/66, loss=0.005154, lr=0.001186, time_each_step=0.31s, eta=0:1:7\n",
      "2021-04-18 22:04:11 [INFO]\t[TRAIN] Epoch=37/40, Step=20/66, loss=0.00517, lr=0.001177, time_each_step=0.32s, eta=0:1:7\n",
      "2021-04-18 22:04:11 [INFO]\t[TRAIN] Epoch=37/40, Step=22/66, loss=0.010256, lr=0.001168, time_each_step=0.14s, eta=0:0:59\n",
      "2021-04-18 22:04:11 [INFO]\t[TRAIN] Epoch=37/40, Step=24/66, loss=0.007296, lr=0.00116, time_each_step=0.13s, eta=0:0:58\n",
      "2021-04-18 22:04:11 [INFO]\t[TRAIN] Epoch=37/40, Step=26/66, loss=0.008958, lr=0.001151, time_each_step=0.13s, eta=0:0:57\n",
      "2021-04-18 22:04:12 [INFO]\t[TRAIN] Epoch=37/40, Step=28/66, loss=0.006389, lr=0.001142, time_each_step=0.12s, eta=0:0:57\n",
      "2021-04-18 22:04:12 [INFO]\t[TRAIN] Epoch=37/40, Step=30/66, loss=0.015029, lr=0.001134, time_each_step=0.11s, eta=0:0:56\n",
      "2021-04-18 22:04:12 [INFO]\t[TRAIN] Epoch=37/40, Step=32/66, loss=0.009205, lr=0.001125, time_each_step=0.1s, eta=0:0:56\n",
      "2021-04-18 22:04:12 [INFO]\t[TRAIN] Epoch=37/40, Step=34/66, loss=0.00562, lr=0.001116, time_each_step=0.1s, eta=0:0:55\n",
      "2021-04-18 22:04:12 [INFO]\t[TRAIN] Epoch=37/40, Step=36/66, loss=0.012837, lr=0.001108, time_each_step=0.09s, eta=0:0:55\n",
      "2021-04-18 22:04:12 [INFO]\t[TRAIN] Epoch=37/40, Step=38/66, loss=0.005858, lr=0.001099, time_each_step=0.08s, eta=0:0:55\n",
      "2021-04-18 22:04:12 [INFO]\t[TRAIN] Epoch=37/40, Step=40/66, loss=0.011888, lr=0.00109, time_each_step=0.07s, eta=0:0:54\n",
      "2021-04-18 22:04:13 [INFO]\t[TRAIN] Epoch=37/40, Step=42/66, loss=0.009142, lr=0.001082, time_each_step=0.07s, eta=0:0:54\n",
      "2021-04-18 22:04:13 [INFO]\t[TRAIN] Epoch=37/40, Step=44/66, loss=0.005703, lr=0.001073, time_each_step=0.07s, eta=0:0:54\n",
      "2021-04-18 22:04:13 [INFO]\t[TRAIN] Epoch=37/40, Step=46/66, loss=0.006909, lr=0.001064, time_each_step=0.07s, eta=0:0:54\n",
      "2021-04-18 22:04:13 [INFO]\t[TRAIN] Epoch=37/40, Step=48/66, loss=0.010106, lr=0.001055, time_each_step=0.07s, eta=0:0:54\n",
      "2021-04-18 22:04:13 [INFO]\t[TRAIN] Epoch=37/40, Step=50/66, loss=0.007312, lr=0.001047, time_each_step=0.07s, eta=0:0:53\n",
      "2021-04-18 22:04:13 [INFO]\t[TRAIN] Epoch=37/40, Step=52/66, loss=0.006806, lr=0.001038, time_each_step=0.07s, eta=0:0:53\n",
      "2021-04-18 22:04:13 [INFO]\t[TRAIN] Epoch=37/40, Step=54/66, loss=0.007482, lr=0.001029, time_each_step=0.07s, eta=0:0:53\n",
      "2021-04-18 22:04:14 [INFO]\t[TRAIN] Epoch=37/40, Step=56/66, loss=0.004994, lr=0.00102, time_each_step=0.07s, eta=0:0:53\n",
      "2021-04-18 22:04:14 [INFO]\t[TRAIN] Epoch=37/40, Step=58/66, loss=0.005433, lr=0.001011, time_each_step=0.07s, eta=0:0:53\n",
      "2021-04-18 22:04:14 [INFO]\t[TRAIN] Epoch=37/40, Step=60/66, loss=0.005218, lr=0.001003, time_each_step=0.07s, eta=0:0:53\n",
      "2021-04-18 22:04:14 [INFO]\t[TRAIN] Epoch=37/40, Step=62/66, loss=0.008685, lr=0.000994, time_each_step=0.07s, eta=0:0:53\n",
      "2021-04-18 22:04:14 [INFO]\t[TRAIN] Epoch=37/40, Step=64/66, loss=0.005678, lr=0.000985, time_each_step=0.07s, eta=0:0:52\n",
      "2021-04-18 22:04:14 [INFO]\t[TRAIN] Epoch=37/40, Step=66/66, loss=0.007251, lr=0.000976, time_each_step=0.07s, eta=0:0:52\n",
      "2021-04-18 22:04:14 [INFO]\t[TRAIN] Epoch 37 finished, loss=0.0075, lr=0.001118 .\n",
      "2021-04-18 22:04:14 [INFO]\tStart to evaluating(total_samples=76, total_steps=19)...\n"
     ]
    },
    {
     "name": "stderr",
     "output_type": "stream",
     "text": [
      "100%|██████████| 19/19 [00:05<00:00,  3.57it/s]\n"
     ]
    },
    {
     "name": "stdout",
     "output_type": "stream",
     "text": [
      "2021-04-18 22:04:20 [INFO]\t[EVAL] Finished, Epoch=37, miou=0.835021, category_iou=[0.9917561  0.67828683], oacc=0.991897, category_acc=[0.99869163 0.71451556], kappa=0.804242, category_F1-score=[0.99586099 0.80830859] .\n",
      "2021-04-18 22:04:20 [INFO]\tModel saved in output/deeplab/epoch_37.\n",
      "2021-04-18 22:04:20 [INFO]\tCurrent evaluated best model in eval_dataset is epoch_30, miou=0.8462166305857228\n",
      "2021-04-18 22:04:23 [INFO]\t[TRAIN] Epoch=38/40, Step=2/66, loss=0.005038, lr=0.000967, time_each_step=0.21s, eta=0:0:49\n",
      "2021-04-18 22:04:23 [INFO]\t[TRAIN] Epoch=38/40, Step=4/66, loss=0.007601, lr=0.000958, time_each_step=0.22s, eta=0:0:49\n",
      "2021-04-18 22:04:24 [INFO]\t[TRAIN] Epoch=38/40, Step=6/66, loss=0.013473, lr=0.00095, time_each_step=0.23s, eta=0:0:50\n",
      "2021-04-18 22:04:24 [INFO]\t[TRAIN] Epoch=38/40, Step=8/66, loss=0.007507, lr=0.000941, time_each_step=0.23s, eta=0:0:50\n",
      "2021-04-18 22:04:24 [INFO]\t[TRAIN] Epoch=38/40, Step=10/66, loss=0.004407, lr=0.000932, time_each_step=0.24s, eta=0:0:50\n",
      "2021-04-18 22:04:25 [INFO]\t[TRAIN] Epoch=38/40, Step=12/66, loss=0.006211, lr=0.000923, time_each_step=0.26s, eta=0:0:50\n",
      "2021-04-18 22:04:25 [INFO]\t[TRAIN] Epoch=38/40, Step=14/66, loss=0.010985, lr=0.000914, time_each_step=0.27s, eta=0:0:50\n",
      "2021-04-18 22:04:25 [INFO]\t[TRAIN] Epoch=38/40, Step=16/66, loss=0.006169, lr=0.000905, time_each_step=0.28s, eta=0:0:50\n",
      "2021-04-18 22:04:26 [INFO]\t[TRAIN] Epoch=38/40, Step=18/66, loss=0.006738, lr=0.000896, time_each_step=0.29s, eta=0:0:50\n",
      "2021-04-18 22:04:26 [INFO]\t[TRAIN] Epoch=38/40, Step=20/66, loss=0.005807, lr=0.000887, time_each_step=0.29s, eta=0:0:49\n",
      "2021-04-18 22:04:26 [INFO]\t[TRAIN] Epoch=38/40, Step=22/66, loss=0.005957, lr=0.000878, time_each_step=0.16s, eta=0:0:43\n",
      "2021-04-18 22:04:26 [INFO]\t[TRAIN] Epoch=38/40, Step=24/66, loss=0.013451, lr=0.00087, time_each_step=0.15s, eta=0:0:42\n",
      "2021-04-18 22:04:26 [INFO]\t[TRAIN] Epoch=38/40, Step=26/66, loss=0.008481, lr=0.000861, time_each_step=0.14s, eta=0:0:42\n",
      "2021-04-18 22:04:26 [INFO]\t[TRAIN] Epoch=38/40, Step=28/66, loss=0.005297, lr=0.000852, time_each_step=0.13s, eta=0:0:41\n",
      "2021-04-18 22:04:27 [INFO]\t[TRAIN] Epoch=38/40, Step=30/66, loss=0.005884, lr=0.000843, time_each_step=0.12s, eta=0:0:40\n",
      "2021-04-18 22:04:27 [INFO]\t[TRAIN] Epoch=38/40, Step=32/66, loss=0.006631, lr=0.000834, time_each_step=0.11s, eta=0:0:40\n",
      "2021-04-18 22:04:27 [INFO]\t[TRAIN] Epoch=38/40, Step=34/66, loss=0.00469, lr=0.000825, time_each_step=0.1s, eta=0:0:39\n",
      "2021-04-18 22:04:27 [INFO]\t[TRAIN] Epoch=38/40, Step=36/66, loss=0.007669, lr=0.000816, time_each_step=0.09s, eta=0:0:39\n",
      "2021-04-18 22:04:27 [INFO]\t[TRAIN] Epoch=38/40, Step=38/66, loss=0.009633, lr=0.000807, time_each_step=0.08s, eta=0:0:38\n",
      "2021-04-18 22:04:27 [INFO]\t[TRAIN] Epoch=38/40, Step=40/66, loss=0.008596, lr=0.000798, time_each_step=0.07s, eta=0:0:38\n",
      "2021-04-18 22:04:27 [INFO]\t[TRAIN] Epoch=38/40, Step=42/66, loss=0.006124, lr=0.000789, time_each_step=0.07s, eta=0:0:38\n",
      "2021-04-18 22:04:28 [INFO]\t[TRAIN] Epoch=38/40, Step=44/66, loss=0.011907, lr=0.00078, time_each_step=0.07s, eta=0:0:37\n",
      "2021-04-18 22:04:28 [INFO]\t[TRAIN] Epoch=38/40, Step=46/66, loss=0.007193, lr=0.000771, time_each_step=0.07s, eta=0:0:37\n",
      "2021-04-18 22:04:28 [INFO]\t[TRAIN] Epoch=38/40, Step=48/66, loss=0.00913, lr=0.000761, time_each_step=0.07s, eta=0:0:37\n",
      "2021-04-18 22:04:28 [INFO]\t[TRAIN] Epoch=38/40, Step=50/66, loss=0.0094, lr=0.000752, time_each_step=0.07s, eta=0:0:37\n",
      "2021-04-18 22:04:28 [INFO]\t[TRAIN] Epoch=38/40, Step=52/66, loss=0.00632, lr=0.000743, time_each_step=0.07s, eta=0:0:37\n",
      "2021-04-18 22:04:28 [INFO]\t[TRAIN] Epoch=38/40, Step=54/66, loss=0.008031, lr=0.000734, time_each_step=0.07s, eta=0:0:37\n",
      "2021-04-18 22:04:29 [INFO]\t[TRAIN] Epoch=38/40, Step=56/66, loss=0.005827, lr=0.000725, time_each_step=0.08s, eta=0:0:37\n",
      "2021-04-18 22:04:29 [INFO]\t[TRAIN] Epoch=38/40, Step=58/66, loss=0.00527, lr=0.000716, time_each_step=0.08s, eta=0:0:37\n",
      "2021-04-18 22:04:29 [INFO]\t[TRAIN] Epoch=38/40, Step=60/66, loss=0.007067, lr=0.000707, time_each_step=0.08s, eta=0:0:36\n",
      "2021-04-18 22:04:29 [INFO]\t[TRAIN] Epoch=38/40, Step=62/66, loss=0.006145, lr=0.000698, time_each_step=0.08s, eta=0:0:36\n",
      "2021-04-18 22:04:29 [INFO]\t[TRAIN] Epoch=38/40, Step=64/66, loss=0.006686, lr=0.000688, time_each_step=0.09s, eta=0:0:36\n",
      "2021-04-18 22:04:29 [INFO]\t[TRAIN] Epoch=38/40, Step=66/66, loss=0.007451, lr=0.000679, time_each_step=0.09s, eta=0:0:36\n",
      "2021-04-18 22:04:29 [INFO]\t[TRAIN] Epoch 38 finished, loss=0.00758, lr=0.000826 .\n",
      "2021-04-18 22:04:29 [INFO]\tStart to evaluating(total_samples=76, total_steps=19)...\n"
     ]
    },
    {
     "name": "stderr",
     "output_type": "stream",
     "text": [
      "100%|██████████| 19/19 [00:10<00:00,  1.85it/s]\n"
     ]
    },
    {
     "name": "stdout",
     "output_type": "stream",
     "text": [
      "2021-04-18 22:04:40 [INFO]\t[EVAL] Finished, Epoch=38, miou=0.840481, category_iou=[0.99220133 0.68876162], oacc=0.992334, category_acc=[0.99857099 0.73013605], kappa=0.811841, category_F1-score=[0.9960854  0.81570023] .\n",
      "2021-04-18 22:04:40 [INFO]\tModel saved in output/deeplab/epoch_38.\n",
      "2021-04-18 22:04:40 [INFO]\tCurrent evaluated best model in eval_dataset is epoch_30, miou=0.8462166305857228\n",
      "2021-04-18 22:04:45 [INFO]\t[TRAIN] Epoch=39/40, Step=2/66, loss=0.006103, lr=0.00067, time_each_step=0.31s, eta=0:0:50\n",
      "2021-04-18 22:04:45 [INFO]\t[TRAIN] Epoch=39/40, Step=4/66, loss=0.008803, lr=0.000661, time_each_step=0.33s, eta=0:0:51\n",
      "2021-04-18 22:04:46 [INFO]\t[TRAIN] Epoch=39/40, Step=6/66, loss=0.008643, lr=0.000652, time_each_step=0.34s, eta=0:0:51\n",
      "2021-04-18 22:04:46 [INFO]\t[TRAIN] Epoch=39/40, Step=8/66, loss=0.005333, lr=0.000642, time_each_step=0.35s, eta=0:0:51\n",
      "2021-04-18 22:04:46 [INFO]\t[TRAIN] Epoch=39/40, Step=10/66, loss=0.007278, lr=0.000633, time_each_step=0.36s, eta=0:0:50\n",
      "2021-04-18 22:04:47 [INFO]\t[TRAIN] Epoch=39/40, Step=12/66, loss=0.004223, lr=0.000624, time_each_step=0.36s, eta=0:0:50\n",
      "2021-04-18 22:04:47 [INFO]\t[TRAIN] Epoch=39/40, Step=14/66, loss=0.008691, lr=0.000615, time_each_step=0.37s, eta=0:0:50\n",
      "2021-04-18 22:04:47 [INFO]\t[TRAIN] Epoch=39/40, Step=16/66, loss=0.005421, lr=0.000605, time_each_step=0.38s, eta=0:0:49\n",
      "2021-04-18 22:04:48 [INFO]\t[TRAIN] Epoch=39/40, Step=18/66, loss=0.00597, lr=0.000596, time_each_step=0.38s, eta=0:0:49\n",
      "2021-04-18 22:04:48 [INFO]\t[TRAIN] Epoch=39/40, Step=20/66, loss=0.006896, lr=0.000587, time_each_step=0.38s, eta=0:0:48\n",
      "2021-04-18 22:04:48 [INFO]\t[TRAIN] Epoch=39/40, Step=22/66, loss=0.006915, lr=0.000577, time_each_step=0.15s, eta=0:0:37\n",
      "2021-04-18 22:04:48 [INFO]\t[TRAIN] Epoch=39/40, Step=24/66, loss=0.00791, lr=0.000568, time_each_step=0.14s, eta=0:0:36\n",
      "2021-04-18 22:04:48 [INFO]\t[TRAIN] Epoch=39/40, Step=26/66, loss=0.005357, lr=0.000558, time_each_step=0.13s, eta=0:0:36\n",
      "2021-04-18 22:04:48 [INFO]\t[TRAIN] Epoch=39/40, Step=28/66, loss=0.006498, lr=0.000549, time_each_step=0.12s, eta=0:0:35\n",
      "2021-04-18 22:04:49 [INFO]\t[TRAIN] Epoch=39/40, Step=30/66, loss=0.016199, lr=0.00054, time_each_step=0.11s, eta=0:0:34\n",
      "2021-04-18 22:04:49 [INFO]\t[TRAIN] Epoch=39/40, Step=32/66, loss=0.007559, lr=0.00053, time_each_step=0.1s, eta=0:0:34\n",
      "2021-04-18 22:04:49 [INFO]\t[TRAIN] Epoch=39/40, Step=34/66, loss=0.00818, lr=0.000521, time_each_step=0.09s, eta=0:0:33\n",
      "2021-04-18 22:04:49 [INFO]\t[TRAIN] Epoch=39/40, Step=36/66, loss=0.008582, lr=0.000511, time_each_step=0.09s, eta=0:0:33\n",
      "2021-04-18 22:04:49 [INFO]\t[TRAIN] Epoch=39/40, Step=38/66, loss=0.008329, lr=0.000502, time_each_step=0.08s, eta=0:0:33\n",
      "2021-04-18 22:04:49 [INFO]\t[TRAIN] Epoch=39/40, Step=40/66, loss=0.005216, lr=0.000492, time_each_step=0.08s, eta=0:0:32\n",
      "2021-04-18 22:04:49 [INFO]\t[TRAIN] Epoch=39/40, Step=42/66, loss=0.009762, lr=0.000483, time_each_step=0.08s, eta=0:0:32\n",
      "2021-04-18 22:04:50 [INFO]\t[TRAIN] Epoch=39/40, Step=44/66, loss=0.008561, lr=0.000473, time_each_step=0.07s, eta=0:0:32\n",
      "2021-04-18 22:04:50 [INFO]\t[TRAIN] Epoch=39/40, Step=46/66, loss=0.007407, lr=0.000464, time_each_step=0.07s, eta=0:0:32\n",
      "2021-04-18 22:04:50 [INFO]\t[TRAIN] Epoch=39/40, Step=48/66, loss=0.017142, lr=0.000454, time_each_step=0.07s, eta=0:0:32\n",
      "2021-04-18 22:04:50 [INFO]\t[TRAIN] Epoch=39/40, Step=50/66, loss=0.00591, lr=0.000444, time_each_step=0.07s, eta=0:0:31\n",
      "2021-04-18 22:04:50 [INFO]\t[TRAIN] Epoch=39/40, Step=52/66, loss=0.004907, lr=0.000435, time_each_step=0.07s, eta=0:0:31\n",
      "2021-04-18 22:04:50 [INFO]\t[TRAIN] Epoch=39/40, Step=54/66, loss=0.009412, lr=0.000425, time_each_step=0.07s, eta=0:0:31\n",
      "2021-04-18 22:04:50 [INFO]\t[TRAIN] Epoch=39/40, Step=56/66, loss=0.01046, lr=0.000415, time_each_step=0.07s, eta=0:0:31\n",
      "2021-04-18 22:04:51 [INFO]\t[TRAIN] Epoch=39/40, Step=58/66, loss=0.008057, lr=0.000406, time_each_step=0.07s, eta=0:0:31\n",
      "2021-04-18 22:04:51 [INFO]\t[TRAIN] Epoch=39/40, Step=60/66, loss=0.010974, lr=0.000396, time_each_step=0.07s, eta=0:0:31\n",
      "2021-04-18 22:04:51 [INFO]\t[TRAIN] Epoch=39/40, Step=62/66, loss=0.005157, lr=0.000386, time_each_step=0.07s, eta=0:0:31\n",
      "2021-04-18 22:04:51 [INFO]\t[TRAIN] Epoch=39/40, Step=64/66, loss=0.004969, lr=0.000376, time_each_step=0.07s, eta=0:0:30\n",
      "2021-04-18 22:04:51 [INFO]\t[TRAIN] Epoch=39/40, Step=66/66, loss=0.006944, lr=0.000366, time_each_step=0.07s, eta=0:0:30\n",
      "2021-04-18 22:04:51 [INFO]\t[TRAIN] Epoch 39 finished, loss=0.00756, lr=0.000522 .\n",
      "2021-04-18 22:04:51 [INFO]\tStart to evaluating(total_samples=76, total_steps=19)...\n"
     ]
    },
    {
     "name": "stderr",
     "output_type": "stream",
     "text": [
      "100%|██████████| 19/19 [00:06<00:00,  2.82it/s]\n"
     ]
    },
    {
     "name": "stdout",
     "output_type": "stream",
     "text": [
      "2021-04-18 22:04:58 [INFO]\t[EVAL] Finished, Epoch=39, miou=0.832731, category_iou=[0.99157974 0.67388177], oacc=0.991724, category_acc=[0.99870944 0.70907063], kappa=0.801024, category_F1-score=[0.99577207 0.80517248] .\n",
      "2021-04-18 22:04:58 [INFO]\tModel saved in output/deeplab/epoch_39.\n",
      "2021-04-18 22:04:58 [INFO]\tCurrent evaluated best model in eval_dataset is epoch_30, miou=0.8462166305857228\n",
      "2021-04-18 22:05:03 [INFO]\t[TRAIN] Epoch=40/40, Step=2/66, loss=0.00528, lr=0.000357, time_each_step=0.31s, eta=0:0:27\n",
      "2021-04-18 22:05:04 [INFO]\t[TRAIN] Epoch=40/40, Step=4/66, loss=0.011385, lr=0.000347, time_each_step=0.32s, eta=0:0:27\n",
      "2021-04-18 22:05:04 [INFO]\t[TRAIN] Epoch=40/40, Step=6/66, loss=0.006838, lr=0.000337, time_each_step=0.33s, eta=0:0:26\n",
      "2021-04-18 22:05:04 [INFO]\t[TRAIN] Epoch=40/40, Step=8/66, loss=0.00562, lr=0.000327, time_each_step=0.34s, eta=0:0:26\n",
      "2021-04-18 22:05:05 [INFO]\t[TRAIN] Epoch=40/40, Step=10/66, loss=0.006538, lr=0.000317, time_each_step=0.35s, eta=0:0:26\n",
      "2021-04-18 22:05:05 [INFO]\t[TRAIN] Epoch=40/40, Step=12/66, loss=0.004457, lr=0.000307, time_each_step=0.36s, eta=0:0:26\n",
      "2021-04-18 22:05:05 [INFO]\t[TRAIN] Epoch=40/40, Step=14/66, loss=0.013539, lr=0.000297, time_each_step=0.36s, eta=0:0:25\n",
      "2021-04-18 22:05:05 [INFO]\t[TRAIN] Epoch=40/40, Step=16/66, loss=0.007787, lr=0.000287, time_each_step=0.37s, eta=0:0:25\n",
      "2021-04-18 22:05:06 [INFO]\t[TRAIN] Epoch=40/40, Step=18/66, loss=0.005237, lr=0.000277, time_each_step=0.38s, eta=0:0:25\n",
      "2021-04-18 22:05:06 [INFO]\t[TRAIN] Epoch=40/40, Step=20/66, loss=0.008566, lr=0.000266, time_each_step=0.38s, eta=0:0:24\n",
      "2021-04-18 22:05:06 [INFO]\t[TRAIN] Epoch=40/40, Step=22/66, loss=0.009525, lr=0.000256, time_each_step=0.14s, eta=0:0:13\n",
      "2021-04-18 22:05:06 [INFO]\t[TRAIN] Epoch=40/40, Step=24/66, loss=0.005705, lr=0.000246, time_each_step=0.14s, eta=0:0:12\n",
      "2021-04-18 22:05:06 [INFO]\t[TRAIN] Epoch=40/40, Step=26/66, loss=0.005659, lr=0.000236, time_each_step=0.13s, eta=0:0:12\n",
      "2021-04-18 22:05:07 [INFO]\t[TRAIN] Epoch=40/40, Step=28/66, loss=0.008524, lr=0.000225, time_each_step=0.12s, eta=0:0:11\n",
      "2021-04-18 22:05:07 [INFO]\t[TRAIN] Epoch=40/40, Step=30/66, loss=0.011368, lr=0.000215, time_each_step=0.11s, eta=0:0:11\n",
      "2021-04-18 22:05:07 [INFO]\t[TRAIN] Epoch=40/40, Step=32/66, loss=0.006564, lr=0.000204, time_each_step=0.1s, eta=0:0:10\n",
      "2021-04-18 22:05:07 [INFO]\t[TRAIN] Epoch=40/40, Step=34/66, loss=0.007505, lr=0.000194, time_each_step=0.1s, eta=0:0:10\n",
      "2021-04-18 22:05:07 [INFO]\t[TRAIN] Epoch=40/40, Step=36/66, loss=0.008492, lr=0.000183, time_each_step=0.09s, eta=0:0:9\n",
      "2021-04-18 22:05:07 [INFO]\t[TRAIN] Epoch=40/40, Step=38/66, loss=0.006306, lr=0.000172, time_each_step=0.08s, eta=0:0:9\n",
      "2021-04-18 22:05:07 [INFO]\t[TRAIN] Epoch=40/40, Step=40/66, loss=0.005023, lr=0.000162, time_each_step=0.08s, eta=0:0:9\n",
      "2021-04-18 22:05:08 [INFO]\t[TRAIN] Epoch=40/40, Step=42/66, loss=0.009815, lr=0.000151, time_each_step=0.07s, eta=0:0:8\n",
      "2021-04-18 22:05:08 [INFO]\t[TRAIN] Epoch=40/40, Step=44/66, loss=0.007898, lr=0.00014, time_each_step=0.07s, eta=0:0:8\n",
      "2021-04-18 22:05:08 [INFO]\t[TRAIN] Epoch=40/40, Step=46/66, loss=0.007098, lr=0.000129, time_each_step=0.07s, eta=0:0:8\n",
      "2021-04-18 22:05:08 [INFO]\t[TRAIN] Epoch=40/40, Step=48/66, loss=0.006914, lr=0.000118, time_each_step=0.07s, eta=0:0:8\n",
      "2021-04-18 22:05:08 [INFO]\t[TRAIN] Epoch=40/40, Step=50/66, loss=0.005818, lr=0.000107, time_each_step=0.07s, eta=0:0:8\n",
      "2021-04-18 22:05:08 [INFO]\t[TRAIN] Epoch=40/40, Step=52/66, loss=0.00741, lr=9.5e-05, time_each_step=0.07s, eta=0:0:8\n",
      "2021-04-18 22:05:08 [INFO]\t[TRAIN] Epoch=40/40, Step=54/66, loss=0.005114, lr=8.4e-05, time_each_step=0.07s, eta=0:0:8\n",
      "2021-04-18 22:05:09 [INFO]\t[TRAIN] Epoch=40/40, Step=56/66, loss=0.006853, lr=7.2e-05, time_each_step=0.07s, eta=0:0:7\n",
      "2021-04-18 22:05:09 [INFO]\t[TRAIN] Epoch=40/40, Step=58/66, loss=0.006073, lr=6e-05, time_each_step=0.07s, eta=0:0:7\n",
      "2021-04-18 22:05:09 [INFO]\t[TRAIN] Epoch=40/40, Step=60/66, loss=0.008662, lr=4.8e-05, time_each_step=0.07s, eta=0:0:7\n",
      "2021-04-18 22:05:09 [INFO]\t[TRAIN] Epoch=40/40, Step=62/66, loss=0.014152, lr=3.5e-05, time_each_step=0.07s, eta=0:0:7\n",
      "2021-04-18 22:05:09 [INFO]\t[TRAIN] Epoch=40/40, Step=64/66, loss=0.007919, lr=2.2e-05, time_each_step=0.07s, eta=0:0:7\n",
      "2021-04-18 22:05:09 [INFO]\t[TRAIN] Epoch=40/40, Step=66/66, loss=0.009035, lr=8e-06, time_each_step=0.07s, eta=0:0:7\n",
      "2021-04-18 22:05:09 [INFO]\t[TRAIN] Epoch 40 finished, loss=0.00751, lr=0.000193 .\n",
      "2021-04-18 22:05:09 [INFO]\tStart to evaluating(total_samples=76, total_steps=19)...\n"
     ]
    },
    {
     "name": "stderr",
     "output_type": "stream",
     "text": [
      "100%|██████████| 19/19 [00:06<00:00,  2.87it/s]\n"
     ]
    },
    {
     "name": "stdout",
     "output_type": "stream",
     "text": [
      "2021-04-18 22:05:16 [INFO]\t[EVAL] Finished, Epoch=40, miou=0.844539, category_iou=[0.99248988 0.69658868], oacc=0.992617, category_acc=[0.99855554 0.73948001], kappa=0.817442, category_F1-score=[0.99623078 0.82116389] .\n",
      "2021-04-18 22:05:16 [INFO]\tModel saved in output/deeplab/epoch_40.\n",
      "2021-04-18 22:05:16 [INFO]\tCurrent evaluated best model in eval_dataset is epoch_30, miou=0.8462166305857228\n"
     ]
    }
   ],
   "source": [
    "num_classes = len(train_dataset.labels)\n",
    "model = pdx.seg.DeepLabv3p(num_classes=num_classes)\n",
    "model.train(\n",
    "    num_epochs=40,\n",
    "    train_dataset=train_dataset,\n",
    "    train_batch_size=4,\n",
    "    eval_dataset=eval_dataset,\n",
    "    learning_rate=0.01,\n",
    "    save_interval_epochs=1,\n",
    "    save_dir='output/deeplab',\n",
    "    use_vdl=True)"
   ]
  },
  {
   "cell_type": "markdown",
   "metadata": {
    "collapsed": false
   },
   "source": [
    "## 4 模型预测"
   ]
  },
  {
   "cell_type": "code",
   "execution_count": 7,
   "metadata": {
    "collapsed": false
   },
   "outputs": [
    {
     "name": "stdout",
     "output_type": "stream",
     "text": [
      "2021-04-18 22:08:09 [INFO]\tModel[DeepLabv3p] loaded.\n",
      "2021-04-18 22:08:09 [INFO]\tThe visualized result is saved as ./output/deeplab/visualize_H0005.jpg\n"
     ]
    }
   ],
   "source": [
    "import paddlex as pdx\n",
    "model = pdx.load_model('output/deeplab/best_model')\n",
    "image_name = 'optic_disc_seg/JPEGImages/H0005.jpg'\n",
    "result = model.predict(image_name)\n",
    "pdx.seg.visualize(image_name, result, weight=0.4, save_dir='./output/deeplab')"
   ]
  },
  {
   "cell_type": "code",
   "execution_count": 13,
   "metadata": {
    "collapsed": false
   },
   "outputs": [
    {
     "data": {
      "image/png": "[encoded data removed]",
      "text/plain": [
       "<PIL.JpegImagePlugin.JpegImageFile image mode=RGB size=512x496 at 0x7F2B240CA890>"
      ]
     },
     "metadata": {},
     "output_type": "display_data"
    }
   ],
   "source": [
    "# from PIL import Image\r\n",
    "# img=Image.open(path)\r\n",
    "from PIL import Image\r\n",
    "display(Image.open(\"/home/aistudio/output/deeplab/visualize_H0005.jpg\"))"
   ]
  },
  {
   "cell_type": "code",
   "execution_count": null,
   "metadata": {
    "collapsed": false
   },
   "outputs": [],
   "source": []
  }
 ],
 "metadata": {
  "kernelspec": {
   "display_name": "PaddlePaddle 1.8.4 (Python 3.5)",
   "language": "python",
   "name": "py35-paddle1.2.0"
  },
  "language_info": {
   "codemirror_mode": {
    "name": "ipython",
    "version": 3
   },
   "file_extension": ".py",
   "mimetype": "text/x-python",
   "name": "python",
   "nbconvert_exporter": "python",
   "pygments_lexer": "ipython3",
   "version": "3.7.4"
  }
 },
 "nbformat": 4,
 "nbformat_minor": 1
}
